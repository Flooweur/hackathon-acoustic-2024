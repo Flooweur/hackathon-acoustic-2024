{
 "cells": [
  {
   "cell_type": "code",
   "execution_count": 10,
   "metadata": {},
   "outputs": [
    {
     "name": "stdout",
     "output_type": "stream",
     "text": [
      "Shape RIRs : (1000, 4, 667200) \n",
      "Shape centroid : (1000, 2) \n"
     ]
    }
   ],
   "source": [
    "import numpy as np\n",
    "import os \n",
    "\n",
    "\n",
    "DATASET_PATH = \"/home/onyxia/work/hackathon-acoustic-2024/data/LivingRoom_preprocessed_hack/Human1/\"\n",
    "\n",
    "RIRs = np.load(os.path.join(DATASET_PATH, \"deconvoled_trim.npy\"), mmap_mode='r')\n",
    "print(f\"Shape RIRs : {RIRs.shape} \")\n",
    "centroid = np.load(os.path.join(DATASET_PATH, \"centroid.npy\"), mmap_mode='r')\n",
    "print(f\"Shape centroid : {centroid.shape} \")"
   ]
  },
  {
   "cell_type": "code",
   "execution_count": 12,
   "metadata": {},
   "outputs": [],
   "source": [
    "def normalize_centroid(centroid):\n",
    "    _max = np.array([500, 2000])\n",
    "    _min = np.array([-4000, -4000])\n",
    "    return 2 * ((centroid - _min) / (_max - _min)) - 1\n",
    "\n",
    "human1_centroid_norm = normalize_centroid(centroid)"
   ]
  },
  {
   "cell_type": "code",
   "execution_count": 6,
   "metadata": {},
   "outputs": [],
   "source": [
    "from sklearn.neighbors import KNeighborsRegressor\n",
    "from sklearn.model_selection import train_test_split\n",
    "from sklearn.metrics import mean_squared_error\n",
    "from sklearn.decomposition import PCA\n",
    "from sklearn.preprocessing import StandardScaler\n",
    "\n",
    "\n",
    "rir_data = np.reshape(RIRs, (1000, -1))\n",
    "\n",
    "# Keep only the first 100 principal components\n",
    "pca = PCA(n_components=100)\n",
    "rir_data_pca = pca.fit_transform(rir_data)"
   ]
  },
  {
   "cell_type": "code",
   "execution_count": 18,
   "metadata": {},
   "outputs": [
    {
     "data": {
      "text/plain": [
       "(1000, 2)"
      ]
     },
     "execution_count": 18,
     "metadata": {},
     "output_type": "execute_result"
    }
   ],
   "source": [
    "rir_data_pca.shape\n",
    "human1_centroid_norm.shape"
   ]
  },
  {
   "cell_type": "code",
   "execution_count": 22,
   "metadata": {},
   "outputs": [
    {
     "name": "stdout",
     "output_type": "stream",
     "text": [
      "Accuracy: 0.7878071951784018\n"
     ]
    }
   ],
   "source": [
    "from sklearn.neighbors import KNeighborsRegressor\n",
    "from sklearn.model_selection import train_test_split\n",
    "from sklearn.metrics import mean_squared_error, r2_score\n",
    "\n",
    "\n",
    "X_train, X_test, y_train, y_test = train_test_split(rir_data_pca, human1_centroid_norm, test_size=0.2, random_state=42)\n",
    "\n",
    "# Create KNN model with Euclidean distance metric\n",
    "knn  = KNeighborsRegressor(n_neighbors=5, metric='euclidean')\n",
    "\n",
    "# Fit the model on training data\n",
    "knn.fit(X_train, y_train)\n",
    "\n",
    "# Make predictions on test data\n",
    "y_pred = knn.predict(X_test)\n",
    "\n",
    "# Evaluate the model's performance\n",
    "\n"
   ]
  },
  {
   "cell_type": "code",
   "execution_count": 25,
   "metadata": {},
   "outputs": [
    {
     "name": "stdout",
     "output_type": "stream",
     "text": [
      "Mean Distance Error in cm: 62.59923696609261\n",
      "Median Distance Error: 487.1018729950647\n",
      "Maximum Distance Error: 2410.9416551384993\n"
     ]
    }
   ],
   "source": [
    "_max = np.array([500, 2000])\n",
    "_min = np.array([-4000, -4000])\n",
    "\n",
    "def unnormalize(x):\n",
    "        return (x + 1) / 2 * (_max - _min) + _min\n",
    "    \n",
    "actual = unnormalize(y_test)\n",
    "predicted = unnormalize(y_pred)\n",
    "\n",
    "# Calculate Euclidean distance error\n",
    "distance_error = np.linalg.norm(predicted - actual, axis=1)\n",
    "print(\"Mean Distance Error in cm:\", np.mean(distance_error) / 10)\n",
    "print(\"Median Distance Error:\", np.median(distance_error))\n",
    "print(\"Maximum Distance Error:\", np.max(distance_error))\n"
   ]
  },
  {
   "cell_type": "code",
   "execution_count": null,
   "metadata": {},
   "outputs": [],
   "source": []
  }
 ],
 "metadata": {
  "kernelspec": {
   "display_name": "base",
   "language": "python",
   "name": "python3"
  },
  "language_info": {
   "codemirror_mode": {
    "name": "ipython",
    "version": 3
   },
   "file_extension": ".py",
   "mimetype": "text/x-python",
   "name": "python",
   "nbconvert_exporter": "python",
   "pygments_lexer": "ipython3",
   "version": "3.11.6"
  }
 },
 "nbformat": 4,
 "nbformat_minor": 2
}
