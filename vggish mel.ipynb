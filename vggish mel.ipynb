{
 "cells": [
  {
   "cell_type": "code",
   "execution_count": 1,
   "metadata": {},
   "outputs": [],
   "source": [
    "import numpy as np"
   ]
  },
  {
   "cell_type": "markdown",
   "metadata": {},
   "source": [
    "## Loading the human1 data"
   ]
  },
  {
   "cell_type": "code",
   "execution_count": 2,
   "metadata": {},
   "outputs": [
    {
     "data": {
      "text/plain": [
       "array([[[ 9.07240337e-06,  1.71257434e-05,  1.22597794e-05, ...,\n",
       "          8.86178623e-06,  1.40686043e-05,  1.06616626e-05],\n",
       "        [-8.23853679e-06, -8.23373648e-06, -8.74563466e-06, ...,\n",
       "          2.87394778e-06, -8.90485808e-06, -3.52464713e-06],\n",
       "        [ 6.62780906e-07, -1.40201587e-06,  1.83228190e-06, ...,\n",
       "         -1.06218545e-06,  8.53497477e-06,  2.28155182e-06],\n",
       "        [ 8.11119719e-07, -2.47451499e-06,  5.82140547e-06, ...,\n",
       "          7.73804004e-06,  2.29692650e-05,  1.10566034e-05]],\n",
       "\n",
       "       [[ 1.64466037e-05,  1.53698293e-05,  1.91599720e-05, ...,\n",
       "          1.76548729e-05,  1.70955263e-05,  1.41169767e-05],\n",
       "        [ 1.05826217e-07,  9.13145777e-06,  1.76140716e-07, ...,\n",
       "          1.21369967e-05,  1.55958387e-05,  1.23088676e-05],\n",
       "        [ 7.06836090e-06,  3.26818258e-06,  7.15508941e-06, ...,\n",
       "          4.64980394e-06,  8.96262554e-06,  6.55734584e-06],\n",
       "        [-3.18089551e-05, -8.93297238e-06, -2.51026504e-05, ...,\n",
       "         -7.02741545e-07,  1.34268867e-05,  3.24307348e-06]],\n",
       "\n",
       "       [[ 4.71092753e-05,  4.42863784e-05,  4.81883108e-05, ...,\n",
       "          5.11715079e-05,  4.54165129e-05,  4.68136932e-05],\n",
       "        [-2.25045878e-05, -1.77392903e-05, -2.29746092e-05, ...,\n",
       "         -1.16080564e-05, -1.33936874e-05, -1.49674725e-05],\n",
       "        [-7.06177207e-06, -3.24991493e-06, -3.82365158e-07, ...,\n",
       "         -2.51065717e-06, -8.64210142e-06, -1.25162501e-06],\n",
       "        [ 7.42783523e-05, -1.04295970e-04, -1.18935568e-04, ...,\n",
       "         -3.82503276e-05, -3.20346385e-06,  2.36954511e-05]],\n",
       "\n",
       "       ...,\n",
       "\n",
       "       [[-9.19931699e-06, -1.12566586e-05, -6.25403072e-06, ...,\n",
       "         -6.18328158e-06, -7.30752890e-06, -5.60423996e-06],\n",
       "        [-8.76535523e-06, -4.28911699e-06, -5.81078848e-06, ...,\n",
       "         -3.45416925e-06, -7.85465454e-06, -3.31127535e-06],\n",
       "        [-3.47633295e-06,  1.70215810e-06, -5.54926203e-07, ...,\n",
       "          1.27369481e-06, -1.74354363e-06,  1.86796979e-06],\n",
       "        [ 2.13691851e-06,  1.01367950e-05,  1.14066588e-05, ...,\n",
       "         -1.72935925e-05, -1.24792969e-05, -1.97716799e-05]],\n",
       "\n",
       "       [[-3.31293450e-06,  8.98478265e-06,  3.39539952e-06, ...,\n",
       "         -6.63729168e-07, -1.82116059e-06, -4.22379713e-07],\n",
       "        [ 2.46191144e-06,  2.05640094e-06,  3.69124427e-06, ...,\n",
       "          3.03227239e-06,  5.80062397e-06,  2.60468755e-06],\n",
       "        [ 2.60216098e-06,  3.06390689e-06, -6.06109268e-07, ...,\n",
       "          8.91660693e-06, -2.67310270e-06,  7.77940932e-06],\n",
       "        [-1.12466259e-05, -7.33926136e-05, -1.92652078e-05, ...,\n",
       "          1.02715085e-05, -1.49204689e-05, -1.85605404e-05]],\n",
       "\n",
       "       [[-2.18067839e-06, -8.45159684e-06,  6.28021041e-07, ...,\n",
       "         -7.29226031e-06, -9.38796529e-06, -1.06312000e-05],\n",
       "        [ 5.12593260e-06,  6.90264642e-06,  6.00208568e-06, ...,\n",
       "          2.50897233e-06, -1.04963137e-05, -1.37404015e-06],\n",
       "        [ 7.75929493e-06,  1.52079519e-06,  7.64413744e-06, ...,\n",
       "          2.97681993e-07,  9.32359671e-06, -5.47995626e-07],\n",
       "        [-4.47002685e-06,  5.33304410e-06,  8.83690245e-06, ...,\n",
       "          1.00034840e-05,  4.90839875e-06,  1.29770433e-05]]],\n",
       "      dtype=float32)"
      ]
     },
     "execution_count": 2,
     "metadata": {},
     "output_type": "execute_result"
    }
   ],
   "source": [
    "human1_deconv = np.load('data/LivingRoom_preprocessed_hack/Human1/deconvoled_trim.npy')\n",
    "human1_deconv"
   ]
  },
  {
   "cell_type": "code",
   "execution_count": 3,
   "metadata": {},
   "outputs": [
    {
     "data": {
      "text/plain": [
       "(1000, 4, 667200)"
      ]
     },
     "execution_count": 3,
     "metadata": {},
     "output_type": "execute_result"
    }
   ],
   "source": [
    "human1_deconv.shape"
   ]
  },
  {
   "cell_type": "code",
   "execution_count": 4,
   "metadata": {},
   "outputs": [
    {
     "data": {
      "text/plain": [
       "array([[-3231.3293467 , -1127.87771457],\n",
       "       [-3198.54107875,  -744.5100656 ],\n",
       "       [-3192.9776274 ,  -248.26678827],\n",
       "       ...,\n",
       "       [-1717.89923578, -3166.59648491],\n",
       "       [-1808.60337549, -2779.13038427],\n",
       "       [   44.43741322,   106.48353609]])"
      ]
     },
     "execution_count": 4,
     "metadata": {},
     "output_type": "execute_result"
    }
   ],
   "source": [
    "human1_centroid = np.load('data/LivingRoom_preprocessed_hack/Human1/centroid.npy')\n",
    "human1_centroid"
   ]
  },
  {
   "cell_type": "code",
   "execution_count": 5,
   "metadata": {},
   "outputs": [
    {
     "data": {
      "text/plain": [
       "(1000, 2)"
      ]
     },
     "execution_count": 5,
     "metadata": {},
     "output_type": "execute_result"
    }
   ],
   "source": [
    "human1_centroid.shape"
   ]
  },
  {
   "cell_type": "markdown",
   "metadata": {},
   "source": [
    "## Splitting the data into train and test sets"
   ]
  },
  {
   "cell_type": "code",
   "execution_count": 6,
   "metadata": {},
   "outputs": [],
   "source": [
    "from sklearn.model_selection import train_test_split\n",
    "import torch\n",
    "\n",
    "X_train, X_test, y_train, y_test = train_test_split(human1_deconv, human1_centroid, test_size=0.2, random_state=42)\n",
    "\n",
    "X_train, X_valid, y_train, y_valid = train_test_split(X_train, y_train, test_size=0.1, random_state=42)\n",
    "\n",
    "X_train = torch.Tensor(X_train)\n",
    "X_test = torch.Tensor(X_test)\n",
    "X_valid = torch.Tensor(X_valid)\n",
    "\n",
    "y_train = torch.Tensor(y_train)\n",
    "y_test = torch.Tensor(y_test)\n",
    "y_valid = torch.Tensor(y_valid)"
   ]
  },
  {
   "cell_type": "markdown",
   "metadata": {},
   "source": [
    "## Preprocessing the data"
   ]
  },
  {
   "cell_type": "markdown",
   "metadata": {},
   "source": [
    "### Featurization with the spectrogram"
   ]
  },
  {
   "cell_type": "code",
   "execution_count": 7,
   "metadata": {},
   "outputs": [],
   "source": [
    "import torchaudio\n",
    "import torchaudio.transforms as T\n",
    "\n",
    "def audio_to_melspectrogram(audio, sample_rate=44100, n_mels=64, n_fft=2048, hop_length=512):\n",
    "    audio = torch.tensor(audio, dtype=torch.float32)\n",
    "    if audio.ndim == 1:\n",
    "        audio = audio.unsqueeze(0)\n",
    "    transformer = torchaudio.transforms.MelSpectrogram(sample_rate=sample_rate, n_fft=n_fft, hop_length=hop_length, n_mels=n_mels)\n",
    "    melspectrogram = transformer(audio)\n",
    "    return melspectrogram.squeeze(0)\n",
    "\n"
   ]
  },
  {
   "cell_type": "markdown",
   "metadata": {},
   "source": [
    "### Class to load the data into pytorch with DataLoader"
   ]
  },
  {
   "cell_type": "code",
   "execution_count": 8,
   "metadata": {},
   "outputs": [],
   "source": [
    "from torch.utils.data import Dataset, DataLoader\n",
    "\n",
    "class AudioDataset(Dataset):\n",
    "    def __init__(self, audio_data, labels, transform=None):\n",
    "        self.audio_data = audio_data\n",
    "        _max = torch.Tensor([500, 2000])\n",
    "        _min = torch.Tensor([-4000, -4000])\n",
    "        self.labels = (labels - _min) / (_max - _min)\n",
    "        self.transform = transform\n",
    "\n",
    "    def __len__(self):\n",
    "        return len(self.audio_data)\n",
    "\n",
    "    def __getitem__(self, idx):\n",
    "        audio_signal = self.audio_data[idx]\n",
    "        label = self.labels[idx]\n",
    "        if self.transform:\n",
    "            audio_signal = self.transform(audio_signal)\n",
    "        return audio_signal, label\n",
    "\n",
    "def transform_to_melspectrogram(audio_signal):\n",
    "    melspec = audio_to_melspectrogram(torch.tensor(audio_signal, dtype=torch.float32))\n",
    "    return melspec\n"
   ]
  },
  {
   "cell_type": "code",
   "execution_count": 9,
   "metadata": {},
   "outputs": [],
   "source": [
    "train_dataset = AudioDataset(X_train, y_train, transform=transform_to_melspectrogram)\n",
    "test_dataset = AudioDataset(X_test, y_test, transform=transform_to_melspectrogram)\n",
    "valid_dataset = AudioDataset(X_valid, y_valid, transform=transform_to_melspectrogram)\n",
    "\n",
    "batch_size = 16\n",
    "\n",
    "train_loader = DataLoader(train_dataset, batch_size=batch_size, shuffle=True)\n",
    "test_loader = DataLoader(test_dataset, batch_size=batch_size, shuffle=False)\n",
    "valid_loader = DataLoader(valid_dataset, batch_size=batch_size, shuffle=False)"
   ]
  },
  {
   "cell_type": "code",
   "execution_count": 10,
   "metadata": {},
   "outputs": [
    {
     "data": {
      "text/plain": [
       "torch.Size([720, 4, 667200])"
      ]
     },
     "execution_count": 10,
     "metadata": {},
     "output_type": "execute_result"
    }
   ],
   "source": [
    "train_dataset.audio_data.shape"
   ]
  },
  {
   "cell_type": "markdown",
   "metadata": {},
   "source": [
    "## VGGish Model"
   ]
  },
  {
   "cell_type": "code",
   "execution_count": 11,
   "metadata": {},
   "outputs": [],
   "source": [
    "import torch.nn as nn\n",
    "import torch.nn.functional as F\n",
    "\n",
    "class VGGishModel(nn.Module):\n",
    "    def __init__(self):\n",
    "        super(VGGishModel, self).__init__()\n",
    "        self.featurization = nn.Sequential(\n",
    "            nn.Conv2d(4, 64, kernel_size=3, padding=1),\n",
    "            nn.ReLU(),\n",
    "            nn.MaxPool2d(kernel_size=2, stride=2),\n",
    "            nn.Conv2d(64, 128, kernel_size=3, padding=1),\n",
    "            nn.ReLU(),\n",
    "            nn.MaxPool2d(kernel_size=2, stride=2),\n",
    "            nn.Conv2d(128, 256, kernel_size=3, padding=1),\n",
    "            nn.ReLU(),\n",
    "            nn.Conv2d(256, 256, kernel_size=3, padding=1),\n",
    "            nn.ReLU(),\n",
    "            nn.MaxPool2d(kernel_size=2, stride=2),\n",
    "            nn.Conv2d(256, 512, kernel_size=3, padding=1),\n",
    "            nn.ReLU(),\n",
    "            nn.Conv2d(512, 512, kernel_size=3, padding=1),\n",
    "            nn.ReLU(),\n",
    "            nn.MaxPool2d(kernel_size=2, stride=2)\n",
    "        )\n",
    "        self.xy = nn.Sequential(\n",
    "            nn.Linear(165888, 4096),\n",
    "            nn.ReLU(),\n",
    "            nn.Dropout(0.5),\n",
    "            nn.Linear(4096, 4096),\n",
    "            nn.ReLU(),\n",
    "            nn.Dropout(0.5),\n",
    "            nn.Linear(4096, 2),\n",
    "            nn.Sigmoid()\n",
    "        )\n",
    "    \n",
    "    def forward(self, x):\n",
    "        x = self.featurization(x)\n",
    "        x = torch.flatten(x, 1)\n",
    "        x = self.xy(x)\n",
    "        return x\n"
   ]
  },
  {
   "cell_type": "markdown",
   "metadata": {},
   "source": [
    "### Training the model"
   ]
  },
  {
   "cell_type": "code",
   "execution_count": 12,
   "metadata": {},
   "outputs": [],
   "source": [
    "_max = np.array([500, 2000])\n",
    "_min = np.array([-4000, -4000])\n",
    "\n",
    "def unnormalize(x):\n",
    "    return (x + 1) / 2 * (_max - _min) + _min"
   ]
  },
  {
   "cell_type": "code",
   "execution_count": 13,
   "metadata": {},
   "outputs": [
    {
     "name": "stderr",
     "output_type": "stream",
     "text": [
      "/tmp/ipykernel_23915/3590247952.py:22: UserWarning: To copy construct from a tensor, it is recommended to use sourceTensor.clone().detach() or sourceTensor.clone().detach().requires_grad_(True), rather than torch.tensor(sourceTensor).\n",
      "  melspec = audio_to_melspectrogram(torch.tensor(audio_signal, dtype=torch.float32))\n",
      "/tmp/ipykernel_23915/371298476.py:5: UserWarning: To copy construct from a tensor, it is recommended to use sourceTensor.clone().detach() or sourceTensor.clone().detach().requires_grad_(True), rather than torch.tensor(sourceTensor).\n",
      "  audio = torch.tensor(audio, dtype=torch.float32)\n"
     ]
    },
    {
     "name": "stdout",
     "output_type": "stream",
     "text": [
      "Epoch 1, Training Loss: 0.055432270881202485, Validation Loss: 0.02101017076235551, Average Test Distance Error: 857.631187570654, STD of Test Distance Errors: 291.99331174171346\n",
      "Epoch 2, Training Loss: 0.05556981580124961, Validation Loss: 0.020832798515374843, Average Test Distance Error: 845.3112108982725, STD of Test Distance Errors: 303.53521626245515\n",
      "Epoch 3, Training Loss: 0.055510253210862476, Validation Loss: 0.02093857927964284, Average Test Distance Error: 844.5385221064655, STD of Test Distance Errors: 301.70812176409794\n",
      "Epoch 4, Training Loss: 0.05531244228283564, Validation Loss: 0.020821567338246565, Average Test Distance Error: 845.5699011261746, STD of Test Distance Errors: 303.060579059969\n",
      "Epoch 5, Training Loss: 0.05534784280591541, Validation Loss: 0.02078718949968998, Average Test Distance Error: 848.993091392901, STD of Test Distance Errors: 297.79565539462897\n",
      "Epoch 6, Training Loss: 0.055133755836221904, Validation Loss: 0.021260125419268243, Average Test Distance Error: 848.4173034331704, STD of Test Distance Errors: 292.4388691037342\n",
      "Epoch 7, Training Loss: 0.05527054179045889, Validation Loss: 0.020714772721895806, Average Test Distance Error: 846.3284393538232, STD of Test Distance Errors: 303.8491160728126\n",
      "Epoch 8, Training Loss: 0.05520756824149026, Validation Loss: 0.020450845647316713, Average Test Distance Error: 845.5155164180204, STD of Test Distance Errors: 300.1018701326102\n",
      "Epoch 9, Training Loss: 0.054147252357668346, Validation Loss: 0.017053316418941204, Average Test Distance Error: 813.617889475265, STD of Test Distance Errors: 294.80887611573706\n",
      "Epoch 10, Training Loss: 0.051559731447034414, Validation Loss: 0.01697128524000828, Average Test Distance Error: 813.2819356709119, STD of Test Distance Errors: 299.3811885730997\n",
      "Epoch 11, Training Loss: 0.0457178794261482, Validation Loss: 0.01590853872207495, Average Test Distance Error: 807.1076926733332, STD of Test Distance Errors: 310.83147726419907\n",
      "Epoch 12, Training Loss: 0.043801575899124146, Validation Loss: 0.012188058633070726, Average Test Distance Error: 732.8952696192681, STD of Test Distance Errors: 331.3462288923452\n",
      "Epoch 13, Training Loss: 0.0425322898146179, Validation Loss: 0.015297596844343038, Average Test Distance Error: 781.7205483086009, STD of Test Distance Errors: 316.01234560917516\n",
      "Epoch 14, Training Loss: 0.03985236659646034, Validation Loss: 0.012126589910342144, Average Test Distance Error: 725.3385547438583, STD of Test Distance Errors: 331.67689372477\n",
      "Epoch 15, Training Loss: 0.03821542751457956, Validation Loss: 0.01229112409055233, Average Test Distance Error: 710.3430051487745, STD of Test Distance Errors: 358.1775582250035\n",
      "Epoch 16, Training Loss: 0.035397499385807246, Validation Loss: 0.012112947324147591, Average Test Distance Error: 711.4415712201944, STD of Test Distance Errors: 331.20889036366344\n",
      "Epoch 17, Training Loss: 0.035758922580215666, Validation Loss: 0.010961131407664372, Average Test Distance Error: 678.8852216707147, STD of Test Distance Errors: 356.3434603310518\n",
      "Epoch 18, Training Loss: 0.03214669393168555, Validation Loss: 0.00878026895225048, Average Test Distance Error: 640.0491801031541, STD of Test Distance Errors: 325.46998076442765\n",
      "Epoch 19, Training Loss: 0.031210364484124713, Validation Loss: 0.00869485979469923, Average Test Distance Error: 633.775381966914, STD of Test Distance Errors: 315.70444953409\n",
      "Epoch 20, Training Loss: 0.028923959409197172, Validation Loss: 0.008764964456741627, Average Test Distance Error: 615.4510100275319, STD of Test Distance Errors: 312.09571234697717\n",
      "Epoch 21, Training Loss: 0.025245911876360574, Validation Loss: 0.006619761769588177, Average Test Distance Error: 518.3825880496202, STD of Test Distance Errors: 315.2150592073001\n",
      "Epoch 22, Training Loss: 0.019982505962252615, Validation Loss: 0.0067223794758319855, Average Test Distance Error: 528.5603160035296, STD of Test Distance Errors: 338.460797666834\n",
      "Epoch 23, Training Loss: 0.018404920999374654, Validation Loss: 0.009826214697498541, Average Test Distance Error: 549.9563730131412, STD of Test Distance Errors: 343.75864571541166\n",
      "Epoch 24, Training Loss: 0.015436871122154925, Validation Loss: 0.007270289728274712, Average Test Distance Error: 463.8722586657887, STD of Test Distance Errors: 321.1032420239788\n",
      "Epoch 25, Training Loss: 0.014528465643525123, Validation Loss: 0.005064535026366894, Average Test Distance Error: 429.5372011626018, STD of Test Distance Errors: 303.87106112572195\n",
      "Epoch 26, Training Loss: 0.01160139540831248, Validation Loss: 0.004708833276079251, Average Test Distance Error: 342.26687268683673, STD of Test Distance Errors: 229.80775861439503\n",
      "Epoch 27, Training Loss: 0.008553562385754453, Validation Loss: 0.004966729893707312, Average Test Distance Error: 364.2161306742567, STD of Test Distance Errors: 226.63271728081324\n",
      "Epoch 28, Training Loss: 0.007996885675109096, Validation Loss: 0.0035504969911506544, Average Test Distance Error: 320.3416648254378, STD of Test Distance Errors: 207.05355126177048\n",
      "Epoch 29, Training Loss: 0.006819977787219816, Validation Loss: 0.0025453913885240373, Average Test Distance Error: 275.0732279994372, STD of Test Distance Errors: 190.30209265483523\n",
      "Epoch 30, Training Loss: 0.006629497242263622, Validation Loss: 0.0030863408644038895, Average Test Distance Error: 277.25457560536006, STD of Test Distance Errors: 194.79456167296885\n",
      "Epoch 31, Training Loss: 0.005234116258927517, Validation Loss: 0.0023560144293766757, Average Test Distance Error: 258.55541697028673, STD of Test Distance Errors: 173.75095977408407\n",
      "Epoch 32, Training Loss: 0.005049995250172085, Validation Loss: 0.002342251129448414, Average Test Distance Error: 257.6898603520025, STD of Test Distance Errors: 177.571542311558\n",
      "Epoch 33, Training Loss: 0.005229934082470007, Validation Loss: 0.0030316532446214785, Average Test Distance Error: 284.08330614262746, STD of Test Distance Errors: 175.4000057415726\n",
      "Epoch 34, Training Loss: 0.0044020730691651504, Validation Loss: 0.0019830930798959276, Average Test Distance Error: 234.4470748588111, STD of Test Distance Errors: 170.38524647009964\n",
      "Epoch 35, Training Loss: 0.003901016833778057, Validation Loss: 0.0022556307868888746, Average Test Distance Error: 233.54409428666517, STD of Test Distance Errors: 159.37072231844425\n",
      "Epoch 36, Training Loss: 0.00363859547716048, Validation Loss: 0.0020140371858500517, Average Test Distance Error: 242.46109643663553, STD of Test Distance Errors: 157.2056758926723\n",
      "Epoch 37, Training Loss: 0.0032654747780826356, Validation Loss: 0.0016408624987189586, Average Test Distance Error: 224.40674519241145, STD of Test Distance Errors: 160.88407059727504\n",
      "Epoch 38, Training Loss: 0.0032922978564682934, Validation Loss: 0.0015795837120654492, Average Test Distance Error: 220.58609235900877, STD of Test Distance Errors: 161.15042490851897\n",
      "Epoch 39, Training Loss: 0.0029040508334421448, Validation Loss: 0.001586255689079945, Average Test Distance Error: 216.26316309406, STD of Test Distance Errors: 155.27653797920516\n",
      "Epoch 40, Training Loss: 0.0024412265125041206, Validation Loss: 0.0015981003212241025, Average Test Distance Error: 210.97041963957432, STD of Test Distance Errors: 151.5470880756214\n",
      "Epoch 41, Training Loss: 0.002666409047217005, Validation Loss: 0.0019349188973697333, Average Test Distance Error: 221.0774931387789, STD of Test Distance Errors: 153.8929592193206\n",
      "Epoch 42, Training Loss: 0.002620666603454285, Validation Loss: 0.001641730276437906, Average Test Distance Error: 201.19333512511167, STD of Test Distance Errors: 130.81993911833956\n",
      "Epoch 43, Training Loss: 0.0023740545251510208, Validation Loss: 0.001553582761866542, Average Test Distance Error: 203.891351231352, STD of Test Distance Errors: 133.41581746129995\n",
      "Epoch 44, Training Loss: 0.0022906859922740197, Validation Loss: 0.001367299620491954, Average Test Distance Error: 200.00661304045877, STD of Test Distance Errors: 136.11026127073393\n",
      "Epoch 45, Training Loss: 0.0018763521052379574, Validation Loss: 0.0013611613450428615, Average Test Distance Error: 199.45143569548077, STD of Test Distance Errors: 132.0749926003995\n",
      "Epoch 46, Training Loss: 0.002170651775991751, Validation Loss: 0.00146024996558061, Average Test Distance Error: 199.28931076085834, STD of Test Distance Errors: 135.48528461359655\n",
      "Epoch 47, Training Loss: 0.0020537396685944664, Validation Loss: 0.0013912409687271486, Average Test Distance Error: 197.11364660615763, STD of Test Distance Errors: 126.84691453473462\n",
      "Epoch 48, Training Loss: 0.002352713777994116, Validation Loss: 0.001814209265061296, Average Test Distance Error: 198.8613447910259, STD of Test Distance Errors: 133.07406375761605\n",
      "Epoch 49, Training Loss: 0.0019691302984332043, Validation Loss: 0.0013217460005902327, Average Test Distance Error: 193.60721873010573, STD of Test Distance Errors: 129.8679264411895\n",
      "Epoch 50, Training Loss: 0.0016952811623923481, Validation Loss: 0.0013976871895675475, Average Test Distance Error: 186.97140726302604, STD of Test Distance Errors: 123.89025572731296\n",
      "Epoch 51, Training Loss: 0.0015156451819671524, Validation Loss: 0.0014895814864967878, Average Test Distance Error: 199.6562916769115, STD of Test Distance Errors: 126.15840016275446\n",
      "Epoch 52, Training Loss: 0.0016008906156962945, Validation Loss: 0.0012368445571225423, Average Test Distance Error: 175.74065717328423, STD of Test Distance Errors: 112.31595495033523\n",
      "Epoch 53, Training Loss: 0.001427222348542677, Validation Loss: 0.0014130381437448354, Average Test Distance Error: 181.66810518486957, STD of Test Distance Errors: 115.2961050924714\n",
      "Epoch 54, Training Loss: 0.0012810745457601217, Validation Loss: 0.0012315129861235619, Average Test Distance Error: 177.49466905177826, STD of Test Distance Errors: 115.22581235587937\n",
      "Epoch 55, Training Loss: 0.001922319023611231, Validation Loss: 0.002089373516635253, Average Test Distance Error: 214.9437350198145, STD of Test Distance Errors: 148.97326872270958\n",
      "Epoch 56, Training Loss: 0.0016173991245321102, Validation Loss: 0.0013698929061110204, Average Test Distance Error: 194.5423887215016, STD of Test Distance Errors: 125.99733663135751\n",
      "Epoch 57, Training Loss: 0.001296885248221871, Validation Loss: 0.0011503050426164498, Average Test Distance Error: 172.40158796890552, STD of Test Distance Errors: 111.97171727371968\n",
      "Epoch 58, Training Loss: 0.0013070225262910955, Validation Loss: 0.0011914515366347937, Average Test Distance Error: 175.2255693697454, STD of Test Distance Errors: 115.18402165076799\n",
      "Epoch 59, Training Loss: 0.001306104656153669, Validation Loss: 0.0013202717885948145, Average Test Distance Error: 180.27365301859626, STD of Test Distance Errors: 111.22522594171045\n",
      "Epoch 60, Training Loss: 0.0013300815648916696, Validation Loss: 0.0018135532378577269, Average Test Distance Error: 199.12107702787472, STD of Test Distance Errors: 133.71225477497782\n",
      "Epoch 61, Training Loss: 0.0012213115813210606, Validation Loss: 0.0011751641555187793, Average Test Distance Error: 174.63901906827618, STD of Test Distance Errors: 108.64040117195965\n",
      "Epoch 62, Training Loss: 0.0010868835909706024, Validation Loss: 0.001271998706775216, Average Test Distance Error: 179.85468673223426, STD of Test Distance Errors: 111.0286782822847\n",
      "Epoch 63, Training Loss: 0.0011127725786839922, Validation Loss: 0.0016154793377679128, Average Test Distance Error: 192.03515399928023, STD of Test Distance Errors: 139.60085284990504\n",
      "Epoch 64, Training Loss: 0.0012633976474818256, Validation Loss: 0.0012638893408270983, Average Test Distance Error: 164.56232386530223, STD of Test Distance Errors: 102.75425131654922\n",
      "Epoch 65, Training Loss: 0.001247327565215528, Validation Loss: 0.0012708821763785987, Average Test Distance Error: 164.90151542100233, STD of Test Distance Errors: 103.47722883092572\n",
      "Epoch 66, Training Loss: 0.0010574870432416598, Validation Loss: 0.0011348684425823963, Average Test Distance Error: 160.08642446515313, STD of Test Distance Errors: 101.4725538240933\n",
      "Epoch 67, Training Loss: 0.0009228040852273504, Validation Loss: 0.0011066671174306136, Average Test Distance Error: 160.99541677993776, STD of Test Distance Errors: 99.60577112845498\n",
      "Epoch 68, Training Loss: 0.0010599378237707746, Validation Loss: 0.0011245304575333227, Average Test Distance Error: 161.51454931090475, STD of Test Distance Errors: 106.67959032368712\n",
      "Epoch 69, Training Loss: 0.0010534961009398102, Validation Loss: 0.0011752051337120624, Average Test Distance Error: 159.41075800768303, STD of Test Distance Errors: 100.26452742720008\n",
      "Epoch 70, Training Loss: 0.0011699413828965691, Validation Loss: 0.0015474716738726085, Average Test Distance Error: 176.4610574890483, STD of Test Distance Errors: 113.80803869680368\n",
      "Epoch 71, Training Loss: 0.0010173403218181596, Validation Loss: 0.0012210768540031635, Average Test Distance Error: 162.69572775461813, STD of Test Distance Errors: 101.0840105715497\n",
      "Epoch 72, Training Loss: 0.000965022795005805, Validation Loss: 0.0014263381286022754, Average Test Distance Error: 171.70258915092992, STD of Test Distance Errors: 106.91351845272304\n",
      "Epoch 73, Training Loss: 0.0011765082560790082, Validation Loss: 0.0014479616119597966, Average Test Distance Error: 172.31566787764712, STD of Test Distance Errors: 122.62747512136875\n",
      "Epoch 74, Training Loss: 0.0009496376299971921, Validation Loss: 0.0012241459379975612, Average Test Distance Error: 159.91969845891362, STD of Test Distance Errors: 103.96744625687748\n",
      "Epoch 75, Training Loss: 0.0010003287073535223, Validation Loss: 0.001262524684604544, Average Test Distance Error: 168.5809723358567, STD of Test Distance Errors: 113.62806998830919\n",
      "Epoch 76, Training Loss: 0.0008582171233784821, Validation Loss: 0.0012526963121042801, Average Test Distance Error: 156.22754574592352, STD of Test Distance Errors: 100.79495811750976\n",
      "Epoch 77, Training Loss: 0.0009497953591764801, Validation Loss: 0.0012352774636103557, Average Test Distance Error: 163.87456509653745, STD of Test Distance Errors: 106.28830687712382\n",
      "Epoch 78, Training Loss: 0.0010344045262576805, Validation Loss: 0.0011064392657807241, Average Test Distance Error: 154.2534697271566, STD of Test Distance Errors: 103.98590579729363\n",
      "Epoch 79, Training Loss: 0.000934034179792636, Validation Loss: 0.0013320485953814709, Average Test Distance Error: 174.81486396285447, STD of Test Distance Errors: 133.10882401637957\n",
      "Epoch 80, Training Loss: 0.0010416613788240487, Validation Loss: 0.0014361602863153587, Average Test Distance Error: 166.9714001150149, STD of Test Distance Errors: 114.67570585735406\n",
      "Epoch 81, Training Loss: 0.0010121276498668724, Validation Loss: 0.0015063076459157926, Average Test Distance Error: 178.84566434568958, STD of Test Distance Errors: 117.49316697545527\n",
      "Epoch 82, Training Loss: 0.000928194085524107, Validation Loss: 0.0011427982244640589, Average Test Distance Error: 151.21120337027185, STD of Test Distance Errors: 100.85012909924085\n",
      "Epoch 83, Training Loss: 0.0008171531837433577, Validation Loss: 0.0010694208948944623, Average Test Distance Error: 153.6543295544509, STD of Test Distance Errors: 102.69248464354668\n",
      "Epoch 84, Training Loss: 0.0007482714951038361, Validation Loss: 0.0010356452011574919, Average Test Distance Error: 154.77062431866653, STD of Test Distance Errors: 96.929129307366\n",
      "Epoch 85, Training Loss: 0.000968191815384974, Validation Loss: 0.0011155944890700853, Average Test Distance Error: 157.85771460386982, STD of Test Distance Errors: 105.13868726338089\n",
      "Epoch 86, Training Loss: 0.0009013356311091532, Validation Loss: 0.0010044758136455829, Average Test Distance Error: 151.76670191412265, STD of Test Distance Errors: 98.24231881789225\n",
      "Epoch 87, Training Loss: 0.0007034647388435486, Validation Loss: 0.0011591343567348444, Average Test Distance Error: 148.48575983808564, STD of Test Distance Errors: 105.79655737903192\n",
      "Epoch 88, Training Loss: 0.0007243869845600178, Validation Loss: 0.0010950343253520818, Average Test Distance Error: 149.84941505414096, STD of Test Distance Errors: 95.36338307587485\n",
      "Epoch 89, Training Loss: 0.0007457165241551896, Validation Loss: 0.0010692666804131407, Average Test Distance Error: 146.3224852354157, STD of Test Distance Errors: 93.47847174726098\n",
      "Epoch 90, Training Loss: 0.0007943396359526863, Validation Loss: 0.001154890964524104, Average Test Distance Error: 156.20566004201177, STD of Test Distance Errors: 98.4599386973684\n",
      "Epoch 91, Training Loss: 0.000754978943667892, Validation Loss: 0.0011028665511940534, Average Test Distance Error: 153.54988564051632, STD of Test Distance Errors: 101.84500602635673\n",
      "Epoch 92, Training Loss: 0.0008801033791516805, Validation Loss: 0.001183307281910227, Average Test Distance Error: 152.0027826747784, STD of Test Distance Errors: 91.4440414102567\n",
      "Epoch 93, Training Loss: 0.0007929143301832179, Validation Loss: 0.0010751398781744333, Average Test Distance Error: 148.4380238659157, STD of Test Distance Errors: 96.4455480345237\n",
      "Epoch 94, Training Loss: 0.0008602131112840854, Validation Loss: 0.0011683976850830591, Average Test Distance Error: 145.93172549606007, STD of Test Distance Errors: 98.66612413300274\n",
      "Epoch 95, Training Loss: 0.0007427291744129939, Validation Loss: 0.0010778772501418223, Average Test Distance Error: 145.6705449723873, STD of Test Distance Errors: 97.85264754755204\n",
      "Epoch 96, Training Loss: 0.0007394444378506806, Validation Loss: 0.0011625601730954188, Average Test Distance Error: 152.80761632494824, STD of Test Distance Errors: 97.45252213020484\n",
      "Epoch 97, Training Loss: 0.0011322098253812227, Validation Loss: 0.0010753340947513396, Average Test Distance Error: 155.10475632031913, STD of Test Distance Errors: 99.13861724662948\n",
      "Epoch 98, Training Loss: 0.0007547899834915168, Validation Loss: 0.0010864480326955135, Average Test Distance Error: 150.13757383122663, STD of Test Distance Errors: 94.21773484122473\n",
      "Epoch 99, Training Loss: 0.0006926937546167109, Validation Loss: 0.0011343063177684178, Average Test Distance Error: 147.86301795695624, STD of Test Distance Errors: 92.35292045675088\n",
      "Epoch 100, Training Loss: 0.0006795277835206232, Validation Loss: 0.001124072981138642, Average Test Distance Error: 147.3849486118621, STD of Test Distance Errors: 95.28786111941038\n"
     ]
    }
   ],
   "source": [
    "device = torch.device(\"cuda\" if torch.cuda.is_available() else \"cpu\")\n",
    "model = VGGishModel().to(device)\n",
    "criterion = nn.MSELoss()\n",
    "optimizer = torch.optim.Adam(model.parameters(), lr=1e-4)\n",
    "\n",
    "for epoch in range(100):\n",
    "    model.train()\n",
    "    running_loss = 0.0\n",
    "    for spectrograms, coordinates in train_loader:\n",
    "        spectrograms = spectrograms.to(device)\n",
    "        coordinates = coordinates.to(device)\n",
    "\n",
    "        optimizer.zero_grad()\n",
    "        outputs = model(spectrograms)\n",
    "        loss = criterion(outputs, coordinates)\n",
    "        loss.backward()\n",
    "        optimizer.step()\n",
    "        running_loss += loss.item()\n",
    "\n",
    "    model.eval()\n",
    "    validation_loss = 0.0\n",
    "    with torch.no_grad():\n",
    "        for spectrograms, coordinates in valid_loader:\n",
    "            spectrograms = spectrograms.to(device)\n",
    "            coordinates = coordinates.to(device)\n",
    "\n",
    "            outputs = model(spectrograms)\n",
    "            loss = criterion(outputs, coordinates)\n",
    "            validation_loss += loss.item()\n",
    "\n",
    "        test_distances = []\n",
    "        for spectrograms, coordinates in test_loader:\n",
    "            spectrograms = spectrograms.to(device)\n",
    "            coordinates = coordinates.to(device)\n",
    "\n",
    "            outputs = model(spectrograms)\n",
    "            outputs = outputs.cpu().numpy()\n",
    "            coordinates = coordinates.cpu().numpy()\n",
    "\n",
    "            for pred, actual in zip(outputs, coordinates):\n",
    "                pred_unnorm = unnormalize(pred)\n",
    "                actual_unnorm = unnormalize(actual)\n",
    "                distance = np.linalg.norm(pred_unnorm - actual_unnorm)\n",
    "                test_distances.append(distance)\n",
    "\n",
    "    average_distance_error = np.mean(test_distances)\n",
    "    std_distance_error = np.std(test_distances)\n",
    "\n",
    "    print(f\"Epoch {epoch+1}, Training Loss: {running_loss / len(train_loader)}, \"\n",
    "          f\"Validation Loss: {validation_loss / len(test_loader)}, \"\n",
    "          f\"Average Test Distance Error: {average_distance_error}, \"\n",
    "          f\"STD of Test Distance Errors: {std_distance_error}\")"
   ]
  },
  {
   "cell_type": "markdown",
   "metadata": {},
   "source": [
    "## Evaluating the model"
   ]
  },
  {
   "cell_type": "code",
   "execution_count": 14,
   "metadata": {},
   "outputs": [
    {
     "name": "stderr",
     "output_type": "stream",
     "text": [
      "/tmp/ipykernel_23915/3590247952.py:22: UserWarning: To copy construct from a tensor, it is recommended to use sourceTensor.clone().detach() or sourceTensor.clone().detach().requires_grad_(True), rather than torch.tensor(sourceTensor).\n",
      "  melspec = audio_to_melspectrogram(torch.tensor(audio_signal, dtype=torch.float32))\n",
      "/tmp/ipykernel_23915/371298476.py:5: UserWarning: To copy construct from a tensor, it is recommended to use sourceTensor.clone().detach() or sourceTensor.clone().detach().requires_grad_(True), rather than torch.tensor(sourceTensor).\n",
      "  audio = torch.tensor(audio, dtype=torch.float32)\n"
     ]
    },
    {
     "name": "stdout",
     "output_type": "stream",
     "text": [
      "Average Distance Error: 147.3849486118621\n",
      "Standard Deviation of Distance Errors: 95.28786111941038\n"
     ]
    }
   ],
   "source": [
    "model.eval()\n",
    "\n",
    "distance_errors = []\n",
    "\n",
    "for spectrograms, actual_coordinates in test_loader:\n",
    "    spectrograms = spectrograms.to(device)\n",
    "    actual_coordinates = actual_coordinates.to(device)\n",
    "    \n",
    "    with torch.no_grad():\n",
    "        predicted_coordinates = model(spectrograms)\n",
    "        predicted_coordinates = predicted_coordinates.cpu().numpy()\n",
    "        actual_coordinates = actual_coordinates.cpu().numpy()\n",
    "    \n",
    "    for pred, actual in zip(predicted_coordinates, actual_coordinates):\n",
    "        pred_unnorm = unnormalize(pred)\n",
    "        actual_unnorm = unnormalize(actual)\n",
    "        \n",
    "        distance = np.linalg.norm(pred_unnorm - actual_unnorm)\n",
    "        distance_errors.append(distance)\n",
    "\n",
    "average_distance_error = np.mean(distance_errors)\n",
    "\n",
    "print(\"Average Distance Error:\", average_distance_error)\n",
    "\n",
    "standard_deviation = np.std(distance_errors)\n",
    "\n",
    "print(\"Standard Deviation of Distance Errors:\", standard_deviation)"
   ]
  },
  {
   "cell_type": "markdown",
   "metadata": {},
   "source": [
    "## Loading the human2 dataset"
   ]
  },
  {
   "cell_type": "code",
   "execution_count": 15,
   "metadata": {},
   "outputs": [
    {
     "data": {
      "text/plain": [
       "array([[[ 1.32263867e-05,  4.04477396e-06,  1.72964337e-05, ...,\n",
       "          1.42459985e-05,  7.06920127e-06,  1.52228458e-05],\n",
       "        [ 1.66781626e-06,  4.13932912e-06,  4.92448726e-06, ...,\n",
       "          1.69338909e-05,  1.40092038e-06,  1.19383767e-05],\n",
       "        [ 1.15825042e-05,  4.49341405e-06,  1.40825741e-05, ...,\n",
       "          1.12802718e-05,  1.38609530e-05,  6.46868511e-06],\n",
       "        [-2.10553353e-05, -2.40086247e-05, -1.06697380e-05, ...,\n",
       "         -2.20970142e-05, -2.00329578e-05, -2.09568789e-05]],\n",
       "\n",
       "       [[-7.21401693e-06,  1.12978867e-07, -4.36823848e-06, ...,\n",
       "         -1.81246889e-06, -8.53981510e-06, -1.84635439e-06],\n",
       "        [ 1.36644203e-05,  2.30385322e-05,  1.24044136e-05, ...,\n",
       "          9.66903553e-06,  1.00616371e-05,  1.03869361e-05],\n",
       "        [ 2.78378029e-05,  1.38622945e-05,  2.71665067e-05, ...,\n",
       "          1.33699305e-05,  1.06378029e-05,  1.05457875e-05],\n",
       "        [ 1.15678056e-04,  1.64297759e-04,  5.92336910e-05, ...,\n",
       "          5.16751425e-05,  3.32121781e-05,  1.38982023e-05]],\n",
       "\n",
       "       [[-1.59124454e-06, -9.91511479e-06,  1.74267120e-06, ...,\n",
       "          3.94251998e-07,  2.68778354e-06,  2.13934914e-06],\n",
       "        [ 7.30616648e-06,  4.54986503e-06,  7.84721578e-06, ...,\n",
       "          1.06087164e-05,  1.44588432e-06,  9.16507815e-06],\n",
       "        [ 3.13707551e-06,  4.37415792e-06,  7.82795814e-06, ...,\n",
       "          7.21973765e-06,  1.20149498e-05,  5.69734175e-06],\n",
       "        [ 1.00595935e-05, -6.92771255e-06,  1.17938425e-05, ...,\n",
       "         -1.05910322e-05,  2.11578481e-06, -9.65056279e-06]],\n",
       "\n",
       "       ...,\n",
       "\n",
       "       [[-6.49007234e-06, -1.20259056e-05, -7.84140866e-06, ...,\n",
       "         -1.18712451e-05, -4.17982164e-06, -1.42443532e-05],\n",
       "        [ 1.02307922e-05,  1.11256786e-05,  1.15741532e-05, ...,\n",
       "          1.02063514e-05,  4.62145522e-07,  9.20632647e-06],\n",
       "        [ 2.82056408e-06,  4.39899986e-06,  5.47178161e-06, ...,\n",
       "         -5.49734023e-06,  5.39134453e-06, -7.68493919e-06],\n",
       "        [-1.09625707e-05, -1.49788875e-05, -5.78490426e-06, ...,\n",
       "         -1.18736443e-05, -1.38960777e-05, -5.34930450e-06]],\n",
       "\n",
       "       [[-7.78719696e-05, -7.28835148e-05, -7.53981658e-05, ...,\n",
       "         -7.64382203e-05, -7.63384596e-05, -7.56490990e-05],\n",
       "        [-1.66587870e-06,  6.98116719e-06, -6.07548202e-07, ...,\n",
       "         -3.65104711e-07, -3.64715243e-06, -6.02160208e-06],\n",
       "        [ 7.92054470e-06,  4.23502024e-06,  1.09544144e-05, ...,\n",
       "          7.53775021e-06,  5.11439339e-06,  1.01513324e-05],\n",
       "        [ 4.49684740e-05,  4.10416869e-05,  4.38610514e-05, ...,\n",
       "          2.11692368e-05,  1.37110801e-05,  2.55454015e-05]],\n",
       "\n",
       "       [[ 7.66158155e-06,  1.21757357e-05,  9.88330066e-06, ...,\n",
       "          8.46857438e-06,  1.20377481e-05,  1.00683746e-05],\n",
       "        [-2.58315595e-06,  2.60652246e-06, -3.87392993e-06, ...,\n",
       "         -8.74932084e-06, -1.92495445e-05, -6.75919409e-06],\n",
       "        [ 1.30914268e-05,  1.70151611e-06,  1.17290929e-05, ...,\n",
       "          4.16891271e-06,  5.02312048e-07,  3.46589354e-06],\n",
       "        [-5.54151302e-06, -2.73848468e-06, -1.76893282e-05, ...,\n",
       "         -2.06357549e-06, -1.13691669e-06, -2.21694208e-07]]],\n",
       "      dtype=float32)"
      ]
     },
     "execution_count": 15,
     "metadata": {},
     "output_type": "execute_result"
    }
   ],
   "source": [
    "human2_deconv = np.load('data/LivingRoom_preprocessed_hack/Human2/deconvoled_trim.npy')\n",
    "human2_deconv"
   ]
  },
  {
   "cell_type": "code",
   "execution_count": 16,
   "metadata": {},
   "outputs": [
    {
     "data": {
      "text/plain": [
       "(104, 4, 667200)"
      ]
     },
     "execution_count": 16,
     "metadata": {},
     "output_type": "execute_result"
    }
   ],
   "source": [
    "human2_deconv.shape"
   ]
  },
  {
   "cell_type": "code",
   "execution_count": 17,
   "metadata": {},
   "outputs": [
    {
     "data": {
      "text/plain": [
       "array([[-2406.85413008, -2443.62906004],\n",
       "       [-1923.16230038, -2504.30576997],\n",
       "       [-1615.29307549, -2525.71107555],\n",
       "       [-1234.84729435, -2581.21590946],\n",
       "       [ -906.89320474, -2648.96828851],\n",
       "       [ -579.82451164, -2563.38746474],\n",
       "       [ -258.89043633, -2501.99822189],\n",
       "       [ -237.00812692, -2957.79113999],\n",
       "       [ -608.16773853, -2894.26845589],\n",
       "       [ -920.67771947, -2892.68441764],\n",
       "       [-1177.38289287, -3050.12473983],\n",
       "       [-1690.95162773, -3023.00826184],\n",
       "       [-1968.49135428, -3048.59689339],\n",
       "       [-2401.44182176, -2925.40384273],\n",
       "       [-2626.65068051, -2353.52639219],\n",
       "       [-2945.10567004, -2270.29924636],\n",
       "       [-3288.80884616, -2179.77519901],\n",
       "       [-3543.43725461, -2122.72140672],\n",
       "       [-3818.97939345, -2074.06640841],\n",
       "       [-3787.00508742, -1745.78914635],\n",
       "       [-3440.47071217, -1786.24662486],\n",
       "       [-3126.89926719, -1778.7456592 ],\n",
       "       [-2780.8277654 , -1806.35696377],\n",
       "       [-2443.03492952, -1839.64542774],\n",
       "       [-2359.37110303, -1517.60616977],\n",
       "       [-2643.69001771, -1476.99863966],\n",
       "       [-3045.54399981, -1635.42668901],\n",
       "       [-3302.78792751, -1472.55710516],\n",
       "       [-3760.33837488, -1417.04328708],\n",
       "       [-4041.78587419, -1398.58686915],\n",
       "       [-3651.45722762, -1008.85761266],\n",
       "       [-3355.62188694, -1089.07882205],\n",
       "       [-3048.65658737, -1200.21177144],\n",
       "       [-2734.10489942, -1134.21199905],\n",
       "       [-2435.83186031, -1178.45429302],\n",
       "       [-2155.69607285, -1183.03153078],\n",
       "       [-1847.07850153, -1235.69062946],\n",
       "       [-1557.37560866, -1234.82759791],\n",
       "       [-1531.22328309, -1228.9545573 ],\n",
       "       [-1207.64306356, -1242.82564985],\n",
       "       [ -998.26096962, -1242.71378666],\n",
       "       [ -622.02513945, -1268.3093557 ],\n",
       "       [ -355.68967957, -1267.79753437],\n",
       "       [  -95.26894965, -1276.82377107],\n",
       "       [ -120.26384771, -1058.74805353],\n",
       "       [ -332.36265002, -1022.65309523],\n",
       "       [ -640.88424352, -1024.24696922],\n",
       "       [ -944.27035687,  -979.93555298],\n",
       "       [-1240.93341209,  -967.64966289],\n",
       "       [-1519.16112413,  -934.05588423],\n",
       "       [-1898.31291437,  -906.7704297 ],\n",
       "       [-2174.34009065,  -862.83519934],\n",
       "       [-2448.47165846,  -862.73729902],\n",
       "       [-2743.57430041,  -852.31660839],\n",
       "       [-3055.60116767,  -949.73624758],\n",
       "       [-3350.74501924,  -826.39623757],\n",
       "       [-3652.95673206,  -768.16921515],\n",
       "       [-4026.15742864,  -721.68769267],\n",
       "       [-4212.45524053,  -491.83103693],\n",
       "       [-3910.18060853,  -475.75206615],\n",
       "       [-3575.65161611,  -547.45314677],\n",
       "       [-3305.80330865,  -515.83720953],\n",
       "       [-3010.80451599,  -568.44553128],\n",
       "       [-2736.82840499,  -640.02346683],\n",
       "       [-2432.52236233,  -593.033447  ],\n",
       "       [-2118.32611622,  -608.1245535 ],\n",
       "       [-1842.72460939,  -610.68079444],\n",
       "       [-3180.87294097,    11.6457925 ],\n",
       "       [-2974.23113827,    51.43045306],\n",
       "       [-2675.1647806 ,    29.52612472],\n",
       "       [-2367.76165375,    16.76693426],\n",
       "       [-1998.05582416,   -24.53025921],\n",
       "       [-1494.81792534,     7.12123641],\n",
       "       [ -994.54752374,    17.99301039],\n",
       "       [ -538.13451818,   -43.14113727],\n",
       "       [ -133.59410862,   -44.02143921],\n",
       "       [ -296.63615487,   512.39135969],\n",
       "       [ -793.05686194,   542.30317284],\n",
       "       [-1271.43797693,   573.81320695],\n",
       "       [-1767.79202043,   612.59550976],\n",
       "       [-2348.34764957,   595.50337033],\n",
       "       [-3007.61226617,   712.21723471],\n",
       "       [-2930.96808593,  1256.13317503],\n",
       "       [-2316.53559434,  1123.38954864],\n",
       "       [-1679.50134433,  1099.96555737],\n",
       "       [-1042.58473051,  1009.9280883 ],\n",
       "       [ -665.15345651,   977.97257872],\n",
       "       [-3526.30838217,  -318.91208246],\n",
       "       [-2978.56597766,  -269.83433736],\n",
       "       [-2403.52308428,  -295.7705034 ],\n",
       "       [-1982.38114262,  -285.30077693],\n",
       "       [-3035.68912165,   401.38123903],\n",
       "       [-2313.41459509,   315.47103584],\n",
       "       [-1782.23700971,   240.29441206],\n",
       "       [-1171.39643252,   256.18655269],\n",
       "       [ -547.33577587,   237.51851395],\n",
       "       [  -13.17036956,   235.70076054],\n",
       "       [ -557.85356137,   703.38566361],\n",
       "       [-1000.85194532,   772.02964634],\n",
       "       [-1505.96410651,   815.53440699],\n",
       "       [-2122.85430173,   872.72639732],\n",
       "       [-2652.683178  ,   858.21826774],\n",
       "       [-3089.8571679 ,   970.63036148],\n",
       "       [-2537.70644544,   372.03539505]])"
      ]
     },
     "execution_count": 17,
     "metadata": {},
     "output_type": "execute_result"
    }
   ],
   "source": [
    "human2_centroid = np.load('data/LivingRoom_preprocessed_hack/Human2/centroid.npy')\n",
    "human2_centroid"
   ]
  },
  {
   "cell_type": "code",
   "execution_count": 18,
   "metadata": {},
   "outputs": [
    {
     "data": {
      "text/plain": [
       "(104, 2)"
      ]
     },
     "execution_count": 18,
     "metadata": {},
     "output_type": "execute_result"
    }
   ],
   "source": [
    "human2_centroid.shape"
   ]
  },
  {
   "cell_type": "code",
   "execution_count": 19,
   "metadata": {},
   "outputs": [],
   "source": [
    "from sklearn.model_selection import train_test_split\n",
    "import torch\n",
    "\n",
    "X_train, X_test, y_train, y_test = train_test_split(human2_deconv, human2_centroid, test_size=0.2, random_state=42)\n",
    "\n",
    "X_train, X_valid, y_train, y_valid = train_test_split(X_train, y_train, test_size=0.1, random_state=42)\n",
    "\n",
    "X_train = torch.Tensor(X_train)\n",
    "X_test = torch.Tensor(X_test)\n",
    "X_valid = torch.Tensor(X_valid)\n",
    "\n",
    "y_train = torch.Tensor(y_train)\n",
    "y_test = torch.Tensor(y_test)\n",
    "y_valid = torch.Tensor(y_valid)"
   ]
  },
  {
   "cell_type": "code",
   "execution_count": 22,
   "metadata": {},
   "outputs": [],
   "source": [
    "train_dataset = AudioDataset(X_train, y_train, transform=transform_to_melspectrogram)\n",
    "test_dataset = AudioDataset(X_test, y_test, transform=transform_to_melspectrogram)\n",
    "valid_dataset = AudioDataset(X_valid, y_valid, transform=transform_to_melspectrogram)\n",
    "\n",
    "batch_size = 16\n",
    "\n",
    "train_loader = DataLoader(train_dataset, batch_size=batch_size, shuffle=True)\n",
    "test_loader = DataLoader(test_dataset, batch_size=batch_size, shuffle=False)\n",
    "valid_loader = DataLoader(valid_dataset, batch_size=batch_size, shuffle=False)"
   ]
  },
  {
   "cell_type": "markdown",
   "metadata": {},
   "source": [
    "## Training the model on the Human 2 dataset"
   ]
  },
  {
   "cell_type": "code",
   "execution_count": 23,
   "metadata": {},
   "outputs": [
    {
     "name": "stderr",
     "output_type": "stream",
     "text": [
      "/tmp/ipykernel_23915/3590247952.py:22: UserWarning: To copy construct from a tensor, it is recommended to use sourceTensor.clone().detach() or sourceTensor.clone().detach().requires_grad_(True), rather than torch.tensor(sourceTensor).\n",
      "  melspec = audio_to_melspectrogram(torch.tensor(audio_signal, dtype=torch.float32))\n",
      "/tmp/ipykernel_23915/371298476.py:5: UserWarning: To copy construct from a tensor, it is recommended to use sourceTensor.clone().detach() or sourceTensor.clone().detach().requires_grad_(True), rather than torch.tensor(sourceTensor).\n",
      "  audio = torch.tensor(audio, dtype=torch.float32)\n"
     ]
    },
    {
     "name": "stdout",
     "output_type": "stream",
     "text": [
      "Epoch 1, Training Loss: 0.05568200051784515, Validation Loss: 0.02005729079246521, Average Test Distance Error: 726.2375939165252, STD of Test Distance Errors: 316.47740465812547\n",
      "Epoch 2, Training Loss: 0.05022195354104042, Validation Loss: 0.019538234919309616, Average Test Distance Error: 742.0952866525707, STD of Test Distance Errors: 275.6001081699094\n",
      "Epoch 3, Training Loss: 0.052361633628606796, Validation Loss: 0.019216353073716164, Average Test Distance Error: 727.7760033485813, STD of Test Distance Errors: 293.04432084512945\n",
      "Epoch 4, Training Loss: 0.052583469450473784, Validation Loss: 0.019285941496491432, Average Test Distance Error: 721.6848848229907, STD of Test Distance Errors: 306.37414585751327\n",
      "Epoch 5, Training Loss: 0.05147363841533661, Validation Loss: 0.01964726857841015, Average Test Distance Error: 725.3237319007715, STD of Test Distance Errors: 307.3689529961025\n",
      "Epoch 6, Training Loss: 0.05102173313498497, Validation Loss: 0.019358471035957336, Average Test Distance Error: 731.1121596361178, STD of Test Distance Errors: 290.3868173064137\n",
      "Epoch 7, Training Loss: 0.051583335548639295, Validation Loss: 0.02002851478755474, Average Test Distance Error: 726.8961685797786, STD of Test Distance Errors: 314.6346696090549\n",
      "Epoch 8, Training Loss: 0.05234182700514793, Validation Loss: 0.019923144951462746, Average Test Distance Error: 723.9022533252136, STD of Test Distance Errors: 316.6829326097469\n",
      "Epoch 9, Training Loss: 0.050490421056747434, Validation Loss: 0.019204722717404366, Average Test Distance Error: 729.048902448228, STD of Test Distance Errors: 290.5141257975713\n",
      "Epoch 10, Training Loss: 0.05030974596738815, Validation Loss: 0.019430700689554214, Average Test Distance Error: 723.5708085552517, STD of Test Distance Errors: 305.2103775758211\n",
      "Epoch 11, Training Loss: 0.05189304351806641, Validation Loss: 0.019995901733636856, Average Test Distance Error: 718.3433701483799, STD of Test Distance Errors: 326.9049799365216\n",
      "Epoch 12, Training Loss: 0.05094357505440712, Validation Loss: 0.019321134313941002, Average Test Distance Error: 727.7931623021011, STD of Test Distance Errors: 295.3053482343042\n",
      "Epoch 13, Training Loss: 0.05187623351812363, Validation Loss: 0.019888507202267647, Average Test Distance Error: 722.93258112877, STD of Test Distance Errors: 317.3154668303463\n",
      "Epoch 14, Training Loss: 0.05261048376560211, Validation Loss: 0.019571393728256226, Average Test Distance Error: 731.3323921080757, STD of Test Distance Errors: 295.18811406352387\n",
      "Epoch 15, Training Loss: 0.04989166185259819, Validation Loss: 0.019670803099870682, Average Test Distance Error: 724.9561739826084, STD of Test Distance Errors: 308.5500473516701\n",
      "Epoch 16, Training Loss: 0.050906026363372804, Validation Loss: 0.019680628553032875, Average Test Distance Error: 719.91204095265, STD of Test Distance Errors: 317.1050580885885\n",
      "Epoch 17, Training Loss: 0.049981828033924106, Validation Loss: 0.01961100846529007, Average Test Distance Error: 721.3904646994614, STD of Test Distance Errors: 312.9045621606342\n",
      "Epoch 18, Training Loss: 0.05080578625202179, Validation Loss: 0.0192284993827343, Average Test Distance Error: 725.7833057694855, STD of Test Distance Errors: 296.6336692581691\n",
      "Epoch 19, Training Loss: 0.053153873234987256, Validation Loss: 0.019429782405495644, Average Test Distance Error: 723.6127209883582, STD of Test Distance Errors: 304.745004725617\n",
      "Epoch 20, Training Loss: 0.051097568869590757, Validation Loss: 0.019308295100927353, Average Test Distance Error: 726.6206246160383, STD of Test Distance Errors: 296.4552779252882\n",
      "Epoch 21, Training Loss: 0.051771432906389234, Validation Loss: 0.01956833340227604, Average Test Distance Error: 723.41747311257, STD of Test Distance Errors: 308.3907887413003\n",
      "Epoch 22, Training Loss: 0.04917864203453064, Validation Loss: 0.01932620443403721, Average Test Distance Error: 725.8043961263402, STD of Test Distance Errors: 297.5208816734044\n",
      "Epoch 23, Training Loss: 0.04944904968142509, Validation Loss: 0.0195697620511055, Average Test Distance Error: 717.2307089607198, STD of Test Distance Errors: 315.0733668966445\n",
      "Epoch 24, Training Loss: 0.04865298569202423, Validation Loss: 0.021700922399759293, Average Test Distance Error: 714.9471612916348, STD of Test Distance Errors: 367.817866899351\n",
      "Epoch 25, Training Loss: 0.04659796133637428, Validation Loss: 0.018838971853256226, Average Test Distance Error: 722.6255845900456, STD of Test Distance Errors: 283.65199425939505\n",
      "Epoch 26, Training Loss: 0.04830856844782829, Validation Loss: 0.02430841140449047, Average Test Distance Error: 730.5363555532123, STD of Test Distance Errors: 398.2947025120143\n",
      "Epoch 27, Training Loss: 0.05008108168840408, Validation Loss: 0.01920350454747677, Average Test Distance Error: 718.3643009932013, STD of Test Distance Errors: 307.5705162641995\n",
      "Epoch 28, Training Loss: 0.05036755427718163, Validation Loss: 0.018922215327620506, Average Test Distance Error: 733.9941892656616, STD of Test Distance Errors: 272.45233292328174\n",
      "Epoch 29, Training Loss: 0.0486223116517067, Validation Loss: 0.020513523370027542, Average Test Distance Error: 712.2819467870025, STD of Test Distance Errors: 345.7451076753367\n",
      "Epoch 30, Training Loss: 0.04866810366511345, Validation Loss: 0.02083669975399971, Average Test Distance Error: 710.3575901944023, STD of Test Distance Errors: 354.22587018561745\n",
      "Epoch 31, Training Loss: 0.046319447457790375, Validation Loss: 0.02057076431810856, Average Test Distance Error: 706.0272752022622, STD of Test Distance Errors: 353.8656094666884\n",
      "Epoch 32, Training Loss: 0.04776887819170952, Validation Loss: 0.022187765687704086, Average Test Distance Error: 712.2757322791318, STD of Test Distance Errors: 379.1041729589479\n",
      "Epoch 33, Training Loss: 0.04384342506527901, Validation Loss: 0.017722636461257935, Average Test Distance Error: 704.1784689044922, STD of Test Distance Errors: 277.8241455230008\n",
      "Epoch 34, Training Loss: 0.0412758007645607, Validation Loss: 0.020856907591223717, Average Test Distance Error: 702.0477179494828, STD of Test Distance Errors: 371.18538142261417\n",
      "Epoch 35, Training Loss: 0.04039977379143238, Validation Loss: 0.021396620199084282, Average Test Distance Error: 697.176903934823, STD of Test Distance Errors: 382.32049355788314\n",
      "Epoch 36, Training Loss: 0.041603255271911624, Validation Loss: 0.024817300960421562, Average Test Distance Error: 731.9325972364264, STD of Test Distance Errors: 409.16340159410805\n",
      "Epoch 37, Training Loss: 0.04714216068387032, Validation Loss: 0.022043880075216293, Average Test Distance Error: 713.2756858028961, STD of Test Distance Errors: 379.801921797909\n",
      "Epoch 38, Training Loss: 0.04128509387373924, Validation Loss: 0.019031014293432236, Average Test Distance Error: 717.0585447571495, STD of Test Distance Errors: 303.52412288205016\n",
      "Epoch 39, Training Loss: 0.042768879979848864, Validation Loss: 0.019276434555649757, Average Test Distance Error: 710.0207529581147, STD of Test Distance Errors: 321.67881524520527\n",
      "Epoch 40, Training Loss: 0.03931720107793808, Validation Loss: 0.020512977614998817, Average Test Distance Error: 699.689918017463, STD of Test Distance Errors: 365.2736025106187\n",
      "Epoch 41, Training Loss: 0.0385378435254097, Validation Loss: 0.017131095752120018, Average Test Distance Error: 648.422400064097, STD of Test Distance Errors: 327.7326038731317\n",
      "Epoch 42, Training Loss: 0.03655160740017891, Validation Loss: 0.016065530478954315, Average Test Distance Error: 620.6794112968909, STD of Test Distance Errors: 329.57793027779144\n",
      "Epoch 43, Training Loss: 0.037791430950164795, Validation Loss: 0.024213265627622604, Average Test Distance Error: 726.0263268399, STD of Test Distance Errors: 403.0999230388611\n",
      "Epoch 44, Training Loss: 0.042006462812423706, Validation Loss: 0.016964515671133995, Average Test Distance Error: 660.9623002949897, STD of Test Distance Errors: 319.64757557198175\n",
      "Epoch 45, Training Loss: 0.03980046361684799, Validation Loss: 0.022671708837151527, Average Test Distance Error: 713.1793751744759, STD of Test Distance Errors: 391.07559392244997\n",
      "Epoch 46, Training Loss: 0.040693610534071924, Validation Loss: 0.019198501482605934, Average Test Distance Error: 692.1636812166223, STD of Test Distance Errors: 345.033465091759\n",
      "Epoch 47, Training Loss: 0.039466621726751326, Validation Loss: 0.017613574862480164, Average Test Distance Error: 695.0519077279581, STD of Test Distance Errors: 299.84593444597544\n",
      "Epoch 48, Training Loss: 0.03738145083189011, Validation Loss: 0.018014727160334587, Average Test Distance Error: 670.8596177139764, STD of Test Distance Errors: 345.3672061680129\n",
      "Epoch 49, Training Loss: 0.03505566753447056, Validation Loss: 0.01653875969350338, Average Test Distance Error: 605.4138312593466, STD of Test Distance Errors: 358.679576150681\n",
      "Epoch 50, Training Loss: 0.03337357118725777, Validation Loss: 0.02027815766632557, Average Test Distance Error: 685.9106164601858, STD of Test Distance Errors: 376.56079120732335\n",
      "Epoch 51, Training Loss: 0.033729740604758265, Validation Loss: 0.01407189667224884, Average Test Distance Error: 585.343529001139, STD of Test Distance Errors: 338.981071803099\n",
      "Epoch 52, Training Loss: 0.03149101287126541, Validation Loss: 0.013295816257596016, Average Test Distance Error: 584.8263691512075, STD of Test Distance Errors: 323.1687822528956\n",
      "Epoch 53, Training Loss: 0.02912362776696682, Validation Loss: 0.015713421627879143, Average Test Distance Error: 618.8697595402389, STD of Test Distance Errors: 352.9446816546873\n",
      "Epoch 54, Training Loss: 0.03134116642177105, Validation Loss: 0.012985157780349255, Average Test Distance Error: 562.3739945003682, STD of Test Distance Errors: 346.55989712471927\n",
      "Epoch 55, Training Loss: 0.02898733951151371, Validation Loss: 0.012560662813484669, Average Test Distance Error: 542.1530443426055, STD of Test Distance Errors: 340.62663786255405\n",
      "Epoch 56, Training Loss: 0.027533137425780296, Validation Loss: 0.012564917095005512, Average Test Distance Error: 538.1274831726184, STD of Test Distance Errors: 341.1849892445594\n",
      "Epoch 57, Training Loss: 0.02844516634941101, Validation Loss: 0.012338918633759022, Average Test Distance Error: 564.5581497867395, STD of Test Distance Errors: 328.3303659655479\n",
      "Epoch 58, Training Loss: 0.026995927654206754, Validation Loss: 0.0179044920951128, Average Test Distance Error: 685.7980638492452, STD of Test Distance Errors: 344.590537933371\n",
      "Epoch 59, Training Loss: 0.03257400766015053, Validation Loss: 0.011747242882847786, Average Test Distance Error: 552.4921062115994, STD of Test Distance Errors: 332.0600561173512\n",
      "Epoch 60, Training Loss: 0.03309125155210495, Validation Loss: 0.012049376964569092, Average Test Distance Error: 560.2668072857215, STD of Test Distance Errors: 328.9327842368452\n",
      "Epoch 61, Training Loss: 0.029762177169322966, Validation Loss: 0.01322184782475233, Average Test Distance Error: 589.7217165814419, STD of Test Distance Errors: 331.81189066295764\n",
      "Epoch 62, Training Loss: 0.033022931218147276, Validation Loss: 0.012397462502121925, Average Test Distance Error: 572.6593514713626, STD of Test Distance Errors: 328.5231682782836\n",
      "Epoch 63, Training Loss: 0.029006490111351015, Validation Loss: 0.011898813769221306, Average Test Distance Error: 553.1179661772854, STD of Test Distance Errors: 328.43179555557384\n",
      "Epoch 64, Training Loss: 0.026976458355784418, Validation Loss: 0.011333017610013485, Average Test Distance Error: 555.3478309153717, STD of Test Distance Errors: 330.77096336806915\n",
      "Epoch 65, Training Loss: 0.026519572362303734, Validation Loss: 0.01093177031725645, Average Test Distance Error: 542.7967695549936, STD of Test Distance Errors: 329.0383895791152\n",
      "Epoch 66, Training Loss: 0.023931388184428214, Validation Loss: 0.011009265668690205, Average Test Distance Error: 567.3184883174937, STD of Test Distance Errors: 313.100935147066\n",
      "Epoch 67, Training Loss: 0.02686175927519798, Validation Loss: 0.013325770385563374, Average Test Distance Error: 560.2666049930764, STD of Test Distance Errors: 328.37499018300826\n",
      "Epoch 68, Training Loss: 0.0279137022793293, Validation Loss: 0.011159592308104038, Average Test Distance Error: 571.5226248629018, STD of Test Distance Errors: 305.40952656021983\n",
      "Epoch 69, Training Loss: 0.022624601051211356, Validation Loss: 0.010816995985805988, Average Test Distance Error: 555.8744843274648, STD of Test Distance Errors: 305.823996875856\n",
      "Epoch 70, Training Loss: 0.02163531631231308, Validation Loss: 0.010510765947401524, Average Test Distance Error: 563.5439587342318, STD of Test Distance Errors: 293.3503402981182\n",
      "Epoch 71, Training Loss: 0.02153983023017645, Validation Loss: 0.010145197622478008, Average Test Distance Error: 534.9573858293671, STD of Test Distance Errors: 306.89871285858885\n",
      "Epoch 72, Training Loss: 0.02207989655435085, Validation Loss: 0.010597798973321915, Average Test Distance Error: 601.9953667153009, STD of Test Distance Errors: 268.7643317357155\n",
      "Epoch 73, Training Loss: 0.022684354707598685, Validation Loss: 0.009574509225785732, Average Test Distance Error: 529.0366051221436, STD of Test Distance Errors: 298.83628338406436\n",
      "Epoch 74, Training Loss: 0.020746438950300216, Validation Loss: 0.009786468930542469, Average Test Distance Error: 515.6673964986458, STD of Test Distance Errors: 304.4907166882778\n",
      "Epoch 75, Training Loss: 0.018429753743112086, Validation Loss: 0.009088804014027119, Average Test Distance Error: 564.204352673541, STD of Test Distance Errors: 263.6915292832825\n",
      "Epoch 76, Training Loss: 0.017296124808490278, Validation Loss: 0.007899519056081772, Average Test Distance Error: 486.9076157505325, STD of Test Distance Errors: 276.024429263705\n",
      "Epoch 77, Training Loss: 0.016767683811485766, Validation Loss: 0.008304091170430183, Average Test Distance Error: 504.5341690182694, STD of Test Distance Errors: 275.66621951558557\n",
      "Epoch 78, Training Loss: 0.01880116853863001, Validation Loss: 0.009908593259751797, Average Test Distance Error: 529.4378034798475, STD of Test Distance Errors: 294.56675226319805\n",
      "Epoch 79, Training Loss: 0.013068507425487041, Validation Loss: 0.007532856427133083, Average Test Distance Error: 481.1937483911864, STD of Test Distance Errors: 263.9317199925583\n",
      "Epoch 80, Training Loss: 0.013274469971656799, Validation Loss: 0.005608235020190477, Average Test Distance Error: 440.2834442102673, STD of Test Distance Errors: 214.82338208385218\n",
      "Epoch 81, Training Loss: 0.011047024931758642, Validation Loss: 0.007139166351407766, Average Test Distance Error: 404.0290796344146, STD of Test Distance Errors: 244.9883102964254\n",
      "Epoch 82, Training Loss: 0.009055061917752027, Validation Loss: 0.005274026654660702, Average Test Distance Error: 398.63034206702025, STD of Test Distance Errors: 229.736078482195\n",
      "Epoch 83, Training Loss: 0.007941552996635437, Validation Loss: 0.004308064002543688, Average Test Distance Error: 333.2498984827163, STD of Test Distance Errors: 189.16470091195276\n",
      "Epoch 84, Training Loss: 0.005761768948286772, Validation Loss: 0.004356721881777048, Average Test Distance Error: 394.7845441901959, STD of Test Distance Errors: 157.35632608270166\n",
      "Epoch 85, Training Loss: 0.007020670874044299, Validation Loss: 0.003502985229715705, Average Test Distance Error: 361.2558369693609, STD of Test Distance Errors: 148.9787411533182\n",
      "Epoch 86, Training Loss: 0.006063452642410994, Validation Loss: 0.0040246290154755116, Average Test Distance Error: 298.0063781317584, STD of Test Distance Errors: 142.09357009745858\n",
      "Epoch 87, Training Loss: 0.004697170713916421, Validation Loss: 0.0037513822317123413, Average Test Distance Error: 295.5725899830418, STD of Test Distance Errors: 135.58175943125374\n",
      "Epoch 88, Training Loss: 0.003315668972209096, Validation Loss: 0.003091879654675722, Average Test Distance Error: 312.0561150699641, STD of Test Distance Errors: 154.77868812846472\n",
      "Epoch 89, Training Loss: 0.003391846688464284, Validation Loss: 0.003616289934143424, Average Test Distance Error: 289.38595172139486, STD of Test Distance Errors: 149.75648275316235\n",
      "Epoch 90, Training Loss: 0.003101647412404418, Validation Loss: 0.0037574644666165113, Average Test Distance Error: 280.78488465507553, STD of Test Distance Errors: 149.70344841384323\n",
      "Epoch 91, Training Loss: 0.0028755446430295704, Validation Loss: 0.004013570491224527, Average Test Distance Error: 301.82110018515084, STD of Test Distance Errors: 125.19369558474705\n",
      "Epoch 92, Training Loss: 0.002508159913122654, Validation Loss: 0.0033961457666009665, Average Test Distance Error: 281.9500773082879, STD of Test Distance Errors: 140.07365595251332\n",
      "Epoch 93, Training Loss: 0.002540098805911839, Validation Loss: 0.003385331016033888, Average Test Distance Error: 282.28646426101625, STD of Test Distance Errors: 135.76192160894942\n",
      "Epoch 94, Training Loss: 0.0027918115258216856, Validation Loss: 0.0025476794689893723, Average Test Distance Error: 317.5879996972891, STD of Test Distance Errors: 154.69598811603478\n",
      "Epoch 95, Training Loss: 0.0025718501303344963, Validation Loss: 0.002467947779223323, Average Test Distance Error: 327.73387491799525, STD of Test Distance Errors: 154.283697336597\n",
      "Epoch 96, Training Loss: 0.0025213957298547028, Validation Loss: 0.0024425778537988663, Average Test Distance Error: 314.5641513543734, STD of Test Distance Errors: 149.69270148134072\n",
      "Epoch 97, Training Loss: 0.0019005152164027095, Validation Loss: 0.0027962177991867065, Average Test Distance Error: 280.57408602074076, STD of Test Distance Errors: 137.28693964879946\n",
      "Epoch 98, Training Loss: 0.0019374132854864002, Validation Loss: 0.0038088809233158827, Average Test Distance Error: 273.6584010616657, STD of Test Distance Errors: 142.58923606743974\n",
      "Epoch 99, Training Loss: 0.0016604868229478597, Validation Loss: 0.002911803312599659, Average Test Distance Error: 274.38688856099395, STD of Test Distance Errors: 139.89359243719682\n",
      "Epoch 100, Training Loss: 0.0022291308036074043, Validation Loss: 0.0029119891114532948, Average Test Distance Error: 278.2841705460257, STD of Test Distance Errors: 135.36757743407227\n"
     ]
    }
   ],
   "source": [
    "device = torch.device(\"cuda\" if torch.cuda.is_available() else \"cpu\")\n",
    "model = VGGishModel().to(device)\n",
    "criterion = nn.MSELoss()\n",
    "optimizer = torch.optim.Adam(model.parameters(), lr=1e-4)\n",
    "\n",
    "for epoch in range(100):\n",
    "    model.train()\n",
    "    running_loss = 0.0\n",
    "    for spectrograms, coordinates in train_loader:\n",
    "        spectrograms = spectrograms.to(device)\n",
    "        coordinates = coordinates.to(device)\n",
    "\n",
    "        optimizer.zero_grad()\n",
    "        outputs = model(spectrograms)\n",
    "        loss = criterion(outputs, coordinates)\n",
    "        loss.backward()\n",
    "        optimizer.step()\n",
    "        running_loss += loss.item()\n",
    "\n",
    "    model.eval()\n",
    "    validation_loss = 0.0\n",
    "    with torch.no_grad():\n",
    "        for spectrograms, coordinates in valid_loader:\n",
    "            spectrograms = spectrograms.to(device)\n",
    "            coordinates = coordinates.to(device)\n",
    "\n",
    "            outputs = model(spectrograms)\n",
    "            loss = criterion(outputs, coordinates)\n",
    "            validation_loss += loss.item()\n",
    "\n",
    "        test_distances = []\n",
    "        for spectrograms, coordinates in test_loader:\n",
    "            spectrograms = spectrograms.to(device)\n",
    "            coordinates = coordinates.to(device)\n",
    "\n",
    "            outputs = model(spectrograms)\n",
    "            outputs = outputs.cpu().numpy()\n",
    "            coordinates = coordinates.cpu().numpy()\n",
    "\n",
    "            for pred, actual in zip(outputs, coordinates):\n",
    "                pred_unnorm = unnormalize(pred)\n",
    "                actual_unnorm = unnormalize(actual)\n",
    "                distance = np.linalg.norm(pred_unnorm - actual_unnorm)\n",
    "                test_distances.append(distance)\n",
    "\n",
    "    average_distance_error = np.mean(test_distances)\n",
    "    std_distance_error = np.std(test_distances)\n",
    "\n",
    "    print(f\"Epoch {epoch+1}, Training Loss: {running_loss / len(train_loader)}, \"\n",
    "          f\"Validation Loss: {validation_loss / len(test_loader)}, \"\n",
    "          f\"Average Test Distance Error: {average_distance_error}, \"\n",
    "          f\"STD of Test Distance Errors: {std_distance_error}\")"
   ]
  },
  {
   "cell_type": "markdown",
   "metadata": {},
   "source": [
    "## Evaluating on the Human 2 dataset"
   ]
  },
  {
   "cell_type": "code",
   "execution_count": 25,
   "metadata": {},
   "outputs": [
    {
     "name": "stderr",
     "output_type": "stream",
     "text": [
      "/tmp/ipykernel_23915/3590247952.py:22: UserWarning: To copy construct from a tensor, it is recommended to use sourceTensor.clone().detach() or sourceTensor.clone().detach().requires_grad_(True), rather than torch.tensor(sourceTensor).\n",
      "  melspec = audio_to_melspectrogram(torch.tensor(audio_signal, dtype=torch.float32))\n",
      "/tmp/ipykernel_23915/371298476.py:5: UserWarning: To copy construct from a tensor, it is recommended to use sourceTensor.clone().detach() or sourceTensor.clone().detach().requires_grad_(True), rather than torch.tensor(sourceTensor).\n",
      "  audio = torch.tensor(audio, dtype=torch.float32)\n"
     ]
    },
    {
     "name": "stdout",
     "output_type": "stream",
     "text": [
      "Average Distance Error: 278.2841705460257\n",
      "Standard Deviation of Distance Errors: 135.36757743407227\n"
     ]
    }
   ],
   "source": [
    "model.eval()\n",
    "\n",
    "distance_errors = []\n",
    "\n",
    "for spectrograms, actual_coordinates in test_loader:\n",
    "    spectrograms = spectrograms.to(device)\n",
    "    actual_coordinates = actual_coordinates.to(device)\n",
    "    \n",
    "    with torch.no_grad():\n",
    "        predicted_coordinates = model(spectrograms)\n",
    "        predicted_coordinates = predicted_coordinates.cpu().numpy()\n",
    "        actual_coordinates = actual_coordinates.cpu().numpy()\n",
    "    \n",
    "    for pred, actual in zip(predicted_coordinates, actual_coordinates):\n",
    "        pred_unnorm = unnormalize(pred)\n",
    "        actual_unnorm = unnormalize(actual)\n",
    "        \n",
    "        distance = np.linalg.norm(pred_unnorm - actual_unnorm)\n",
    "        distance_errors.append(distance)\n",
    "\n",
    "average_distance_error = np.mean(distance_errors)\n",
    "\n",
    "print(\"Average Distance Error:\", average_distance_error)\n",
    "\n",
    "standard_deviation = np.std(distance_errors)\n",
    "\n",
    "print(\"Standard Deviation of Distance Errors:\", standard_deviation)"
   ]
  }
 ],
 "metadata": {
  "kernelspec": {
   "display_name": "base",
   "language": "python",
   "name": "python3"
  },
  "language_info": {
   "codemirror_mode": {
    "name": "ipython",
    "version": 3
   },
   "file_extension": ".py",
   "mimetype": "text/x-python",
   "name": "python",
   "nbconvert_exporter": "python",
   "pygments_lexer": "ipython3",
   "version": "3.11.6"
  }
 },
 "nbformat": 4,
 "nbformat_minor": 2
}
