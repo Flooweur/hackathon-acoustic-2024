{
 "cells": [
  {
   "cell_type": "code",
   "execution_count": 1,
   "metadata": {},
   "outputs": [],
   "source": [
    "import numpy as np"
   ]
  },
  {
   "cell_type": "markdown",
   "metadata": {},
   "source": [
    "## Loading the human1 data"
   ]
  },
  {
   "cell_type": "code",
   "execution_count": 2,
   "metadata": {},
   "outputs": [
    {
     "data": {
      "text/plain": [
       "array([[[ 9.07240337e-06,  1.71257434e-05,  1.22597794e-05, ...,\n",
       "          8.86178623e-06,  1.40686043e-05,  1.06616626e-05],\n",
       "        [-8.23853679e-06, -8.23373648e-06, -8.74563466e-06, ...,\n",
       "          2.87394778e-06, -8.90485808e-06, -3.52464713e-06],\n",
       "        [ 6.62780906e-07, -1.40201587e-06,  1.83228190e-06, ...,\n",
       "         -1.06218545e-06,  8.53497477e-06,  2.28155182e-06],\n",
       "        [ 8.11119719e-07, -2.47451499e-06,  5.82140547e-06, ...,\n",
       "          7.73804004e-06,  2.29692650e-05,  1.10566034e-05]],\n",
       "\n",
       "       [[ 1.64466037e-05,  1.53698293e-05,  1.91599720e-05, ...,\n",
       "          1.76548729e-05,  1.70955263e-05,  1.41169767e-05],\n",
       "        [ 1.05826217e-07,  9.13145777e-06,  1.76140716e-07, ...,\n",
       "          1.21369967e-05,  1.55958387e-05,  1.23088676e-05],\n",
       "        [ 7.06836090e-06,  3.26818258e-06,  7.15508941e-06, ...,\n",
       "          4.64980394e-06,  8.96262554e-06,  6.55734584e-06],\n",
       "        [-3.18089551e-05, -8.93297238e-06, -2.51026504e-05, ...,\n",
       "         -7.02741545e-07,  1.34268867e-05,  3.24307348e-06]],\n",
       "\n",
       "       [[ 4.71092753e-05,  4.42863784e-05,  4.81883108e-05, ...,\n",
       "          5.11715079e-05,  4.54165129e-05,  4.68136932e-05],\n",
       "        [-2.25045878e-05, -1.77392903e-05, -2.29746092e-05, ...,\n",
       "         -1.16080564e-05, -1.33936874e-05, -1.49674725e-05],\n",
       "        [-7.06177207e-06, -3.24991493e-06, -3.82365158e-07, ...,\n",
       "         -2.51065717e-06, -8.64210142e-06, -1.25162501e-06],\n",
       "        [ 7.42783523e-05, -1.04295970e-04, -1.18935568e-04, ...,\n",
       "         -3.82503276e-05, -3.20346385e-06,  2.36954511e-05]],\n",
       "\n",
       "       ...,\n",
       "\n",
       "       [[-9.19931699e-06, -1.12566586e-05, -6.25403072e-06, ...,\n",
       "         -6.18328158e-06, -7.30752890e-06, -5.60423996e-06],\n",
       "        [-8.76535523e-06, -4.28911699e-06, -5.81078848e-06, ...,\n",
       "         -3.45416925e-06, -7.85465454e-06, -3.31127535e-06],\n",
       "        [-3.47633295e-06,  1.70215810e-06, -5.54926203e-07, ...,\n",
       "          1.27369481e-06, -1.74354363e-06,  1.86796979e-06],\n",
       "        [ 2.13691851e-06,  1.01367950e-05,  1.14066588e-05, ...,\n",
       "         -1.72935925e-05, -1.24792969e-05, -1.97716799e-05]],\n",
       "\n",
       "       [[-3.31293450e-06,  8.98478265e-06,  3.39539952e-06, ...,\n",
       "         -6.63729168e-07, -1.82116059e-06, -4.22379713e-07],\n",
       "        [ 2.46191144e-06,  2.05640094e-06,  3.69124427e-06, ...,\n",
       "          3.03227239e-06,  5.80062397e-06,  2.60468755e-06],\n",
       "        [ 2.60216098e-06,  3.06390689e-06, -6.06109268e-07, ...,\n",
       "          8.91660693e-06, -2.67310270e-06,  7.77940932e-06],\n",
       "        [-1.12466259e-05, -7.33926136e-05, -1.92652078e-05, ...,\n",
       "          1.02715085e-05, -1.49204689e-05, -1.85605404e-05]],\n",
       "\n",
       "       [[-2.18067839e-06, -8.45159684e-06,  6.28021041e-07, ...,\n",
       "         -7.29226031e-06, -9.38796529e-06, -1.06312000e-05],\n",
       "        [ 5.12593260e-06,  6.90264642e-06,  6.00208568e-06, ...,\n",
       "          2.50897233e-06, -1.04963137e-05, -1.37404015e-06],\n",
       "        [ 7.75929493e-06,  1.52079519e-06,  7.64413744e-06, ...,\n",
       "          2.97681993e-07,  9.32359671e-06, -5.47995626e-07],\n",
       "        [-4.47002685e-06,  5.33304410e-06,  8.83690245e-06, ...,\n",
       "          1.00034840e-05,  4.90839875e-06,  1.29770433e-05]]],\n",
       "      dtype=float32)"
      ]
     },
     "execution_count": 2,
     "metadata": {},
     "output_type": "execute_result"
    }
   ],
   "source": [
    "human1_deconv = np.load('data/LivingRoom_preprocessed_hack/Human1/deconvoled_trim.npy')\n",
    "human1_deconv"
   ]
  },
  {
   "cell_type": "code",
   "execution_count": 3,
   "metadata": {},
   "outputs": [
    {
     "data": {
      "text/plain": [
       "(1000, 4, 667200)"
      ]
     },
     "execution_count": 3,
     "metadata": {},
     "output_type": "execute_result"
    }
   ],
   "source": [
    "human1_deconv.shape"
   ]
  },
  {
   "cell_type": "code",
   "execution_count": 4,
   "metadata": {},
   "outputs": [
    {
     "data": {
      "text/plain": [
       "array([[-3231.3293467 , -1127.87771457],\n",
       "       [-3198.54107875,  -744.5100656 ],\n",
       "       [-3192.9776274 ,  -248.26678827],\n",
       "       ...,\n",
       "       [-1717.89923578, -3166.59648491],\n",
       "       [-1808.60337549, -2779.13038427],\n",
       "       [   44.43741322,   106.48353609]])"
      ]
     },
     "execution_count": 4,
     "metadata": {},
     "output_type": "execute_result"
    }
   ],
   "source": [
    "human1_centroid = np.load('data/LivingRoom_preprocessed_hack/Human1/centroid.npy')\n",
    "human1_centroid"
   ]
  },
  {
   "cell_type": "code",
   "execution_count": 5,
   "metadata": {},
   "outputs": [
    {
     "data": {
      "text/plain": [
       "(1000, 2)"
      ]
     },
     "execution_count": 5,
     "metadata": {},
     "output_type": "execute_result"
    }
   ],
   "source": [
    "human1_centroid.shape"
   ]
  },
  {
   "cell_type": "markdown",
   "metadata": {},
   "source": [
    "## Splitting the data into train and test sets"
   ]
  },
  {
   "cell_type": "code",
   "execution_count": 6,
   "metadata": {},
   "outputs": [],
   "source": [
    "from sklearn.model_selection import train_test_split\n",
    "import torch\n",
    "\n",
    "X_train, X_test, y_train, y_test = train_test_split(human1_deconv, human1_centroid, test_size=0.2, random_state=42)\n",
    "\n",
    "X_train, X_valid, y_train, y_valid = train_test_split(X_train, y_train, test_size=0.1, random_state=42)\n",
    "\n",
    "X_train = torch.Tensor(X_train)\n",
    "X_test = torch.Tensor(X_test)\n",
    "X_valid = torch.Tensor(X_valid)\n",
    "\n",
    "y_train = torch.Tensor(y_train)\n",
    "y_test = torch.Tensor(y_test)\n",
    "y_valid = torch.Tensor(y_valid)"
   ]
  },
  {
   "cell_type": "markdown",
   "metadata": {},
   "source": [
    "## Preprocessing the data"
   ]
  },
  {
   "cell_type": "markdown",
   "metadata": {},
   "source": [
    "### Featurization with the spectrogram"
   ]
  },
  {
   "cell_type": "code",
   "execution_count": 7,
   "metadata": {},
   "outputs": [],
   "source": [
    "import torchaudio\n",
    "import torchaudio.transforms as T\n",
    "\n",
    "def audio_to_spectrogram(audio, sample_rate=44100, n_fft=2048, hop_length=512):\n",
    "    audio = torch.tensor(audio, dtype=torch.float32)\n",
    "    if audio.ndim == 1:\n",
    "        audio = audio.unsqueeze(0)\n",
    "    transformer = torchaudio.transforms.Spectrogram(n_fft=n_fft, hop_length=hop_length)\n",
    "    spectrogram = transformer(audio)\n",
    "    return spectrogram.squeeze(0)\n",
    "\n"
   ]
  },
  {
   "cell_type": "markdown",
   "metadata": {},
   "source": [
    "### Class to load the data into pytorch with DataLoader"
   ]
  },
  {
   "cell_type": "code",
   "execution_count": 8,
   "metadata": {},
   "outputs": [],
   "source": [
    "from torch.utils.data import Dataset, DataLoader\n",
    "\n",
    "class AudioDataset(Dataset):\n",
    "    def __init__(self, audio_data, labels, transform=None):\n",
    "        self.audio_data = audio_data\n",
    "        _max = torch.Tensor([500, 2000])\n",
    "        _min = torch.Tensor([-4000, -4000])\n",
    "        self.labels = (labels - _min) / (_max - _min)\n",
    "        self.transform = transform\n",
    "\n",
    "    def __len__(self):\n",
    "        return len(self.audio_data)\n",
    "\n",
    "    def __getitem__(self, idx):\n",
    "        audio_signal = self.audio_data[idx]\n",
    "        label = self.labels[idx]\n",
    "        if self.transform:\n",
    "            audio_signal = self.transform(audio_signal)\n",
    "        return audio_signal, label\n",
    "\n",
    "def transform_to_spectrogram(audio_signal):\n",
    "    spectrogram = audio_to_spectrogram(torch.tensor(audio_signal, dtype=torch.float32))\n",
    "    return spectrogram\n"
   ]
  },
  {
   "cell_type": "code",
   "execution_count": 9,
   "metadata": {},
   "outputs": [],
   "source": [
    "train_dataset = AudioDataset(X_train, y_train, transform=transform_to_spectrogram)\n",
    "test_dataset = AudioDataset(X_test, y_test, transform=transform_to_spectrogram)\n",
    "valid_dataset = AudioDataset(X_valid, y_valid, transform=transform_to_spectrogram)\n",
    "\n",
    "batch_size = 8\n",
    "\n",
    "train_loader = DataLoader(train_dataset, batch_size=batch_size, shuffle=True)\n",
    "test_loader = DataLoader(test_dataset, batch_size=batch_size, shuffle=False)\n",
    "valid_loader = DataLoader(valid_dataset, batch_size=batch_size, shuffle=False)"
   ]
  },
  {
   "cell_type": "markdown",
   "metadata": {},
   "source": [
    "## VGGish Model"
   ]
  },
  {
   "cell_type": "code",
   "execution_count": 10,
   "metadata": {},
   "outputs": [],
   "source": [
    "import torch.nn as nn\n",
    "import torch.nn.functional as F\n",
    "\n",
    "class VGGishModel(nn.Module):\n",
    "    def __init__(self):\n",
    "        super(VGGishModel, self).__init__()\n",
    "        self.featurization = nn.Sequential(\n",
    "            nn.Conv2d(4, 64, kernel_size=3, padding=1),\n",
    "            nn.ReLU(),\n",
    "            nn.MaxPool2d(kernel_size=2, stride=2),\n",
    "            nn.Conv2d(64, 128, kernel_size=3, padding=1),\n",
    "            nn.ReLU(),\n",
    "            nn.MaxPool2d(kernel_size=2, stride=2),\n",
    "            nn.Conv2d(128, 256, kernel_size=3, padding=1),\n",
    "            nn.ReLU(),\n",
    "            nn.Conv2d(256, 256, kernel_size=3, padding=1),\n",
    "            nn.ReLU(),\n",
    "            nn.MaxPool2d(kernel_size=2, stride=2),\n",
    "            nn.Conv2d(256, 512, kernel_size=3, padding=1),\n",
    "            nn.ReLU(),\n",
    "            nn.Conv2d(512, 512, kernel_size=3, padding=1),\n",
    "            nn.ReLU(),\n",
    "            nn.MaxPool2d(kernel_size=2, stride=2)\n",
    "        )\n",
    "        self.xy = nn.Sequential(\n",
    "            nn.Linear(2654208, 4096),\n",
    "            nn.ReLU(),\n",
    "            nn.Dropout(0.5),\n",
    "            nn.Linear(4096, 4096),\n",
    "            nn.ReLU(),\n",
    "            nn.Dropout(0.5),\n",
    "            nn.Linear(4096, 2),\n",
    "            nn.Sigmoid()\n",
    "        )\n",
    "    \n",
    "    def forward(self, x):\n",
    "        x = self.featurization(x)\n",
    "        x = torch.flatten(x, 1)\n",
    "        x = self.xy(x)\n",
    "        return x\n"
   ]
  },
  {
   "cell_type": "markdown",
   "metadata": {},
   "source": [
    "### Training the model"
   ]
  },
  {
   "cell_type": "code",
   "execution_count": 11,
   "metadata": {},
   "outputs": [],
   "source": [
    "_max = np.array([500, 2000])\n",
    "_min = np.array([-4000, -4000])\n",
    "\n",
    "def unnormalize(x):\n",
    "    return (x + 1) / 2 * (_max - _min) + _min"
   ]
  },
  {
   "cell_type": "code",
   "execution_count": 12,
   "metadata": {},
   "outputs": [
    {
     "name": "stderr",
     "output_type": "stream",
     "text": [
      "/tmp/ipykernel_97280/3315628308.py:22: UserWarning: To copy construct from a tensor, it is recommended to use sourceTensor.clone().detach() or sourceTensor.clone().detach().requires_grad_(True), rather than torch.tensor(sourceTensor).\n",
      "  spectrogram = audio_to_spectrogram(torch.tensor(audio_signal, dtype=torch.float32))\n",
      "/tmp/ipykernel_97280/2895334764.py:5: UserWarning: To copy construct from a tensor, it is recommended to use sourceTensor.clone().detach() or sourceTensor.clone().detach().requires_grad_(True), rather than torch.tensor(sourceTensor).\n",
      "  audio = torch.tensor(audio, dtype=torch.float32)\n"
     ]
    },
    {
     "ename": "OutOfMemoryError",
     "evalue": "CUDA out of memory. Tried to allocate 40.50 GiB. GPU 0 has a total capacity of 79.11 GiB of which 27.76 GiB is free. Process 1930158 has 51.34 GiB memory in use. Of the allocated memory 50.26 GiB is allocated by PyTorch, and 379.04 MiB is reserved by PyTorch but unallocated. If reserved but unallocated memory is large try setting PYTORCH_CUDA_ALLOC_CONF=expandable_segments:True to avoid fragmentation.  See documentation for Memory Management  (https://pytorch.org/docs/stable/notes/cuda.html#environment-variables)",
     "output_type": "error",
     "traceback": [
      "\u001b[0;31m---------------------------------------------------------------------------\u001b[0m",
      "\u001b[0;31mOutOfMemoryError\u001b[0m                          Traceback (most recent call last)",
      "\u001b[1;32m/home/onyxia/work/hackathon-acoustic-2024/vggish.ipynb Cell 19\u001b[0m line \u001b[0;36m1\n\u001b[1;32m     <a href='vscode-notebook-cell://user-nael-196721-0.user.lab.sspcloud.fr/home/onyxia/work/hackathon-acoustic-2024/vggish.ipynb#X24sdnNjb2RlLXJlbW90ZQ%3D%3D?line=13'>14</a>\u001b[0m outputs \u001b[39m=\u001b[39m model(spectrograms)\n\u001b[1;32m     <a href='vscode-notebook-cell://user-nael-196721-0.user.lab.sspcloud.fr/home/onyxia/work/hackathon-acoustic-2024/vggish.ipynb#X24sdnNjb2RlLXJlbW90ZQ%3D%3D?line=14'>15</a>\u001b[0m loss \u001b[39m=\u001b[39m criterion(outputs, coordinates)\n\u001b[0;32m---> <a href='vscode-notebook-cell://user-nael-196721-0.user.lab.sspcloud.fr/home/onyxia/work/hackathon-acoustic-2024/vggish.ipynb#X24sdnNjb2RlLXJlbW90ZQ%3D%3D?line=15'>16</a>\u001b[0m loss\u001b[39m.\u001b[39;49mbackward()\n\u001b[1;32m     <a href='vscode-notebook-cell://user-nael-196721-0.user.lab.sspcloud.fr/home/onyxia/work/hackathon-acoustic-2024/vggish.ipynb#X24sdnNjb2RlLXJlbW90ZQ%3D%3D?line=16'>17</a>\u001b[0m optimizer\u001b[39m.\u001b[39mstep()\n\u001b[1;32m     <a href='vscode-notebook-cell://user-nael-196721-0.user.lab.sspcloud.fr/home/onyxia/work/hackathon-acoustic-2024/vggish.ipynb#X24sdnNjb2RlLXJlbW90ZQ%3D%3D?line=17'>18</a>\u001b[0m running_loss \u001b[39m+\u001b[39m\u001b[39m=\u001b[39m loss\u001b[39m.\u001b[39mitem()\n",
      "File \u001b[0;32m/opt/mamba/lib/python3.11/site-packages/torch/_tensor.py:522\u001b[0m, in \u001b[0;36mTensor.backward\u001b[0;34m(self, gradient, retain_graph, create_graph, inputs)\u001b[0m\n\u001b[1;32m    512\u001b[0m \u001b[39mif\u001b[39;00m has_torch_function_unary(\u001b[39mself\u001b[39m):\n\u001b[1;32m    513\u001b[0m     \u001b[39mreturn\u001b[39;00m handle_torch_function(\n\u001b[1;32m    514\u001b[0m         Tensor\u001b[39m.\u001b[39mbackward,\n\u001b[1;32m    515\u001b[0m         (\u001b[39mself\u001b[39m,),\n\u001b[0;32m   (...)\u001b[0m\n\u001b[1;32m    520\u001b[0m         inputs\u001b[39m=\u001b[39minputs,\n\u001b[1;32m    521\u001b[0m     )\n\u001b[0;32m--> 522\u001b[0m torch\u001b[39m.\u001b[39;49mautograd\u001b[39m.\u001b[39;49mbackward(\n\u001b[1;32m    523\u001b[0m     \u001b[39mself\u001b[39;49m, gradient, retain_graph, create_graph, inputs\u001b[39m=\u001b[39;49minputs\n\u001b[1;32m    524\u001b[0m )\n",
      "File \u001b[0;32m/opt/mamba/lib/python3.11/site-packages/torch/autograd/__init__.py:266\u001b[0m, in \u001b[0;36mbackward\u001b[0;34m(tensors, grad_tensors, retain_graph, create_graph, grad_variables, inputs)\u001b[0m\n\u001b[1;32m    261\u001b[0m     retain_graph \u001b[39m=\u001b[39m create_graph\n\u001b[1;32m    263\u001b[0m \u001b[39m# The reason we repeat the same comment below is that\u001b[39;00m\n\u001b[1;32m    264\u001b[0m \u001b[39m# some Python versions print out the first line of a multi-line function\u001b[39;00m\n\u001b[1;32m    265\u001b[0m \u001b[39m# calls in the traceback and some print out the last line\u001b[39;00m\n\u001b[0;32m--> 266\u001b[0m Variable\u001b[39m.\u001b[39;49m_execution_engine\u001b[39m.\u001b[39;49mrun_backward(  \u001b[39m# Calls into the C++ engine to run the backward pass\u001b[39;49;00m\n\u001b[1;32m    267\u001b[0m     tensors,\n\u001b[1;32m    268\u001b[0m     grad_tensors_,\n\u001b[1;32m    269\u001b[0m     retain_graph,\n\u001b[1;32m    270\u001b[0m     create_graph,\n\u001b[1;32m    271\u001b[0m     inputs,\n\u001b[1;32m    272\u001b[0m     allow_unreachable\u001b[39m=\u001b[39;49m\u001b[39mTrue\u001b[39;49;00m,\n\u001b[1;32m    273\u001b[0m     accumulate_grad\u001b[39m=\u001b[39;49m\u001b[39mTrue\u001b[39;49;00m,\n\u001b[1;32m    274\u001b[0m )\n",
      "\u001b[0;31mOutOfMemoryError\u001b[0m: CUDA out of memory. Tried to allocate 40.50 GiB. GPU 0 has a total capacity of 79.11 GiB of which 27.76 GiB is free. Process 1930158 has 51.34 GiB memory in use. Of the allocated memory 50.26 GiB is allocated by PyTorch, and 379.04 MiB is reserved by PyTorch but unallocated. If reserved but unallocated memory is large try setting PYTORCH_CUDA_ALLOC_CONF=expandable_segments:True to avoid fragmentation.  See documentation for Memory Management  (https://pytorch.org/docs/stable/notes/cuda.html#environment-variables)"
     ]
    }
   ],
   "source": [
    "device = torch.device(\"cuda\" if torch.cuda.is_available() else \"cpu\")\n",
    "model = VGGishModel().to(device)\n",
    "criterion = nn.MSELoss()\n",
    "optimizer = torch.optim.Adam(model.parameters(), lr=1e-4)\n",
    "\n",
    "for epoch in range(100):\n",
    "    model.train()\n",
    "    running_loss = 0.0\n",
    "    for spectrograms, coordinates in train_loader:\n",
    "        spectrograms = spectrograms.to(device)\n",
    "        coordinates = coordinates.to(device)\n",
    "\n",
    "        optimizer.zero_grad()\n",
    "        outputs = model(spectrograms)\n",
    "        loss = criterion(outputs, coordinates)\n",
    "        loss.backward()\n",
    "        optimizer.step()\n",
    "        running_loss += loss.item()\n",
    "\n",
    "    model.eval()\n",
    "    validation_loss = 0.0\n",
    "    with torch.no_grad():\n",
    "        for spectrograms, coordinates in valid_loader:\n",
    "            spectrograms = spectrograms.to(device)\n",
    "            coordinates = coordinates.to(device)\n",
    "\n",
    "            outputs = model(spectrograms)\n",
    "            loss = criterion(outputs, coordinates)\n",
    "            validation_loss += loss.item()\n",
    "\n",
    "        for spectrograms, coordinates in test_loader:\n",
    "            spectrograms = spectrograms.to(device)\n",
    "            coordinates = coordinates.to(device)\n",
    "\n",
    "            outputs = model(spectrograms)\n",
    "            outputs = outputs.cpu().numpy()\n",
    "            coordinates = coordinates.cpu().numpy()\n",
    "\n",
    "            for pred, actual in zip(outputs, coordinates):\n",
    "                pred_unnorm = unnormalize(pred)\n",
    "                actual_unnorm = unnormalize(actual)\n",
    "                distance = np.linalg.norm(pred_unnorm - actual_unnorm)\n",
    "                test_distances.append(distance)\n",
    "\n",
    "    average_distance_error = np.mean(test_distances)\n",
    "    std_distance_error = np.std(test_distances)\n",
    "\n",
    "    print(f\"Epoch {epoch+1}, Training Loss: {running_loss / len(train_loader)}, \"\n",
    "          f\"Validation Loss: {validation_loss / len(valid_loader)}, \"\n",
    "          f\"Average Test Distance Error: {average_distance_error}, \"\n",
    "          f\"STD of Test Distance Errors: {std_distance_error}\")"
   ]
  },
  {
   "cell_type": "markdown",
   "metadata": {},
   "source": [
    "## Evaluating the model"
   ]
  },
  {
   "cell_type": "code",
   "execution_count": null,
   "metadata": {},
   "outputs": [
    {
     "name": "stdout",
     "output_type": "stream",
     "text": [
      "Average Distance Error: 525.2892631156277\n",
      "Standard Deviation of Distance Errors: 310.2712909710867\n"
     ]
    },
    {
     "name": "stderr",
     "output_type": "stream",
     "text": [
      "/tmp/ipykernel_74749/3590247952.py:22: UserWarning: To copy construct from a tensor, it is recommended to use sourceTensor.clone().detach() or sourceTensor.clone().detach().requires_grad_(True), rather than torch.tensor(sourceTensor).\n",
      "  melspec = audio_to_melspectrogram(torch.tensor(audio_signal, dtype=torch.float32))\n",
      "/tmp/ipykernel_74749/371298476.py:5: UserWarning: To copy construct from a tensor, it is recommended to use sourceTensor.clone().detach() or sourceTensor.clone().detach().requires_grad_(True), rather than torch.tensor(sourceTensor).\n",
      "  audio = torch.tensor(audio, dtype=torch.float32)\n"
     ]
    }
   ],
   "source": [
    "model.eval()\n",
    "\n",
    "distance_errors = []\n",
    "\n",
    "for spectrograms, actual_coordinates in test_loader:\n",
    "    spectrograms = spectrograms.to(device)\n",
    "    actual_coordinates = actual_coordinates.to(device)\n",
    "    \n",
    "    with torch.no_grad():\n",
    "        predicted_coordinates = model(spectrograms)\n",
    "        predicted_coordinates = predicted_coordinates.cpu().numpy()\n",
    "        actual_coordinates = actual_coordinates.cpu().numpy()\n",
    "    \n",
    "    for pred, actual in zip(predicted_coordinates, actual_coordinates):\n",
    "        pred_unnorm = unnormalize(pred)\n",
    "        actual_unnorm = unnormalize(actual)\n",
    "        \n",
    "        distance = np.linalg.norm(pred_unnorm - actual_unnorm)\n",
    "        distance_errors.append(distance)\n",
    "\n",
    "average_distance_error = np.mean(distance_errors)\n",
    "\n",
    "print(\"Average Distance Error:\", average_distance_error)\n",
    "\n",
    "standard_deviation = np.std(distance_errors)\n",
    "\n",
    "print(\"Standard Deviation of Distance Errors:\", standard_deviation)"
   ]
  },
  {
   "cell_type": "markdown",
   "metadata": {},
   "source": [
    "## Loading the human2 dataset"
   ]
  },
  {
   "cell_type": "code",
   "execution_count": null,
   "metadata": {},
   "outputs": [
    {
     "data": {
      "text/plain": [
       "array([[[ 1.32263867e-05,  4.04477396e-06,  1.72964337e-05, ...,\n",
       "          1.42459985e-05,  7.06920127e-06,  1.52228458e-05],\n",
       "        [ 1.66781626e-06,  4.13932912e-06,  4.92448726e-06, ...,\n",
       "          1.69338909e-05,  1.40092038e-06,  1.19383767e-05],\n",
       "        [ 1.15825042e-05,  4.49341405e-06,  1.40825741e-05, ...,\n",
       "          1.12802718e-05,  1.38609530e-05,  6.46868511e-06],\n",
       "        [-2.10553353e-05, -2.40086247e-05, -1.06697380e-05, ...,\n",
       "         -2.20970142e-05, -2.00329578e-05, -2.09568789e-05]],\n",
       "\n",
       "       [[-7.21401693e-06,  1.12978867e-07, -4.36823848e-06, ...,\n",
       "         -1.81246889e-06, -8.53981510e-06, -1.84635439e-06],\n",
       "        [ 1.36644203e-05,  2.30385322e-05,  1.24044136e-05, ...,\n",
       "          9.66903553e-06,  1.00616371e-05,  1.03869361e-05],\n",
       "        [ 2.78378029e-05,  1.38622945e-05,  2.71665067e-05, ...,\n",
       "          1.33699305e-05,  1.06378029e-05,  1.05457875e-05],\n",
       "        [ 1.15678056e-04,  1.64297759e-04,  5.92336910e-05, ...,\n",
       "          5.16751425e-05,  3.32121781e-05,  1.38982023e-05]],\n",
       "\n",
       "       [[-1.59124454e-06, -9.91511479e-06,  1.74267120e-06, ...,\n",
       "          3.94251998e-07,  2.68778354e-06,  2.13934914e-06],\n",
       "        [ 7.30616648e-06,  4.54986503e-06,  7.84721578e-06, ...,\n",
       "          1.06087164e-05,  1.44588432e-06,  9.16507815e-06],\n",
       "        [ 3.13707551e-06,  4.37415792e-06,  7.82795814e-06, ...,\n",
       "          7.21973765e-06,  1.20149498e-05,  5.69734175e-06],\n",
       "        [ 1.00595935e-05, -6.92771255e-06,  1.17938425e-05, ...,\n",
       "         -1.05910322e-05,  2.11578481e-06, -9.65056279e-06]],\n",
       "\n",
       "       ...,\n",
       "\n",
       "       [[-6.49007234e-06, -1.20259056e-05, -7.84140866e-06, ...,\n",
       "         -1.18712451e-05, -4.17982164e-06, -1.42443532e-05],\n",
       "        [ 1.02307922e-05,  1.11256786e-05,  1.15741532e-05, ...,\n",
       "          1.02063514e-05,  4.62145522e-07,  9.20632647e-06],\n",
       "        [ 2.82056408e-06,  4.39899986e-06,  5.47178161e-06, ...,\n",
       "         -5.49734023e-06,  5.39134453e-06, -7.68493919e-06],\n",
       "        [-1.09625707e-05, -1.49788875e-05, -5.78490426e-06, ...,\n",
       "         -1.18736443e-05, -1.38960777e-05, -5.34930450e-06]],\n",
       "\n",
       "       [[-7.78719696e-05, -7.28835148e-05, -7.53981658e-05, ...,\n",
       "         -7.64382203e-05, -7.63384596e-05, -7.56490990e-05],\n",
       "        [-1.66587870e-06,  6.98116719e-06, -6.07548202e-07, ...,\n",
       "         -3.65104711e-07, -3.64715243e-06, -6.02160208e-06],\n",
       "        [ 7.92054470e-06,  4.23502024e-06,  1.09544144e-05, ...,\n",
       "          7.53775021e-06,  5.11439339e-06,  1.01513324e-05],\n",
       "        [ 4.49684740e-05,  4.10416869e-05,  4.38610514e-05, ...,\n",
       "          2.11692368e-05,  1.37110801e-05,  2.55454015e-05]],\n",
       "\n",
       "       [[ 7.66158155e-06,  1.21757357e-05,  9.88330066e-06, ...,\n",
       "          8.46857438e-06,  1.20377481e-05,  1.00683746e-05],\n",
       "        [-2.58315595e-06,  2.60652246e-06, -3.87392993e-06, ...,\n",
       "         -8.74932084e-06, -1.92495445e-05, -6.75919409e-06],\n",
       "        [ 1.30914268e-05,  1.70151611e-06,  1.17290929e-05, ...,\n",
       "          4.16891271e-06,  5.02312048e-07,  3.46589354e-06],\n",
       "        [-5.54151302e-06, -2.73848468e-06, -1.76893282e-05, ...,\n",
       "         -2.06357549e-06, -1.13691669e-06, -2.21694208e-07]]],\n",
       "      dtype=float32)"
      ]
     },
     "execution_count": 46,
     "metadata": {},
     "output_type": "execute_result"
    }
   ],
   "source": [
    "human2_deconv = np.load('data/LivingRoom_preprocessed_hack/Human2/deconvoled_trim.npy')\n",
    "human2_deconv"
   ]
  },
  {
   "cell_type": "code",
   "execution_count": null,
   "metadata": {},
   "outputs": [
    {
     "data": {
      "text/plain": [
       "(104, 4, 667200)"
      ]
     },
     "execution_count": 47,
     "metadata": {},
     "output_type": "execute_result"
    }
   ],
   "source": [
    "human2_deconv.shape"
   ]
  },
  {
   "cell_type": "code",
   "execution_count": null,
   "metadata": {},
   "outputs": [
    {
     "data": {
      "text/plain": [
       "array([[-2406.85413008, -2443.62906004],\n",
       "       [-1923.16230038, -2504.30576997],\n",
       "       [-1615.29307549, -2525.71107555],\n",
       "       [-1234.84729435, -2581.21590946],\n",
       "       [ -906.89320474, -2648.96828851],\n",
       "       [ -579.82451164, -2563.38746474],\n",
       "       [ -258.89043633, -2501.99822189],\n",
       "       [ -237.00812692, -2957.79113999],\n",
       "       [ -608.16773853, -2894.26845589],\n",
       "       [ -920.67771947, -2892.68441764],\n",
       "       [-1177.38289287, -3050.12473983],\n",
       "       [-1690.95162773, -3023.00826184],\n",
       "       [-1968.49135428, -3048.59689339],\n",
       "       [-2401.44182176, -2925.40384273],\n",
       "       [-2626.65068051, -2353.52639219],\n",
       "       [-2945.10567004, -2270.29924636],\n",
       "       [-3288.80884616, -2179.77519901],\n",
       "       [-3543.43725461, -2122.72140672],\n",
       "       [-3818.97939345, -2074.06640841],\n",
       "       [-3787.00508742, -1745.78914635],\n",
       "       [-3440.47071217, -1786.24662486],\n",
       "       [-3126.89926719, -1778.7456592 ],\n",
       "       [-2780.8277654 , -1806.35696377],\n",
       "       [-2443.03492952, -1839.64542774],\n",
       "       [-2359.37110303, -1517.60616977],\n",
       "       [-2643.69001771, -1476.99863966],\n",
       "       [-3045.54399981, -1635.42668901],\n",
       "       [-3302.78792751, -1472.55710516],\n",
       "       [-3760.33837488, -1417.04328708],\n",
       "       [-4041.78587419, -1398.58686915],\n",
       "       [-3651.45722762, -1008.85761266],\n",
       "       [-3355.62188694, -1089.07882205],\n",
       "       [-3048.65658737, -1200.21177144],\n",
       "       [-2734.10489942, -1134.21199905],\n",
       "       [-2435.83186031, -1178.45429302],\n",
       "       [-2155.69607285, -1183.03153078],\n",
       "       [-1847.07850153, -1235.69062946],\n",
       "       [-1557.37560866, -1234.82759791],\n",
       "       [-1531.22328309, -1228.9545573 ],\n",
       "       [-1207.64306356, -1242.82564985],\n",
       "       [ -998.26096962, -1242.71378666],\n",
       "       [ -622.02513945, -1268.3093557 ],\n",
       "       [ -355.68967957, -1267.79753437],\n",
       "       [  -95.26894965, -1276.82377107],\n",
       "       [ -120.26384771, -1058.74805353],\n",
       "       [ -332.36265002, -1022.65309523],\n",
       "       [ -640.88424352, -1024.24696922],\n",
       "       [ -944.27035687,  -979.93555298],\n",
       "       [-1240.93341209,  -967.64966289],\n",
       "       [-1519.16112413,  -934.05588423],\n",
       "       [-1898.31291437,  -906.7704297 ],\n",
       "       [-2174.34009065,  -862.83519934],\n",
       "       [-2448.47165846,  -862.73729902],\n",
       "       [-2743.57430041,  -852.31660839],\n",
       "       [-3055.60116767,  -949.73624758],\n",
       "       [-3350.74501924,  -826.39623757],\n",
       "       [-3652.95673206,  -768.16921515],\n",
       "       [-4026.15742864,  -721.68769267],\n",
       "       [-4212.45524053,  -491.83103693],\n",
       "       [-3910.18060853,  -475.75206615],\n",
       "       [-3575.65161611,  -547.45314677],\n",
       "       [-3305.80330865,  -515.83720953],\n",
       "       [-3010.80451599,  -568.44553128],\n",
       "       [-2736.82840499,  -640.02346683],\n",
       "       [-2432.52236233,  -593.033447  ],\n",
       "       [-2118.32611622,  -608.1245535 ],\n",
       "       [-1842.72460939,  -610.68079444],\n",
       "       [-3180.87294097,    11.6457925 ],\n",
       "       [-2974.23113827,    51.43045306],\n",
       "       [-2675.1647806 ,    29.52612472],\n",
       "       [-2367.76165375,    16.76693426],\n",
       "       [-1998.05582416,   -24.53025921],\n",
       "       [-1494.81792534,     7.12123641],\n",
       "       [ -994.54752374,    17.99301039],\n",
       "       [ -538.13451818,   -43.14113727],\n",
       "       [ -133.59410862,   -44.02143921],\n",
       "       [ -296.63615487,   512.39135969],\n",
       "       [ -793.05686194,   542.30317284],\n",
       "       [-1271.43797693,   573.81320695],\n",
       "       [-1767.79202043,   612.59550976],\n",
       "       [-2348.34764957,   595.50337033],\n",
       "       [-3007.61226617,   712.21723471],\n",
       "       [-2930.96808593,  1256.13317503],\n",
       "       [-2316.53559434,  1123.38954864],\n",
       "       [-1679.50134433,  1099.96555737],\n",
       "       [-1042.58473051,  1009.9280883 ],\n",
       "       [ -665.15345651,   977.97257872],\n",
       "       [-3526.30838217,  -318.91208246],\n",
       "       [-2978.56597766,  -269.83433736],\n",
       "       [-2403.52308428,  -295.7705034 ],\n",
       "       [-1982.38114262,  -285.30077693],\n",
       "       [-3035.68912165,   401.38123903],\n",
       "       [-2313.41459509,   315.47103584],\n",
       "       [-1782.23700971,   240.29441206],\n",
       "       [-1171.39643252,   256.18655269],\n",
       "       [ -547.33577587,   237.51851395],\n",
       "       [  -13.17036956,   235.70076054],\n",
       "       [ -557.85356137,   703.38566361],\n",
       "       [-1000.85194532,   772.02964634],\n",
       "       [-1505.96410651,   815.53440699],\n",
       "       [-2122.85430173,   872.72639732],\n",
       "       [-2652.683178  ,   858.21826774],\n",
       "       [-3089.8571679 ,   970.63036148],\n",
       "       [-2537.70644544,   372.03539505]])"
      ]
     },
     "execution_count": 48,
     "metadata": {},
     "output_type": "execute_result"
    }
   ],
   "source": [
    "human2_centroid = np.load('data/LivingRoom_preprocessed_hack/Human2/centroid.npy')\n",
    "human2_centroid"
   ]
  },
  {
   "cell_type": "code",
   "execution_count": null,
   "metadata": {},
   "outputs": [
    {
     "data": {
      "text/plain": [
       "(104, 2)"
      ]
     },
     "execution_count": 49,
     "metadata": {},
     "output_type": "execute_result"
    }
   ],
   "source": [
    "human2_centroid.shape"
   ]
  },
  {
   "cell_type": "code",
   "execution_count": null,
   "metadata": {},
   "outputs": [],
   "source": [
    "from sklearn.model_selection import train_test_split\n",
    "import torch\n",
    "\n",
    "X_train, X_test, y_train, y_test = train_test_split(human2_deconv, human2_centroid, test_size=0.2, random_state=42)\n",
    "\n",
    "X_train = torch.Tensor(X_train)\n",
    "X_test = torch.Tensor(X_test)\n",
    "\n",
    "y_train = torch.Tensor(y_train)\n",
    "y_test = torch.Tensor(y_test)"
   ]
  },
  {
   "cell_type": "code",
   "execution_count": null,
   "metadata": {},
   "outputs": [],
   "source": [
    "train_dataset = AudioDataset(X_train, y_train, transform=transform_to_spectrogram)\n",
    "test_dataset = AudioDataset(X_test, y_test, transform=transform_to_spectrogram)\n",
    "\n",
    "batch_size = 16\n",
    "\n",
    "train_loader = DataLoader(train_dataset, batch_size=batch_size, shuffle=True)\n",
    "test_loader = DataLoader(test_dataset, batch_size=batch_size, shuffle=False)\n"
   ]
  },
  {
   "cell_type": "markdown",
   "metadata": {},
   "source": [
    "## Training the model on the Human 2 dataset"
   ]
  },
  {
   "cell_type": "code",
   "execution_count": null,
   "metadata": {},
   "outputs": [
    {
     "name": "stderr",
     "output_type": "stream",
     "text": [
      "/tmp/ipykernel_74749/3590247952.py:22: UserWarning: To copy construct from a tensor, it is recommended to use sourceTensor.clone().detach() or sourceTensor.clone().detach().requires_grad_(True), rather than torch.tensor(sourceTensor).\n",
      "  melspec = audio_to_melspectrogram(torch.tensor(audio_signal, dtype=torch.float32))\n",
      "/tmp/ipykernel_74749/371298476.py:5: UserWarning: To copy construct from a tensor, it is recommended to use sourceTensor.clone().detach() or sourceTensor.clone().detach().requires_grad_(True), rather than torch.tensor(sourceTensor).\n",
      "  audio = torch.tensor(audio, dtype=torch.float32)\n"
     ]
    },
    {
     "name": "stdout",
     "output_type": "stream",
     "text": [
      "Epoch 1, Training Loss: 0.06113321209947268, Validation Loss: 0.046385763213038445\n",
      "Epoch 2, Training Loss: 0.05050892817477385, Validation Loss: 0.04715699516236782\n",
      "Epoch 3, Training Loss: 0.05222000243763129, Validation Loss: 0.045040188357234\n",
      "Epoch 4, Training Loss: 0.04746897146105766, Validation Loss: 0.0447651743888855\n",
      "Epoch 5, Training Loss: 0.04852274184425672, Validation Loss: 0.044496551156044006\n",
      "Epoch 6, Training Loss: 0.04723503440618515, Validation Loss: 0.044571490958333015\n",
      "Epoch 7, Training Loss: 0.047738206262389817, Validation Loss: 0.0445479191839695\n",
      "Epoch 8, Training Loss: 0.047862776244680084, Validation Loss: 0.0453879963606596\n",
      "Epoch 9, Training Loss: 0.045510398844877877, Validation Loss: 0.044871823862195015\n",
      "Epoch 10, Training Loss: 0.04944590417047342, Validation Loss: 0.04463179595768452\n",
      "Epoch 11, Training Loss: 0.04504664366443952, Validation Loss: 0.045054176822304726\n",
      "Epoch 12, Training Loss: 0.04469514482965072, Validation Loss: 0.044978370890021324\n",
      "Epoch 13, Training Loss: 0.04563473848005136, Validation Loss: 0.04462652467191219\n",
      "Epoch 14, Training Loss: 0.0522821464886268, Validation Loss: 0.04436693899333477\n",
      "Epoch 15, Training Loss: 0.048869749531149864, Validation Loss: 0.04425428993999958\n",
      "Epoch 16, Training Loss: 0.04897179454565048, Validation Loss: 0.04419377259910107\n",
      "Epoch 17, Training Loss: 0.057780385638276734, Validation Loss: 0.04450245760381222\n",
      "Epoch 18, Training Loss: 0.052974436432123184, Validation Loss: 0.045262740924954414\n",
      "Epoch 19, Training Loss: 0.04554439770678679, Validation Loss: 0.045004623010754585\n",
      "Epoch 20, Training Loss: 0.05066880087057749, Validation Loss: 0.044557688757777214\n",
      "Epoch 21, Training Loss: 0.04747244529426098, Validation Loss: 0.04434795118868351\n",
      "Epoch 22, Training Loss: 0.04489650701483091, Validation Loss: 0.044153425842523575\n",
      "Epoch 23, Training Loss: 0.04476156427214543, Validation Loss: 0.044445717707276344\n",
      "Epoch 24, Training Loss: 0.04807502031326294, Validation Loss: 0.044088203459978104\n",
      "Epoch 25, Training Loss: 0.05001174906889597, Validation Loss: 0.04501998610794544\n",
      "Epoch 26, Training Loss: 0.053947690253456436, Validation Loss: 0.044165344908833504\n",
      "Epoch 27, Training Loss: 0.05241996422410011, Validation Loss: 0.045237356796860695\n",
      "Epoch 28, Training Loss: 0.04625102629264196, Validation Loss: 0.04592238552868366\n",
      "Epoch 29, Training Loss: 0.04756533602873484, Validation Loss: 0.04434480331838131\n",
      "Epoch 30, Training Loss: 0.04690278942386309, Validation Loss: 0.04430747032165527\n",
      "Epoch 31, Training Loss: 0.047952904676397644, Validation Loss: 0.04373055882751942\n",
      "Epoch 32, Training Loss: 0.04463790046672026, Validation Loss: 0.04386436194181442\n",
      "Epoch 33, Training Loss: 0.04301895170162121, Validation Loss: 0.044007351621985435\n",
      "Epoch 34, Training Loss: 0.04163785216708978, Validation Loss: 0.04243166372179985\n",
      "Epoch 35, Training Loss: 0.046361529578765236, Validation Loss: 0.0468684583902359\n",
      "Epoch 36, Training Loss: 0.047543492168188095, Validation Loss: 0.04483500495553017\n",
      "Epoch 37, Training Loss: 0.04800939249495665, Validation Loss: 0.0445228535681963\n",
      "Epoch 38, Training Loss: 0.039678126418342195, Validation Loss: 0.044267455115914345\n",
      "Epoch 39, Training Loss: 0.04115246422588825, Validation Loss: 0.04479961469769478\n",
      "Epoch 40, Training Loss: 0.042225321754813194, Validation Loss: 0.045400429517030716\n",
      "Epoch 41, Training Loss: 0.04780910722911358, Validation Loss: 0.04402259737253189\n",
      "Epoch 42, Training Loss: 0.0406898350144426, Validation Loss: 0.04400739260017872\n",
      "Epoch 43, Training Loss: 0.0437936553110679, Validation Loss: 0.04377712868154049\n",
      "Epoch 44, Training Loss: 0.044318697725733124, Validation Loss: 0.045187825337052345\n",
      "Epoch 45, Training Loss: 0.041048306971788406, Validation Loss: 0.044999001547694206\n",
      "Epoch 46, Training Loss: 0.03879401988039414, Validation Loss: 0.04367905668914318\n",
      "Epoch 47, Training Loss: 0.041575140009323754, Validation Loss: 0.043658290058374405\n",
      "Epoch 48, Training Loss: 0.03880247846245766, Validation Loss: 0.04326106794178486\n",
      "Epoch 49, Training Loss: 0.04048507039745649, Validation Loss: 0.0431867316365242\n",
      "Epoch 50, Training Loss: 0.037449005991220474, Validation Loss: 0.04380802996456623\n",
      "Epoch 51, Training Loss: 0.04452357689539591, Validation Loss: 0.044187404215335846\n",
      "Epoch 52, Training Loss: 0.04156241938471794, Validation Loss: 0.04326901584863663\n",
      "Epoch 53, Training Loss: 0.04533885233104229, Validation Loss: 0.04321282170712948\n",
      "Epoch 54, Training Loss: 0.03846444841474295, Validation Loss: 0.04497938230633736\n",
      "Epoch 55, Training Loss: 0.03882765614738067, Validation Loss: 0.0432491023093462\n",
      "Epoch 56, Training Loss: 0.042678287252783775, Validation Loss: 0.041849834844470024\n",
      "Epoch 57, Training Loss: 0.042786590134104095, Validation Loss: 0.0415770597755909\n",
      "Epoch 58, Training Loss: 0.043846964836120605, Validation Loss: 0.04196292534470558\n",
      "Epoch 59, Training Loss: 0.03662601268539826, Validation Loss: 0.040267907083034515\n",
      "Epoch 60, Training Loss: 0.04293854193141063, Validation Loss: 0.038406698033213615\n",
      "Epoch 61, Training Loss: 0.03323503645757834, Validation Loss: 0.0384945347905159\n",
      "Epoch 62, Training Loss: 0.0388520530735453, Validation Loss: 0.05208282358944416\n",
      "Epoch 63, Training Loss: 0.03906172482917706, Validation Loss: 0.03999212756752968\n",
      "Epoch 64, Training Loss: 0.035814568400382996, Validation Loss: 0.041102372109889984\n",
      "Epoch 65, Training Loss: 0.039638844008247055, Validation Loss: 0.03625273518264294\n",
      "Epoch 66, Training Loss: 0.037422976146141686, Validation Loss: 0.03737223520874977\n",
      "Epoch 67, Training Loss: 0.033079633178810276, Validation Loss: 0.035716503858566284\n",
      "Epoch 68, Training Loss: 0.0371870935584108, Validation Loss: 0.034441642463207245\n",
      "Epoch 69, Training Loss: 0.030949002131819725, Validation Loss: 0.03756732866168022\n",
      "Epoch 70, Training Loss: 0.029439569140474003, Validation Loss: 0.02776543889194727\n",
      "Epoch 71, Training Loss: 0.02983096210906903, Validation Loss: 0.02756115421652794\n",
      "Epoch 72, Training Loss: 0.028094405308365822, Validation Loss: 0.0299261212348938\n",
      "Epoch 73, Training Loss: 0.033409868056575455, Validation Loss: 0.04202299937605858\n",
      "Epoch 74, Training Loss: 0.03084798778096835, Validation Loss: 0.052912335842847824\n",
      "Epoch 75, Training Loss: 0.04251988915105661, Validation Loss: 0.037523865699768066\n",
      "Epoch 76, Training Loss: 0.034079037606716156, Validation Loss: 0.03638659790158272\n",
      "Epoch 77, Training Loss: 0.030385388682285946, Validation Loss: 0.03193318657577038\n",
      "Epoch 78, Training Loss: 0.028760315850377083, Validation Loss: 0.029773112386465073\n",
      "Epoch 79, Training Loss: 0.025786682963371277, Validation Loss: 0.02855527773499489\n",
      "Epoch 80, Training Loss: 0.02488704553494851, Validation Loss: 0.04654569365084171\n",
      "Epoch 81, Training Loss: 0.028875768805543583, Validation Loss: 0.0290933046489954\n",
      "Epoch 82, Training Loss: 0.03238329074035088, Validation Loss: 0.027537252753973007\n",
      "Epoch 83, Training Loss: 0.025621482636779547, Validation Loss: 0.0390032883733511\n",
      "Epoch 84, Training Loss: 0.02640312894557913, Validation Loss: 0.027617013081908226\n",
      "Epoch 85, Training Loss: 0.023161927703768015, Validation Loss: 0.027526240795850754\n",
      "Epoch 86, Training Loss: 0.023828654550015926, Validation Loss: 0.027066871523857117\n",
      "Epoch 87, Training Loss: 0.024617951052884262, Validation Loss: 0.027359068393707275\n",
      "Epoch 88, Training Loss: 0.023891958718498547, Validation Loss: 0.03273717127740383\n",
      "Epoch 89, Training Loss: 0.023146836397548515, Validation Loss: 0.024871296249330044\n",
      "Epoch 90, Training Loss: 0.02302830448995034, Validation Loss: 0.030138098634779453\n",
      "Epoch 91, Training Loss: 0.021584622251490753, Validation Loss: 0.02248978056013584\n",
      "Epoch 92, Training Loss: 0.024338302823404472, Validation Loss: 0.026408235542476177\n",
      "Epoch 93, Training Loss: 0.024594064181049664, Validation Loss: 0.030251549556851387\n",
      "Epoch 94, Training Loss: 0.021034815969566505, Validation Loss: 0.02818191796541214\n",
      "Epoch 95, Training Loss: 0.020654518467684586, Validation Loss: 0.028931149281561375\n",
      "Epoch 96, Training Loss: 0.020030921790748835, Validation Loss: 0.019369726069271564\n",
      "Epoch 97, Training Loss: 0.02006127204125126, Validation Loss: 0.020808753557503223\n",
      "Epoch 98, Training Loss: 0.019520865753293037, Validation Loss: 0.018530494533479214\n",
      "Epoch 99, Training Loss: 0.019956753589212894, Validation Loss: 0.016678604297339916\n",
      "Epoch 100, Training Loss: 0.01752616496135791, Validation Loss: 0.022381965070962906\n"
     ]
    }
   ],
   "source": [
    "device = torch.device(\"cuda\" if torch.cuda.is_available() else \"cpu\")\n",
    "model = VGGishModel().to(device)\n",
    "criterion = nn.MSELoss()\n",
    "optimizer = torch.optim.Adam(model.parameters(), lr=1e-4)\n",
    "\n",
    "for epoch in range(100):\n",
    "    model.train()\n",
    "    running_loss = 0.0\n",
    "    for spectrograms, coordinates in train_loader:\n",
    "        spectrograms = spectrograms.to(device)\n",
    "        coordinates = coordinates.to(device)\n",
    "\n",
    "        optimizer.zero_grad()\n",
    "        outputs = model(spectrograms)\n",
    "        loss = criterion(outputs, coordinates)\n",
    "        loss.backward()\n",
    "        optimizer.step()\n",
    "        running_loss += loss.item()\n",
    "\n",
    "    model.eval()\n",
    "    validation_loss = 0.0\n",
    "    with torch.no_grad():\n",
    "        for spectrograms, coordinates in test_loader:\n",
    "            spectrograms = spectrograms.to(device)\n",
    "            coordinates = coordinates.to(device)\n",
    "\n",
    "            outputs = model(spectrograms)\n",
    "            loss = criterion(outputs, coordinates)\n",
    "            validation_loss += loss.item()\n",
    "\n",
    "    print(f\"Epoch {epoch+1}, Training Loss: {running_loss / len(train_loader)}, Validation Loss: {validation_loss / len(test_loader)}\")\n"
   ]
  },
  {
   "cell_type": "markdown",
   "metadata": {},
   "source": [
    "## Evaluating on the Human 2 dataset"
   ]
  },
  {
   "cell_type": "code",
   "execution_count": null,
   "metadata": {},
   "outputs": [
    {
     "name": "stdout",
     "output_type": "stream",
     "text": [
      "Average Distance Error: 479.9898824158726\n"
     ]
    },
    {
     "name": "stderr",
     "output_type": "stream",
     "text": [
      "/tmp/ipykernel_74749/3590247952.py:22: UserWarning: To copy construct from a tensor, it is recommended to use sourceTensor.clone().detach() or sourceTensor.clone().detach().requires_grad_(True), rather than torch.tensor(sourceTensor).\n",
      "  melspec = audio_to_melspectrogram(torch.tensor(audio_signal, dtype=torch.float32))\n",
      "/tmp/ipykernel_74749/371298476.py:5: UserWarning: To copy construct from a tensor, it is recommended to use sourceTensor.clone().detach() or sourceTensor.clone().detach().requires_grad_(True), rather than torch.tensor(sourceTensor).\n",
      "  audio = torch.tensor(audio, dtype=torch.float32)\n"
     ]
    }
   ],
   "source": [
    "model.eval()\n",
    "\n",
    "_max = np.array([500, 2000])\n",
    "_min = np.array([-4000, -4000])\n",
    "\n",
    "def unnormalize(x):\n",
    "    return (x + 1) / 2 * (_max - _min) + _min\n",
    "\n",
    "distance_errors = []\n",
    "\n",
    "for spectrograms, actual_coordinates in test_loader:\n",
    "    spectrograms = spectrograms.to(device)\n",
    "    actual_coordinates = actual_coordinates.to(device)\n",
    "    \n",
    "    with torch.no_grad():\n",
    "        predicted_coordinates = model(spectrograms)\n",
    "        predicted_coordinates = predicted_coordinates.cpu().numpy()\n",
    "        actual_coordinates = actual_coordinates.cpu().numpy()\n",
    "    \n",
    "    for pred, actual in zip(predicted_coordinates, actual_coordinates):\n",
    "        pred_unnorm = unnormalize(pred)\n",
    "        actual_unnorm = unnormalize(actual)\n",
    "        \n",
    "        distance = np.linalg.norm(pred_unnorm - actual_unnorm)\n",
    "        distance_errors.append(distance)\n",
    "\n",
    "average_distance_error = np.mean(distance_errors)\n",
    "\n",
    "print(\"Average Distance Error:\", average_distance_error)\n"
   ]
  }
 ],
 "metadata": {
  "kernelspec": {
   "display_name": "base",
   "language": "python",
   "name": "python3"
  },
  "language_info": {
   "codemirror_mode": {
    "name": "ipython",
    "version": 3
   },
   "file_extension": ".py",
   "mimetype": "text/x-python",
   "name": "python",
   "nbconvert_exporter": "python",
   "pygments_lexer": "ipython3",
   "version": "3.11.6"
  }
 },
 "nbformat": 4,
 "nbformat_minor": 2
}
