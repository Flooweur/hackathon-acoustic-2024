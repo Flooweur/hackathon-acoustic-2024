{
 "cells": [
  {
   "cell_type": "code",
   "execution_count": 1,
   "metadata": {},
   "outputs": [],
   "source": [
    "import numpy as np"
   ]
  },
  {
   "cell_type": "markdown",
   "metadata": {},
   "source": [
    "## Loading the human1 data"
   ]
  },
  {
   "cell_type": "code",
   "execution_count": 2,
   "metadata": {},
   "outputs": [
    {
     "data": {
      "text/plain": [
       "array([[[ 9.07240337e-06,  1.71257434e-05,  1.22597794e-05, ...,\n",
       "          8.86178623e-06,  1.40686043e-05,  1.06616626e-05],\n",
       "        [-8.23853679e-06, -8.23373648e-06, -8.74563466e-06, ...,\n",
       "          2.87394778e-06, -8.90485808e-06, -3.52464713e-06],\n",
       "        [ 6.62780906e-07, -1.40201587e-06,  1.83228190e-06, ...,\n",
       "         -1.06218545e-06,  8.53497477e-06,  2.28155182e-06],\n",
       "        [ 8.11119719e-07, -2.47451499e-06,  5.82140547e-06, ...,\n",
       "          7.73804004e-06,  2.29692650e-05,  1.10566034e-05]],\n",
       "\n",
       "       [[ 1.64466037e-05,  1.53698293e-05,  1.91599720e-05, ...,\n",
       "          1.76548729e-05,  1.70955263e-05,  1.41169767e-05],\n",
       "        [ 1.05826217e-07,  9.13145777e-06,  1.76140716e-07, ...,\n",
       "          1.21369967e-05,  1.55958387e-05,  1.23088676e-05],\n",
       "        [ 7.06836090e-06,  3.26818258e-06,  7.15508941e-06, ...,\n",
       "          4.64980394e-06,  8.96262554e-06,  6.55734584e-06],\n",
       "        [-3.18089551e-05, -8.93297238e-06, -2.51026504e-05, ...,\n",
       "         -7.02741545e-07,  1.34268867e-05,  3.24307348e-06]],\n",
       "\n",
       "       [[ 4.71092753e-05,  4.42863784e-05,  4.81883108e-05, ...,\n",
       "          5.11715079e-05,  4.54165129e-05,  4.68136932e-05],\n",
       "        [-2.25045878e-05, -1.77392903e-05, -2.29746092e-05, ...,\n",
       "         -1.16080564e-05, -1.33936874e-05, -1.49674725e-05],\n",
       "        [-7.06177207e-06, -3.24991493e-06, -3.82365158e-07, ...,\n",
       "         -2.51065717e-06, -8.64210142e-06, -1.25162501e-06],\n",
       "        [ 7.42783523e-05, -1.04295970e-04, -1.18935568e-04, ...,\n",
       "         -3.82503276e-05, -3.20346385e-06,  2.36954511e-05]],\n",
       "\n",
       "       ...,\n",
       "\n",
       "       [[-9.19931699e-06, -1.12566586e-05, -6.25403072e-06, ...,\n",
       "         -6.18328158e-06, -7.30752890e-06, -5.60423996e-06],\n",
       "        [-8.76535523e-06, -4.28911699e-06, -5.81078848e-06, ...,\n",
       "         -3.45416925e-06, -7.85465454e-06, -3.31127535e-06],\n",
       "        [-3.47633295e-06,  1.70215810e-06, -5.54926203e-07, ...,\n",
       "          1.27369481e-06, -1.74354363e-06,  1.86796979e-06],\n",
       "        [ 2.13691851e-06,  1.01367950e-05,  1.14066588e-05, ...,\n",
       "         -1.72935925e-05, -1.24792969e-05, -1.97716799e-05]],\n",
       "\n",
       "       [[-3.31293450e-06,  8.98478265e-06,  3.39539952e-06, ...,\n",
       "         -6.63729168e-07, -1.82116059e-06, -4.22379713e-07],\n",
       "        [ 2.46191144e-06,  2.05640094e-06,  3.69124427e-06, ...,\n",
       "          3.03227239e-06,  5.80062397e-06,  2.60468755e-06],\n",
       "        [ 2.60216098e-06,  3.06390689e-06, -6.06109268e-07, ...,\n",
       "          8.91660693e-06, -2.67310270e-06,  7.77940932e-06],\n",
       "        [-1.12466259e-05, -7.33926136e-05, -1.92652078e-05, ...,\n",
       "          1.02715085e-05, -1.49204689e-05, -1.85605404e-05]],\n",
       "\n",
       "       [[-2.18067839e-06, -8.45159684e-06,  6.28021041e-07, ...,\n",
       "         -7.29226031e-06, -9.38796529e-06, -1.06312000e-05],\n",
       "        [ 5.12593260e-06,  6.90264642e-06,  6.00208568e-06, ...,\n",
       "          2.50897233e-06, -1.04963137e-05, -1.37404015e-06],\n",
       "        [ 7.75929493e-06,  1.52079519e-06,  7.64413744e-06, ...,\n",
       "          2.97681993e-07,  9.32359671e-06, -5.47995626e-07],\n",
       "        [-4.47002685e-06,  5.33304410e-06,  8.83690245e-06, ...,\n",
       "          1.00034840e-05,  4.90839875e-06,  1.29770433e-05]]],\n",
       "      dtype=float32)"
      ]
     },
     "execution_count": 2,
     "metadata": {},
     "output_type": "execute_result"
    }
   ],
   "source": [
    "human1_deconv = np.load('data/LivingRoom_preprocessed_hack/Human1/deconvoled_trim.npy')\n",
    "human1_deconv"
   ]
  },
  {
   "cell_type": "code",
   "execution_count": 3,
   "metadata": {},
   "outputs": [
    {
     "data": {
      "text/plain": [
       "(1000, 4, 667200)"
      ]
     },
     "execution_count": 3,
     "metadata": {},
     "output_type": "execute_result"
    }
   ],
   "source": [
    "human1_deconv.shape"
   ]
  },
  {
   "cell_type": "code",
   "execution_count": 4,
   "metadata": {},
   "outputs": [
    {
     "data": {
      "text/plain": [
       "array([[-3231.3293467 , -1127.87771457],\n",
       "       [-3198.54107875,  -744.5100656 ],\n",
       "       [-3192.9776274 ,  -248.26678827],\n",
       "       ...,\n",
       "       [-1717.89923578, -3166.59648491],\n",
       "       [-1808.60337549, -2779.13038427],\n",
       "       [   44.43741322,   106.48353609]])"
      ]
     },
     "execution_count": 4,
     "metadata": {},
     "output_type": "execute_result"
    }
   ],
   "source": [
    "human1_centroid = np.load('data/LivingRoom_preprocessed_hack/Human1/centroid.npy')\n",
    "human1_centroid"
   ]
  },
  {
   "cell_type": "code",
   "execution_count": 5,
   "metadata": {},
   "outputs": [
    {
     "data": {
      "text/plain": [
       "(1000, 2)"
      ]
     },
     "execution_count": 5,
     "metadata": {},
     "output_type": "execute_result"
    }
   ],
   "source": [
    "human1_centroid.shape"
   ]
  },
  {
   "cell_type": "markdown",
   "metadata": {},
   "source": [
    "## Splitting the data into train and test sets"
   ]
  },
  {
   "cell_type": "code",
   "execution_count": 6,
   "metadata": {},
   "outputs": [],
   "source": [
    "from sklearn.model_selection import train_test_split\n",
    "import torch\n",
    "\n",
    "X_train, X_test, y_train, y_test = train_test_split(human1_deconv, human1_centroid, test_size=0.2, random_state=42)\n",
    "\n",
    "X_train, X_valid, y_train, y_valid = train_test_split(X_train, y_train, test_size=0.1, random_state=42)\n",
    "\n",
    "X_train = torch.Tensor(X_train)\n",
    "X_test = torch.Tensor(X_test)\n",
    "X_valid = torch.Tensor(X_valid)\n",
    "\n",
    "y_train = torch.Tensor(y_train)\n",
    "y_test = torch.Tensor(y_test)\n",
    "y_valid = torch.Tensor(y_valid)"
   ]
  },
  {
   "cell_type": "markdown",
   "metadata": {},
   "source": [
    "## Preprocessing the data"
   ]
  },
  {
   "cell_type": "markdown",
   "metadata": {},
   "source": [
    "### Featurization with the spectrogram"
   ]
  },
  {
   "cell_type": "code",
   "execution_count": 7,
   "metadata": {},
   "outputs": [],
   "source": [
    "import torchaudio\n",
    "import torchaudio.transforms as T\n",
    "\n",
    "def audio_to_spectrogram(audio, sample_rate=44100, n_fft=512, hop_length=512):\n",
    "    audio = torch.tensor(audio, dtype=torch.float32)\n",
    "    if audio.ndim == 1:\n",
    "        audio = audio.unsqueeze(0)\n",
    "    transformer = torchaudio.transforms.Spectrogram(n_fft=n_fft, hop_length=hop_length)\n",
    "    spectrogram = transformer(audio)\n",
    "    return spectrogram.squeeze(0)\n",
    "\n"
   ]
  },
  {
   "cell_type": "markdown",
   "metadata": {},
   "source": [
    "### Class to load the data into pytorch with DataLoader"
   ]
  },
  {
   "cell_type": "code",
   "execution_count": 8,
   "metadata": {},
   "outputs": [],
   "source": [
    "from torch.utils.data import Dataset, DataLoader\n",
    "\n",
    "class AudioDataset(Dataset):\n",
    "    def __init__(self, audio_data, labels, transform=None):\n",
    "        self.audio_data = audio_data\n",
    "        _max = torch.Tensor([500, 2000])\n",
    "        _min = torch.Tensor([-4000, -4000])\n",
    "        self.labels = (labels - _min) / (_max - _min)\n",
    "        self.transform = transform\n",
    "\n",
    "    def __len__(self):\n",
    "        return len(self.audio_data)\n",
    "\n",
    "    def __getitem__(self, idx):\n",
    "        audio_signal = self.audio_data[idx]\n",
    "        label = self.labels[idx]\n",
    "        if self.transform:\n",
    "            audio_signal = self.transform(audio_signal)\n",
    "        return audio_signal, label\n",
    "\n",
    "def transform_to_spectrogram(audio_signal):\n",
    "    spectrogram = audio_to_spectrogram(torch.tensor(audio_signal, dtype=torch.float32))\n",
    "    return spectrogram\n"
   ]
  },
  {
   "cell_type": "code",
   "execution_count": 9,
   "metadata": {},
   "outputs": [],
   "source": [
    "train_dataset = AudioDataset(X_train, y_train, transform=transform_to_spectrogram)\n",
    "test_dataset = AudioDataset(X_test, y_test, transform=transform_to_spectrogram)\n",
    "valid_dataset = AudioDataset(X_valid, y_valid, transform=transform_to_spectrogram)\n",
    "\n",
    "batch_size = 16\n",
    "\n",
    "train_loader = DataLoader(train_dataset, batch_size=batch_size, shuffle=True)\n",
    "test_loader = DataLoader(test_dataset, batch_size=batch_size, shuffle=False)\n",
    "valid_loader = DataLoader(valid_dataset, batch_size=batch_size, shuffle=False)"
   ]
  },
  {
   "cell_type": "code",
   "execution_count": 10,
   "metadata": {},
   "outputs": [
    {
     "data": {
      "text/plain": [
       "torch.Size([720, 4, 667200])"
      ]
     },
     "execution_count": 10,
     "metadata": {},
     "output_type": "execute_result"
    }
   ],
   "source": [
    "train_dataset.audio_data.shape"
   ]
  },
  {
   "cell_type": "markdown",
   "metadata": {},
   "source": [
    "## VGGish Model"
   ]
  },
  {
   "cell_type": "code",
   "execution_count": 11,
   "metadata": {},
   "outputs": [],
   "source": [
    "import torch.nn as nn\n",
    "import torch.nn.functional as F\n",
    "\n",
    "class VGGishModel(nn.Module):\n",
    "    def __init__(self):\n",
    "        super(VGGishModel, self).__init__()\n",
    "        self.featurization = nn.Sequential(\n",
    "            nn.Conv2d(4, 64, kernel_size=3, padding=1),\n",
    "            nn.ReLU(),\n",
    "            nn.MaxPool2d(kernel_size=2, stride=2),\n",
    "            nn.Conv2d(64, 128, kernel_size=3, padding=1),\n",
    "            nn.ReLU(),\n",
    "            nn.MaxPool2d(kernel_size=2, stride=2),\n",
    "            nn.Conv2d(128, 256, kernel_size=3, padding=1),\n",
    "            nn.ReLU(),\n",
    "            nn.Conv2d(256, 256, kernel_size=3, padding=1),\n",
    "            nn.ReLU(),\n",
    "            nn.MaxPool2d(kernel_size=2, stride=2),\n",
    "            nn.Conv2d(256, 512, kernel_size=3, padding=1),\n",
    "            nn.ReLU(),\n",
    "            nn.Conv2d(512, 512, kernel_size=3, padding=1),\n",
    "            nn.ReLU(),\n",
    "            nn.MaxPool2d(kernel_size=2, stride=2)\n",
    "        )\n",
    "        self.xy = nn.Sequential(\n",
    "            nn.Linear(663552, 4096),\n",
    "            nn.ReLU(),\n",
    "            nn.Dropout(0.5),\n",
    "            nn.Linear(4096, 4096),\n",
    "            nn.ReLU(),\n",
    "            nn.Dropout(0.5),\n",
    "            nn.Linear(4096, 2),\n",
    "            nn.Sigmoid()\n",
    "        )\n",
    "    \n",
    "    def forward(self, x):\n",
    "        x = self.featurization(x)\n",
    "        x = torch.flatten(x, 1)\n",
    "        x = self.xy(x)\n",
    "        return x\n"
   ]
  },
  {
   "cell_type": "markdown",
   "metadata": {},
   "source": [
    "### Training the model"
   ]
  },
  {
   "cell_type": "code",
   "execution_count": 12,
   "metadata": {},
   "outputs": [],
   "source": [
    "_max = np.array([500, 2000])\n",
    "_min = np.array([-4000, -4000])\n",
    "\n",
    "def unnormalize(x):\n",
    "    return (x + 1) / 2 * (_max - _min) + _min"
   ]
  },
  {
   "cell_type": "code",
   "execution_count": 13,
   "metadata": {},
   "outputs": [
    {
     "name": "stderr",
     "output_type": "stream",
     "text": [
      "/tmp/ipykernel_16333/3315628308.py:22: UserWarning: To copy construct from a tensor, it is recommended to use sourceTensor.clone().detach() or sourceTensor.clone().detach().requires_grad_(True), rather than torch.tensor(sourceTensor).\n",
      "  spectrogram = audio_to_spectrogram(torch.tensor(audio_signal, dtype=torch.float32))\n",
      "/tmp/ipykernel_16333/2110885916.py:5: UserWarning: To copy construct from a tensor, it is recommended to use sourceTensor.clone().detach() or sourceTensor.clone().detach().requires_grad_(True), rather than torch.tensor(sourceTensor).\n",
      "  audio = torch.tensor(audio, dtype=torch.float32)\n"
     ]
    },
    {
     "name": "stdout",
     "output_type": "stream",
     "text": [
      "Epoch 1, Training Loss: 0.055867642081446116, Validation Loss: 0.021435812975351628, Average Test Distance Error: 842.4814416886494, STD of Test Distance Errors: 309.19131924810796\n",
      "Epoch 2, Training Loss: 0.05540993760029475, Validation Loss: 0.02088792364184673, Average Test Distance Error: 852.3058042316181, STD of Test Distance Errors: 293.9342275920367\n",
      "Epoch 3, Training Loss: 0.055454624858167434, Validation Loss: 0.020827072744186107, Average Test Distance Error: 848.1332191251454, STD of Test Distance Errors: 297.74252456443816\n",
      "Epoch 4, Training Loss: 0.05533082576261626, Validation Loss: 0.020774230647545595, Average Test Distance Error: 848.1104464047812, STD of Test Distance Errors: 299.82072451413666\n",
      "Epoch 5, Training Loss: 0.05529400391711129, Validation Loss: 0.020771174763257686, Average Test Distance Error: 848.7905201998168, STD of Test Distance Errors: 299.2195905814392\n",
      "Epoch 6, Training Loss: 0.055260746594932346, Validation Loss: 0.020808734859411534, Average Test Distance Error: 850.9554477874475, STD of Test Distance Errors: 296.5855846848993\n",
      "Epoch 7, Training Loss: 0.055340219702985555, Validation Loss: 0.02080203191592143, Average Test Distance Error: 845.6016670099492, STD of Test Distance Errors: 309.2337887939295\n",
      "Epoch 8, Training Loss: 0.055344628459877435, Validation Loss: 0.020805011861599408, Average Test Distance Error: 845.978646871396, STD of Test Distance Errors: 302.8027210681903\n",
      "Epoch 9, Training Loss: 0.05539350062608719, Validation Loss: 0.02069065089409168, Average Test Distance Error: 848.7574634588011, STD of Test Distance Errors: 313.2530751069442\n",
      "Epoch 10, Training Loss: 0.05531876691513592, Validation Loss: 0.020812584803654596, Average Test Distance Error: 848.5914542041874, STD of Test Distance Errors: 297.76202065127325\n",
      "Epoch 11, Training Loss: 0.05534621700644493, Validation Loss: 0.020785144315316126, Average Test Distance Error: 847.2917322610991, STD of Test Distance Errors: 300.5424894998444\n",
      "Epoch 12, Training Loss: 0.05528684879342715, Validation Loss: 0.020812575633709248, Average Test Distance Error: 851.0227064375166, STD of Test Distance Errors: 296.43260456323725\n",
      "Epoch 13, Training Loss: 0.0554277000327905, Validation Loss: 0.02079420106915327, Average Test Distance Error: 850.5111352120307, STD of Test Distance Errors: 297.2501542607115\n",
      "Epoch 14, Training Loss: 0.055236058019929465, Validation Loss: 0.020763651109658755, Average Test Distance Error: 849.3203401108626, STD of Test Distance Errors: 299.1325029470777\n",
      "Epoch 15, Training Loss: 0.055351767026715806, Validation Loss: 0.02079818884913738, Average Test Distance Error: 848.2666282401894, STD of Test Distance Errors: 298.61483397345876\n",
      "Epoch 16, Training Loss: 0.0551713517970509, Validation Loss: 0.02079119304051766, Average Test Distance Error: 847.7546710290841, STD of Test Distance Errors: 299.53152652792426\n",
      "Epoch 17, Training Loss: 0.05516012186805407, Validation Loss: 0.020779720292641565, Average Test Distance Error: 847.4412518668125, STD of Test Distance Errors: 300.54733115539995\n",
      "Epoch 18, Training Loss: 0.05516088720824983, Validation Loss: 0.020770058322411317, Average Test Distance Error: 847.0674565829925, STD of Test Distance Errors: 301.83085453727796\n",
      "Epoch 19, Training Loss: 0.05514550341500176, Validation Loss: 0.020780594589618537, Average Test Distance Error: 846.9222156887627, STD of Test Distance Errors: 301.53540091382973\n",
      "Epoch 20, Training Loss: 0.05513116758730677, Validation Loss: 0.02076314790890767, Average Test Distance Error: 847.0348815366792, STD of Test Distance Errors: 302.36648844123283\n",
      "Epoch 21, Training Loss: 0.05512865086396535, Validation Loss: 0.020784661173820496, Average Test Distance Error: 846.9381454891686, STD of Test Distance Errors: 301.2703822111472\n",
      "Epoch 22, Training Loss: 0.05517076502243678, Validation Loss: 0.020754707260773733, Average Test Distance Error: 847.3987919837517, STD of Test Distance Errors: 302.07953644049365\n",
      "Epoch 23, Training Loss: 0.055152845796611574, Validation Loss: 0.02076261920424608, Average Test Distance Error: 847.0856277828606, STD of Test Distance Errors: 302.2751062726238\n",
      "Epoch 24, Training Loss: 0.055171084900697075, Validation Loss: 0.020789218636659477, Average Test Distance Error: 846.5897111877495, STD of Test Distance Errors: 301.86071300766645\n",
      "Epoch 25, Training Loss: 0.05513638655344645, Validation Loss: 0.020776998824798144, Average Test Distance Error: 846.9331402065181, STD of Test Distance Errors: 301.72206940235054\n",
      "Epoch 26, Training Loss: 0.05513984544409646, Validation Loss: 0.020779401637040652, Average Test Distance Error: 846.896292367699, STD of Test Distance Errors: 301.66629145478055\n",
      "Epoch 27, Training Loss: 0.05518845435645845, Validation Loss: 0.020774938739263095, Average Test Distance Error: 847.1031558097764, STD of Test Distance Errors: 301.4561784879431\n",
      "Epoch 28, Training Loss: 0.055157112247414056, Validation Loss: 0.02075891368664228, Average Test Distance Error: 847.2269539918896, STD of Test Distance Errors: 302.18444731266356\n",
      "Epoch 29, Training Loss: 0.05517621917857064, Validation Loss: 0.020785239166938342, Average Test Distance Error: 846.5421668105546, STD of Test Distance Errors: 302.23885361739923\n",
      "Epoch 30, Training Loss: 0.05517926754222976, Validation Loss: 0.020779003604100302, Average Test Distance Error: 847.2193581640894, STD of Test Distance Errors: 300.9901844886378\n",
      "Epoch 31, Training Loss: 0.055162022511164345, Validation Loss: 0.020770041128763787, Average Test Distance Error: 847.011259081261, STD of Test Distance Errors: 301.9644477994996\n",
      "Epoch 32, Training Loss: 0.05515479470292727, Validation Loss: 0.020782869595747728, Average Test Distance Error: 846.7584878276742, STD of Test Distance Errors: 301.79703840148653\n",
      "Epoch 33, Training Loss: 0.05515236225393083, Validation Loss: 0.020782022235485222, Average Test Distance Error: 846.9081223823491, STD of Test Distance Errors: 301.4832526060532\n",
      "Epoch 34, Training Loss: 0.05515691646271282, Validation Loss: 0.020772514434961174, Average Test Distance Error: 847.033392914735, STD of Test Distance Errors: 301.7526431643052\n",
      "Epoch 35, Training Loss: 0.05515244834952884, Validation Loss: 0.02076993338190592, Average Test Distance Error: 846.8822903576876, STD of Test Distance Errors: 302.2927672939269\n",
      "Epoch 36, Training Loss: 0.05518597977028953, Validation Loss: 0.020790944019189246, Average Test Distance Error: 846.9436441764437, STD of Test Distance Errors: 300.9177684015206\n",
      "Epoch 37, Training Loss: 0.05513911694288254, Validation Loss: 0.020781466307548378, Average Test Distance Error: 846.8569909637008, STD of Test Distance Errors: 301.61970362239094\n",
      "Epoch 38, Training Loss: 0.055168665448824566, Validation Loss: 0.02076246331517513, Average Test Distance Error: 847.198077391134, STD of Test Distance Errors: 301.97374498693546\n",
      "Epoch 39, Training Loss: 0.055182133283880025, Validation Loss: 0.020788460969924927, Average Test Distance Error: 846.8374900337825, STD of Test Distance Errors: 301.1802216462455\n",
      "Epoch 40, Training Loss: 0.055127309676673675, Validation Loss: 0.020769025270755474, Average Test Distance Error: 846.5911166086289, STD of Test Distance Errors: 302.5445363236435\n",
      "Epoch 41, Training Loss: 0.05517871826887131, Validation Loss: 0.020754437893629074, Average Test Distance Error: 846.7423062261012, STD of Test Distance Errors: 301.9825574288338\n",
      "Epoch 42, Training Loss: 0.05527006917529636, Validation Loss: 0.020786019471975472, Average Test Distance Error: 845.9778206579265, STD of Test Distance Errors: 302.91560218307797\n",
      "Epoch 43, Training Loss: 0.05533788965808021, Validation Loss: 0.02067800496633236, Average Test Distance Error: 843.504678124366, STD of Test Distance Errors: 299.8413571825122\n",
      "Epoch 44, Training Loss: 0.05012131763829125, Validation Loss: 0.01595357060432434, Average Test Distance Error: 732.5199683187235, STD of Test Distance Errors: 338.30168940710365\n",
      "Epoch 45, Training Loss: 0.042052585755785306, Validation Loss: 0.014022403898147436, Average Test Distance Error: 629.7231925434955, STD of Test Distance Errors: 323.19939254075723\n",
      "Epoch 46, Training Loss: 0.03741931567589442, Validation Loss: 0.014823422122460145, Average Test Distance Error: 684.0085099580432, STD of Test Distance Errors: 346.37531226033366\n",
      "Epoch 47, Training Loss: 0.03760321990897258, Validation Loss: 0.013400904547709685, Average Test Distance Error: 617.02909761416, STD of Test Distance Errors: 312.4786111689059\n",
      "Epoch 48, Training Loss: 0.03645317339234882, Validation Loss: 0.013086383732465597, Average Test Distance Error: 597.8430220374537, STD of Test Distance Errors: 298.9227415203599\n",
      "Epoch 49, Training Loss: 0.03439150009718206, Validation Loss: 0.014235007075163035, Average Test Distance Error: 598.9060416287217, STD of Test Distance Errors: 323.2347510455076\n",
      "Epoch 50, Training Loss: 0.031099066738453175, Validation Loss: 0.011512732563110499, Average Test Distance Error: 541.7393049831636, STD of Test Distance Errors: 289.89752717225815\n",
      "Epoch 51, Training Loss: 0.028201758571796947, Validation Loss: 0.010473850398109509, Average Test Distance Error: 518.7591118443644, STD of Test Distance Errors: 295.88977811585903\n",
      "Epoch 52, Training Loss: 0.023920142443643676, Validation Loss: 0.00853982438834814, Average Test Distance Error: 459.80425907605417, STD of Test Distance Errors: 312.9560817103919\n",
      "Epoch 53, Training Loss: 0.0220641006819076, Validation Loss: 0.0072436417238070415, Average Test Distance Error: 445.0916111322283, STD of Test Distance Errors: 282.61523316353333\n",
      "Epoch 54, Training Loss: 0.02161350877334674, Validation Loss: 0.00882787973834918, Average Test Distance Error: 461.3271345405353, STD of Test Distance Errors: 313.88288301128324\n",
      "Epoch 55, Training Loss: 0.019284781172043748, Validation Loss: 0.00718707713083579, Average Test Distance Error: 489.99283384294955, STD of Test Distance Errors: 273.70411607155614\n",
      "Epoch 56, Training Loss: 0.018103902869754367, Validation Loss: 0.006636355645381487, Average Test Distance Error: 447.5964013688868, STD of Test Distance Errors: 268.9817767794261\n",
      "Epoch 57, Training Loss: 0.017506602220237255, Validation Loss: 0.006071643688930915, Average Test Distance Error: 444.48298534549116, STD of Test Distance Errors: 262.9195155206642\n",
      "Epoch 58, Training Loss: 0.016018677761571273, Validation Loss: 0.006648201137208021, Average Test Distance Error: 436.3960257360068, STD of Test Distance Errors: 286.0246056735157\n",
      "Epoch 59, Training Loss: 0.014882265258994368, Validation Loss: 0.006993108643935277, Average Test Distance Error: 438.4510934620857, STD of Test Distance Errors: 279.3765041138358\n",
      "Epoch 60, Training Loss: 0.014071880922549301, Validation Loss: 0.006137255722513566, Average Test Distance Error: 410.9365983178406, STD of Test Distance Errors: 287.7824595063342\n",
      "Epoch 61, Training Loss: 0.013186094878862301, Validation Loss: 0.0055051661956195645, Average Test Distance Error: 398.047240402841, STD of Test Distance Errors: 262.5680670874173\n",
      "Epoch 62, Training Loss: 0.014765627154459556, Validation Loss: 0.008404717279168276, Average Test Distance Error: 470.1829619182156, STD of Test Distance Errors: 314.8108041903417\n",
      "Epoch 63, Training Loss: 0.013336967169824574, Validation Loss: 0.005192868733921876, Average Test Distance Error: 376.9467412560805, STD of Test Distance Errors: 259.16409377507813\n",
      "Epoch 64, Training Loss: 0.011376078561362293, Validation Loss: 0.006089215739988363, Average Test Distance Error: 410.43215523407775, STD of Test Distance Errors: 256.6646274164773\n",
      "Epoch 65, Training Loss: 0.011350351923869715, Validation Loss: 0.005161585859381235, Average Test Distance Error: 368.0664913986447, STD of Test Distance Errors: 255.92358248102522\n",
      "Epoch 66, Training Loss: 0.010786737129092217, Validation Loss: 0.0048203473337567766, Average Test Distance Error: 376.0343186612432, STD of Test Distance Errors: 255.95192075294975\n",
      "Epoch 67, Training Loss: 0.011034176736656163, Validation Loss: 0.00655585269515331, Average Test Distance Error: 460.8339531123383, STD of Test Distance Errors: 316.64133389814845\n",
      "Epoch 68, Training Loss: 0.010937961801472638, Validation Loss: 0.004717930434988095, Average Test Distance Error: 368.4592351006488, STD of Test Distance Errors: 254.27487832981726\n",
      "Epoch 69, Training Loss: 0.009629839513864782, Validation Loss: 0.004386211888721356, Average Test Distance Error: 368.1301399309655, STD of Test Distance Errors: 240.76240892481144\n",
      "Epoch 70, Training Loss: 0.009193271434762411, Validation Loss: 0.0041577227843495514, Average Test Distance Error: 356.9801893864674, STD of Test Distance Errors: 239.20298633016873\n",
      "Epoch 71, Training Loss: 0.00866045574657619, Validation Loss: 0.004490093865360205, Average Test Distance Error: 354.7301331288608, STD of Test Distance Errors: 241.29964322372004\n",
      "Epoch 72, Training Loss: 0.008499696291983128, Validation Loss: 0.004244117209544549, Average Test Distance Error: 361.24818987678293, STD of Test Distance Errors: 239.132729614632\n",
      "Epoch 73, Training Loss: 0.008348423346049256, Validation Loss: 0.00463724247394846, Average Test Distance Error: 364.600200579011, STD of Test Distance Errors: 245.95139883157685\n",
      "Epoch 74, Training Loss: 0.008103446165720622, Validation Loss: 0.004520196037796827, Average Test Distance Error: 346.5478007265903, STD of Test Distance Errors: 238.21774196092656\n",
      "Epoch 75, Training Loss: 0.0080341052212235, Validation Loss: 0.004447293969301077, Average Test Distance Error: 360.23538143916164, STD of Test Distance Errors: 226.39475481973892\n",
      "Epoch 76, Training Loss: 0.007244672005375226, Validation Loss: 0.004090087488293648, Average Test Distance Error: 363.7273851607359, STD of Test Distance Errors: 231.67783153937262\n",
      "Epoch 77, Training Loss: 0.007014377099565334, Validation Loss: 0.003983603718762214, Average Test Distance Error: 327.6311445365193, STD of Test Distance Errors: 215.95992381969495\n",
      "Epoch 78, Training Loss: 0.006869529958607422, Validation Loss: 0.004167310786075317, Average Test Distance Error: 329.1835286862543, STD of Test Distance Errors: 230.31099635064717\n",
      "Epoch 79, Training Loss: 0.007058571755058236, Validation Loss: 0.004057702966607534, Average Test Distance Error: 333.8254345221383, STD of Test Distance Errors: 225.74481868134285\n",
      "Epoch 80, Training Loss: 0.006430242743550076, Validation Loss: 0.004248807958971996, Average Test Distance Error: 338.56208907030924, STD of Test Distance Errors: 226.61348248385627\n",
      "Epoch 81, Training Loss: 0.00662590539496806, Validation Loss: 0.00372617795633582, Average Test Distance Error: 325.8660675027657, STD of Test Distance Errors: 209.12063607546295\n",
      "Epoch 82, Training Loss: 0.006308043215216862, Validation Loss: 0.0034963275091006206, Average Test Distance Error: 313.3736296814148, STD of Test Distance Errors: 213.07783869676575\n",
      "Epoch 83, Training Loss: 0.0055404672864824535, Validation Loss: 0.003453602118847462, Average Test Distance Error: 321.9729384677852, STD of Test Distance Errors: 204.69829860279134\n",
      "Epoch 84, Training Loss: 0.005596849560323689, Validation Loss: 0.003429591512450805, Average Test Distance Error: 313.53569629928217, STD of Test Distance Errors: 208.16488256859756\n",
      "Epoch 85, Training Loss: 0.005268939072266221, Validation Loss: 0.0036186035006092144, Average Test Distance Error: 330.13640940461585, STD of Test Distance Errors: 219.73629408383604\n",
      "Epoch 86, Training Loss: 0.005204667425197032, Validation Loss: 0.003044683987704607, Average Test Distance Error: 301.60981378783, STD of Test Distance Errors: 199.63884556554498\n",
      "Epoch 87, Training Loss: 0.004947466491204169, Validation Loss: 0.003555206940151178, Average Test Distance Error: 304.5455659226086, STD of Test Distance Errors: 215.90891273203937\n",
      "Epoch 88, Training Loss: 0.004870554452968968, Validation Loss: 0.0032859610823484566, Average Test Distance Error: 298.8750138775275, STD of Test Distance Errors: 209.1896603829778\n",
      "Epoch 89, Training Loss: 0.004910880394486917, Validation Loss: 0.003511432701578507, Average Test Distance Error: 303.23715736726473, STD of Test Distance Errors: 205.3555042429049\n",
      "Epoch 90, Training Loss: 0.004704016369457046, Validation Loss: 0.00362392461213928, Average Test Distance Error: 308.3440238054143, STD of Test Distance Errors: 218.26567290811062\n",
      "Epoch 91, Training Loss: 0.004723340034898785, Validation Loss: 0.0031679774133058693, Average Test Distance Error: 305.00065705703304, STD of Test Distance Errors: 201.4882811973484\n",
      "Epoch 92, Training Loss: 0.0042967494473689135, Validation Loss: 0.0032295650229431116, Average Test Distance Error: 294.6844675331695, STD of Test Distance Errors: 197.7342935070645\n",
      "Epoch 93, Training Loss: 0.004441702086478472, Validation Loss: 0.003221164600780377, Average Test Distance Error: 299.9928562434403, STD of Test Distance Errors: 206.94522948750003\n",
      "Epoch 94, Training Loss: 0.004053694728968872, Validation Loss: 0.0029327691389391054, Average Test Distance Error: 293.3483473952042, STD of Test Distance Errors: 201.2175782517729\n",
      "Epoch 95, Training Loss: 0.004036039419265257, Validation Loss: 0.00283416432256882, Average Test Distance Error: 287.56165605694105, STD of Test Distance Errors: 197.52236315090963\n",
      "Epoch 96, Training Loss: 0.003836729248157806, Validation Loss: 0.003311603616636533, Average Test Distance Error: 296.86277032574014, STD of Test Distance Errors: 214.93152525863385\n",
      "Epoch 97, Training Loss: 0.0036362862550756996, Validation Loss: 0.0032194861425803257, Average Test Distance Error: 304.0031462443131, STD of Test Distance Errors: 205.4356725598291\n",
      "Epoch 98, Training Loss: 0.003788520845895012, Validation Loss: 0.0029822245884973267, Average Test Distance Error: 283.90746516855654, STD of Test Distance Errors: 202.2140126342383\n",
      "Epoch 99, Training Loss: 0.0034435153602518967, Validation Loss: 0.003092586027028469, Average Test Distance Error: 283.2886545647853, STD of Test Distance Errors: 206.11476837060005\n",
      "Epoch 100, Training Loss: 0.003379565596373545, Validation Loss: 0.0029810394805211285, Average Test Distance Error: 281.93666034615626, STD of Test Distance Errors: 206.343209781183\n"
     ]
    }
   ],
   "source": [
    "device = torch.device(\"cuda\" if torch.cuda.is_available() else \"cpu\")\n",
    "model = VGGishModel().to(device)\n",
    "criterion = nn.MSELoss()\n",
    "optimizer = torch.optim.Adam(model.parameters(), lr=1e-4)\n",
    "\n",
    "for epoch in range(100):\n",
    "    model.train()\n",
    "    running_loss = 0.0\n",
    "    for spectrograms, coordinates in train_loader:\n",
    "        spectrograms = spectrograms.to(device)\n",
    "        coordinates = coordinates.to(device)\n",
    "\n",
    "        optimizer.zero_grad()\n",
    "        outputs = model(spectrograms)\n",
    "        loss = criterion(outputs, coordinates)\n",
    "        loss.backward()\n",
    "        optimizer.step()\n",
    "        running_loss += loss.item()\n",
    "\n",
    "    model.eval()\n",
    "    validation_loss = 0.0\n",
    "    with torch.no_grad():\n",
    "        for spectrograms, coordinates in valid_loader:\n",
    "            spectrograms = spectrograms.to(device)\n",
    "            coordinates = coordinates.to(device)\n",
    "\n",
    "            outputs = model(spectrograms)\n",
    "            loss = criterion(outputs, coordinates)\n",
    "            validation_loss += loss.item()\n",
    "\n",
    "        test_distances = []\n",
    "        for spectrograms, coordinates in test_loader:\n",
    "            spectrograms = spectrograms.to(device)\n",
    "            coordinates = coordinates.to(device)\n",
    "\n",
    "            outputs = model(spectrograms)\n",
    "            outputs = outputs.cpu().numpy()\n",
    "            coordinates = coordinates.cpu().numpy()\n",
    "\n",
    "            for pred, actual in zip(outputs, coordinates):\n",
    "                pred_unnorm = unnormalize(pred)\n",
    "                actual_unnorm = unnormalize(actual)\n",
    "                distance = np.linalg.norm(pred_unnorm - actual_unnorm)\n",
    "                test_distances.append(distance)\n",
    "\n",
    "    average_distance_error = np.mean(test_distances)\n",
    "    std_distance_error = np.std(test_distances)\n",
    "\n",
    "    print(f\"Epoch {epoch+1}, Training Loss: {running_loss / len(train_loader)}, \"\n",
    "          f\"Validation Loss: {validation_loss / len(test_loader)}, \"\n",
    "          f\"Average Test Distance Error: {average_distance_error}, \"\n",
    "          f\"STD of Test Distance Errors: {std_distance_error}\")"
   ]
  },
  {
   "cell_type": "markdown",
   "metadata": {},
   "source": [
    "## Evaluating the model"
   ]
  },
  {
   "cell_type": "code",
   "execution_count": 14,
   "metadata": {},
   "outputs": [
    {
     "name": "stderr",
     "output_type": "stream",
     "text": [
      "/tmp/ipykernel_16333/3315628308.py:22: UserWarning: To copy construct from a tensor, it is recommended to use sourceTensor.clone().detach() or sourceTensor.clone().detach().requires_grad_(True), rather than torch.tensor(sourceTensor).\n",
      "  spectrogram = audio_to_spectrogram(torch.tensor(audio_signal, dtype=torch.float32))\n",
      "/tmp/ipykernel_16333/2110885916.py:5: UserWarning: To copy construct from a tensor, it is recommended to use sourceTensor.clone().detach() or sourceTensor.clone().detach().requires_grad_(True), rather than torch.tensor(sourceTensor).\n",
      "  audio = torch.tensor(audio, dtype=torch.float32)\n"
     ]
    },
    {
     "name": "stdout",
     "output_type": "stream",
     "text": [
      "Average Distance Error: 281.93666034615626\n",
      "Standard Deviation of Distance Errors: 206.343209781183\n"
     ]
    }
   ],
   "source": [
    "model.eval()\n",
    "\n",
    "distance_errors = []\n",
    "\n",
    "for spectrograms, actual_coordinates in test_loader:\n",
    "    spectrograms = spectrograms.to(device)\n",
    "    actual_coordinates = actual_coordinates.to(device)\n",
    "    \n",
    "    with torch.no_grad():\n",
    "        predicted_coordinates = model(spectrograms)\n",
    "        predicted_coordinates = predicted_coordinates.cpu().numpy()\n",
    "        actual_coordinates = actual_coordinates.cpu().numpy()\n",
    "    \n",
    "    for pred, actual in zip(predicted_coordinates, actual_coordinates):\n",
    "        pred_unnorm = unnormalize(pred)\n",
    "        actual_unnorm = unnormalize(actual)\n",
    "        \n",
    "        distance = np.linalg.norm(pred_unnorm - actual_unnorm)\n",
    "        distance_errors.append(distance)\n",
    "\n",
    "average_distance_error = np.mean(distance_errors)\n",
    "\n",
    "print(\"Average Distance Error:\", average_distance_error)\n",
    "\n",
    "standard_deviation = np.std(distance_errors)\n",
    "\n",
    "print(\"Standard Deviation of Distance Errors:\", standard_deviation)"
   ]
  },
  {
   "cell_type": "markdown",
   "metadata": {},
   "source": [
    "## Loading the human2 dataset"
   ]
  },
  {
   "cell_type": "code",
   "execution_count": 15,
   "metadata": {},
   "outputs": [
    {
     "data": {
      "text/plain": [
       "array([[[ 1.32263867e-05,  4.04477396e-06,  1.72964337e-05, ...,\n",
       "          1.42459985e-05,  7.06920127e-06,  1.52228458e-05],\n",
       "        [ 1.66781626e-06,  4.13932912e-06,  4.92448726e-06, ...,\n",
       "          1.69338909e-05,  1.40092038e-06,  1.19383767e-05],\n",
       "        [ 1.15825042e-05,  4.49341405e-06,  1.40825741e-05, ...,\n",
       "          1.12802718e-05,  1.38609530e-05,  6.46868511e-06],\n",
       "        [-2.10553353e-05, -2.40086247e-05, -1.06697380e-05, ...,\n",
       "         -2.20970142e-05, -2.00329578e-05, -2.09568789e-05]],\n",
       "\n",
       "       [[-7.21401693e-06,  1.12978867e-07, -4.36823848e-06, ...,\n",
       "         -1.81246889e-06, -8.53981510e-06, -1.84635439e-06],\n",
       "        [ 1.36644203e-05,  2.30385322e-05,  1.24044136e-05, ...,\n",
       "          9.66903553e-06,  1.00616371e-05,  1.03869361e-05],\n",
       "        [ 2.78378029e-05,  1.38622945e-05,  2.71665067e-05, ...,\n",
       "          1.33699305e-05,  1.06378029e-05,  1.05457875e-05],\n",
       "        [ 1.15678056e-04,  1.64297759e-04,  5.92336910e-05, ...,\n",
       "          5.16751425e-05,  3.32121781e-05,  1.38982023e-05]],\n",
       "\n",
       "       [[-1.59124454e-06, -9.91511479e-06,  1.74267120e-06, ...,\n",
       "          3.94251998e-07,  2.68778354e-06,  2.13934914e-06],\n",
       "        [ 7.30616648e-06,  4.54986503e-06,  7.84721578e-06, ...,\n",
       "          1.06087164e-05,  1.44588432e-06,  9.16507815e-06],\n",
       "        [ 3.13707551e-06,  4.37415792e-06,  7.82795814e-06, ...,\n",
       "          7.21973765e-06,  1.20149498e-05,  5.69734175e-06],\n",
       "        [ 1.00595935e-05, -6.92771255e-06,  1.17938425e-05, ...,\n",
       "         -1.05910322e-05,  2.11578481e-06, -9.65056279e-06]],\n",
       "\n",
       "       ...,\n",
       "\n",
       "       [[-6.49007234e-06, -1.20259056e-05, -7.84140866e-06, ...,\n",
       "         -1.18712451e-05, -4.17982164e-06, -1.42443532e-05],\n",
       "        [ 1.02307922e-05,  1.11256786e-05,  1.15741532e-05, ...,\n",
       "          1.02063514e-05,  4.62145522e-07,  9.20632647e-06],\n",
       "        [ 2.82056408e-06,  4.39899986e-06,  5.47178161e-06, ...,\n",
       "         -5.49734023e-06,  5.39134453e-06, -7.68493919e-06],\n",
       "        [-1.09625707e-05, -1.49788875e-05, -5.78490426e-06, ...,\n",
       "         -1.18736443e-05, -1.38960777e-05, -5.34930450e-06]],\n",
       "\n",
       "       [[-7.78719696e-05, -7.28835148e-05, -7.53981658e-05, ...,\n",
       "         -7.64382203e-05, -7.63384596e-05, -7.56490990e-05],\n",
       "        [-1.66587870e-06,  6.98116719e-06, -6.07548202e-07, ...,\n",
       "         -3.65104711e-07, -3.64715243e-06, -6.02160208e-06],\n",
       "        [ 7.92054470e-06,  4.23502024e-06,  1.09544144e-05, ...,\n",
       "          7.53775021e-06,  5.11439339e-06,  1.01513324e-05],\n",
       "        [ 4.49684740e-05,  4.10416869e-05,  4.38610514e-05, ...,\n",
       "          2.11692368e-05,  1.37110801e-05,  2.55454015e-05]],\n",
       "\n",
       "       [[ 7.66158155e-06,  1.21757357e-05,  9.88330066e-06, ...,\n",
       "          8.46857438e-06,  1.20377481e-05,  1.00683746e-05],\n",
       "        [-2.58315595e-06,  2.60652246e-06, -3.87392993e-06, ...,\n",
       "         -8.74932084e-06, -1.92495445e-05, -6.75919409e-06],\n",
       "        [ 1.30914268e-05,  1.70151611e-06,  1.17290929e-05, ...,\n",
       "          4.16891271e-06,  5.02312048e-07,  3.46589354e-06],\n",
       "        [-5.54151302e-06, -2.73848468e-06, -1.76893282e-05, ...,\n",
       "         -2.06357549e-06, -1.13691669e-06, -2.21694208e-07]]],\n",
       "      dtype=float32)"
      ]
     },
     "execution_count": 15,
     "metadata": {},
     "output_type": "execute_result"
    }
   ],
   "source": [
    "human2_deconv = np.load('data/LivingRoom_preprocessed_hack/Human2/deconvoled_trim.npy')\n",
    "human2_deconv"
   ]
  },
  {
   "cell_type": "code",
   "execution_count": 16,
   "metadata": {},
   "outputs": [
    {
     "data": {
      "text/plain": [
       "(104, 4, 667200)"
      ]
     },
     "execution_count": 16,
     "metadata": {},
     "output_type": "execute_result"
    }
   ],
   "source": [
    "human2_deconv.shape"
   ]
  },
  {
   "cell_type": "code",
   "execution_count": 17,
   "metadata": {},
   "outputs": [
    {
     "data": {
      "text/plain": [
       "array([[-2406.85413008, -2443.62906004],\n",
       "       [-1923.16230038, -2504.30576997],\n",
       "       [-1615.29307549, -2525.71107555],\n",
       "       [-1234.84729435, -2581.21590946],\n",
       "       [ -906.89320474, -2648.96828851],\n",
       "       [ -579.82451164, -2563.38746474],\n",
       "       [ -258.89043633, -2501.99822189],\n",
       "       [ -237.00812692, -2957.79113999],\n",
       "       [ -608.16773853, -2894.26845589],\n",
       "       [ -920.67771947, -2892.68441764],\n",
       "       [-1177.38289287, -3050.12473983],\n",
       "       [-1690.95162773, -3023.00826184],\n",
       "       [-1968.49135428, -3048.59689339],\n",
       "       [-2401.44182176, -2925.40384273],\n",
       "       [-2626.65068051, -2353.52639219],\n",
       "       [-2945.10567004, -2270.29924636],\n",
       "       [-3288.80884616, -2179.77519901],\n",
       "       [-3543.43725461, -2122.72140672],\n",
       "       [-3818.97939345, -2074.06640841],\n",
       "       [-3787.00508742, -1745.78914635],\n",
       "       [-3440.47071217, -1786.24662486],\n",
       "       [-3126.89926719, -1778.7456592 ],\n",
       "       [-2780.8277654 , -1806.35696377],\n",
       "       [-2443.03492952, -1839.64542774],\n",
       "       [-2359.37110303, -1517.60616977],\n",
       "       [-2643.69001771, -1476.99863966],\n",
       "       [-3045.54399981, -1635.42668901],\n",
       "       [-3302.78792751, -1472.55710516],\n",
       "       [-3760.33837488, -1417.04328708],\n",
       "       [-4041.78587419, -1398.58686915],\n",
       "       [-3651.45722762, -1008.85761266],\n",
       "       [-3355.62188694, -1089.07882205],\n",
       "       [-3048.65658737, -1200.21177144],\n",
       "       [-2734.10489942, -1134.21199905],\n",
       "       [-2435.83186031, -1178.45429302],\n",
       "       [-2155.69607285, -1183.03153078],\n",
       "       [-1847.07850153, -1235.69062946],\n",
       "       [-1557.37560866, -1234.82759791],\n",
       "       [-1531.22328309, -1228.9545573 ],\n",
       "       [-1207.64306356, -1242.82564985],\n",
       "       [ -998.26096962, -1242.71378666],\n",
       "       [ -622.02513945, -1268.3093557 ],\n",
       "       [ -355.68967957, -1267.79753437],\n",
       "       [  -95.26894965, -1276.82377107],\n",
       "       [ -120.26384771, -1058.74805353],\n",
       "       [ -332.36265002, -1022.65309523],\n",
       "       [ -640.88424352, -1024.24696922],\n",
       "       [ -944.27035687,  -979.93555298],\n",
       "       [-1240.93341209,  -967.64966289],\n",
       "       [-1519.16112413,  -934.05588423],\n",
       "       [-1898.31291437,  -906.7704297 ],\n",
       "       [-2174.34009065,  -862.83519934],\n",
       "       [-2448.47165846,  -862.73729902],\n",
       "       [-2743.57430041,  -852.31660839],\n",
       "       [-3055.60116767,  -949.73624758],\n",
       "       [-3350.74501924,  -826.39623757],\n",
       "       [-3652.95673206,  -768.16921515],\n",
       "       [-4026.15742864,  -721.68769267],\n",
       "       [-4212.45524053,  -491.83103693],\n",
       "       [-3910.18060853,  -475.75206615],\n",
       "       [-3575.65161611,  -547.45314677],\n",
       "       [-3305.80330865,  -515.83720953],\n",
       "       [-3010.80451599,  -568.44553128],\n",
       "       [-2736.82840499,  -640.02346683],\n",
       "       [-2432.52236233,  -593.033447  ],\n",
       "       [-2118.32611622,  -608.1245535 ],\n",
       "       [-1842.72460939,  -610.68079444],\n",
       "       [-3180.87294097,    11.6457925 ],\n",
       "       [-2974.23113827,    51.43045306],\n",
       "       [-2675.1647806 ,    29.52612472],\n",
       "       [-2367.76165375,    16.76693426],\n",
       "       [-1998.05582416,   -24.53025921],\n",
       "       [-1494.81792534,     7.12123641],\n",
       "       [ -994.54752374,    17.99301039],\n",
       "       [ -538.13451818,   -43.14113727],\n",
       "       [ -133.59410862,   -44.02143921],\n",
       "       [ -296.63615487,   512.39135969],\n",
       "       [ -793.05686194,   542.30317284],\n",
       "       [-1271.43797693,   573.81320695],\n",
       "       [-1767.79202043,   612.59550976],\n",
       "       [-2348.34764957,   595.50337033],\n",
       "       [-3007.61226617,   712.21723471],\n",
       "       [-2930.96808593,  1256.13317503],\n",
       "       [-2316.53559434,  1123.38954864],\n",
       "       [-1679.50134433,  1099.96555737],\n",
       "       [-1042.58473051,  1009.9280883 ],\n",
       "       [ -665.15345651,   977.97257872],\n",
       "       [-3526.30838217,  -318.91208246],\n",
       "       [-2978.56597766,  -269.83433736],\n",
       "       [-2403.52308428,  -295.7705034 ],\n",
       "       [-1982.38114262,  -285.30077693],\n",
       "       [-3035.68912165,   401.38123903],\n",
       "       [-2313.41459509,   315.47103584],\n",
       "       [-1782.23700971,   240.29441206],\n",
       "       [-1171.39643252,   256.18655269],\n",
       "       [ -547.33577587,   237.51851395],\n",
       "       [  -13.17036956,   235.70076054],\n",
       "       [ -557.85356137,   703.38566361],\n",
       "       [-1000.85194532,   772.02964634],\n",
       "       [-1505.96410651,   815.53440699],\n",
       "       [-2122.85430173,   872.72639732],\n",
       "       [-2652.683178  ,   858.21826774],\n",
       "       [-3089.8571679 ,   970.63036148],\n",
       "       [-2537.70644544,   372.03539505]])"
      ]
     },
     "execution_count": 17,
     "metadata": {},
     "output_type": "execute_result"
    }
   ],
   "source": [
    "human2_centroid = np.load('data/LivingRoom_preprocessed_hack/Human2/centroid.npy')\n",
    "human2_centroid"
   ]
  },
  {
   "cell_type": "code",
   "execution_count": 18,
   "metadata": {},
   "outputs": [
    {
     "data": {
      "text/plain": [
       "(104, 2)"
      ]
     },
     "execution_count": 18,
     "metadata": {},
     "output_type": "execute_result"
    }
   ],
   "source": [
    "human2_centroid.shape"
   ]
  },
  {
   "cell_type": "code",
   "execution_count": 22,
   "metadata": {},
   "outputs": [],
   "source": [
    "from sklearn.model_selection import train_test_split\n",
    "import torch\n",
    "\n",
    "X_train, X_test, y_train, y_test = train_test_split(human2_deconv, human2_centroid, test_size=0.2, random_state=42)\n",
    "\n",
    "X_train, X_valid, y_train, y_valid = train_test_split(X_train, y_train, test_size=0.1, random_state=42)\n",
    "\n",
    "X_train = torch.Tensor(X_train)\n",
    "X_test = torch.Tensor(X_test)\n",
    "X_valid = torch.Tensor(X_valid)\n",
    "\n",
    "y_train = torch.Tensor(y_train)\n",
    "y_test = torch.Tensor(y_test)\n",
    "y_valid = torch.Tensor(y_valid)"
   ]
  },
  {
   "cell_type": "code",
   "execution_count": 23,
   "metadata": {},
   "outputs": [],
   "source": [
    "train_dataset = AudioDataset(X_train, y_train, transform=transform_to_spectrogram)\n",
    "test_dataset = AudioDataset(X_test, y_test, transform=transform_to_spectrogram)\n",
    "valid_dataset = AudioDataset(X_valid, y_valid, transform=transform_to_spectrogram)\n",
    "\n",
    "batch_size = 16\n",
    "\n",
    "train_loader = DataLoader(train_dataset, batch_size=batch_size, shuffle=True)\n",
    "test_loader = DataLoader(test_dataset, batch_size=batch_size, shuffle=False)\n",
    "valid_loader = DataLoader(valid_dataset, batch_size=batch_size, shuffle=False)"
   ]
  },
  {
   "cell_type": "markdown",
   "metadata": {},
   "source": [
    "## Training the model on the Human 2 dataset"
   ]
  },
  {
   "cell_type": "code",
   "execution_count": 24,
   "metadata": {},
   "outputs": [
    {
     "name": "stderr",
     "output_type": "stream",
     "text": [
      "/tmp/ipykernel_16333/3315628308.py:22: UserWarning: To copy construct from a tensor, it is recommended to use sourceTensor.clone().detach() or sourceTensor.clone().detach().requires_grad_(True), rather than torch.tensor(sourceTensor).\n",
      "  spectrogram = audio_to_spectrogram(torch.tensor(audio_signal, dtype=torch.float32))\n",
      "/tmp/ipykernel_16333/2110885916.py:5: UserWarning: To copy construct from a tensor, it is recommended to use sourceTensor.clone().detach() or sourceTensor.clone().detach().requires_grad_(True), rather than torch.tensor(sourceTensor).\n",
      "  audio = torch.tensor(audio, dtype=torch.float32)\n"
     ]
    },
    {
     "name": "stdout",
     "output_type": "stream",
     "text": [
      "Epoch 1, Training Loss: 0.05429715588688851, Validation Loss: 0.020894451066851616, Average Test Distance Error: 767.8091656259272, STD of Test Distance Errors: 266.1288780248299\n",
      "Epoch 2, Training Loss: 0.05549730062484741, Validation Loss: 0.01987491361796856, Average Test Distance Error: 731.2381329454306, STD of Test Distance Errors: 303.23103450534074\n",
      "Epoch 3, Training Loss: 0.052055714279413225, Validation Loss: 0.019450509920716286, Average Test Distance Error: 723.3648075445863, STD of Test Distance Errors: 306.0211233084338\n",
      "Epoch 4, Training Loss: 0.05097140073776245, Validation Loss: 0.018773585557937622, Average Test Distance Error: 736.9382842529832, STD of Test Distance Errors: 268.5877690107696\n",
      "Epoch 5, Training Loss: 0.05142726302146912, Validation Loss: 0.019939422607421875, Average Test Distance Error: 717.7546853517347, STD of Test Distance Errors: 326.73563882903227\n",
      "Epoch 6, Training Loss: 0.05094911083579064, Validation Loss: 0.019309967756271362, Average Test Distance Error: 732.7142037842901, STD of Test Distance Errors: 286.4510723287569\n",
      "Epoch 7, Training Loss: 0.05066404715180397, Validation Loss: 0.01971685327589512, Average Test Distance Error: 725.1374332618127, STD of Test Distance Errors: 309.4200670719921\n",
      "Epoch 8, Training Loss: 0.0505933441221714, Validation Loss: 0.019814858213067055, Average Test Distance Error: 723.9001095044189, STD of Test Distance Errors: 313.9158944162244\n",
      "Epoch 9, Training Loss: 0.05329975113272667, Validation Loss: 0.019403936341404915, Average Test Distance Error: 725.8808595347704, STD of Test Distance Errors: 300.5684171887212\n",
      "Epoch 10, Training Loss: 0.05116546005010605, Validation Loss: 0.019272377714514732, Average Test Distance Error: 730.2014849665748, STD of Test Distance Errors: 289.98819717422685\n",
      "Epoch 11, Training Loss: 0.05143982470035553, Validation Loss: 0.019629083573818207, Average Test Distance Error: 731.9180011763319, STD of Test Distance Errors: 295.65093533398937\n",
      "Epoch 12, Training Loss: 0.053898606449365616, Validation Loss: 0.021000485867261887, Average Test Distance Error: 724.1836997111072, STD of Test Distance Errors: 343.5625854685787\n",
      "Epoch 13, Training Loss: 0.052154507488012314, Validation Loss: 0.019480857998132706, Average Test Distance Error: 731.1538288859915, STD of Test Distance Errors: 293.2643753230457\n",
      "Epoch 14, Training Loss: 0.051349511742591857, Validation Loss: 0.019020088016986847, Average Test Distance Error: 736.6993853639303, STD of Test Distance Errors: 273.24769353436085\n",
      "Epoch 15, Training Loss: 0.05080669596791267, Validation Loss: 0.01922435499727726, Average Test Distance Error: 730.0443264739434, STD of Test Distance Errors: 289.1901832926649\n",
      "Epoch 16, Training Loss: 0.050840634107589724, Validation Loss: 0.019183790311217308, Average Test Distance Error: 729.3947488363041, STD of Test Distance Errors: 289.45860762336235\n",
      "Epoch 17, Training Loss: 0.050741957873106, Validation Loss: 0.01977931521832943, Average Test Distance Error: 720.6739362743904, STD of Test Distance Errors: 318.1676282089291\n",
      "Epoch 18, Training Loss: 0.0504296824336052, Validation Loss: 0.01934126392006874, Average Test Distance Error: 729.021424775088, STD of Test Distance Errors: 293.63670808359717\n",
      "Epoch 19, Training Loss: 0.04969997256994248, Validation Loss: 0.01974201202392578, Average Test Distance Error: 724.8538662611599, STD of Test Distance Errors: 310.52180554058054\n",
      "Epoch 20, Training Loss: 0.05098638236522675, Validation Loss: 0.019614189863204956, Average Test Distance Error: 721.0791796650346, STD of Test Distance Errors: 313.6785382880949\n",
      "Epoch 21, Training Loss: 0.05134277492761612, Validation Loss: 0.019067436456680298, Average Test Distance Error: 730.8702868653062, STD of Test Distance Errors: 284.4185809084087\n",
      "Epoch 22, Training Loss: 0.048896832019090654, Validation Loss: 0.01956942304968834, Average Test Distance Error: 722.9756905528855, STD of Test Distance Errors: 309.41451387173163\n",
      "Epoch 23, Training Loss: 0.05012493878602982, Validation Loss: 0.01968333125114441, Average Test Distance Error: 723.0232319132023, STD of Test Distance Errors: 312.05922511079405\n",
      "Epoch 24, Training Loss: 0.05106412023305893, Validation Loss: 0.019760634750127792, Average Test Distance Error: 723.30025069587, STD of Test Distance Errors: 313.5151374810859\n",
      "Epoch 25, Training Loss: 0.05249039977788925, Validation Loss: 0.019152548164129257, Average Test Distance Error: 731.3356998785623, STD of Test Distance Errors: 285.3494880608494\n",
      "Epoch 26, Training Loss: 0.053420156985521314, Validation Loss: 0.019242968410253525, Average Test Distance Error: 724.5223653922793, STD of Test Distance Errors: 299.538874154828\n",
      "Epoch 27, Training Loss: 0.052040450274944305, Validation Loss: 0.019704675301909447, Average Test Distance Error: 722.4578581240414, STD of Test Distance Errors: 313.50006496206873\n",
      "Epoch 28, Training Loss: 0.05109077095985413, Validation Loss: 0.019498173147439957, Average Test Distance Error: 727.8655366516722, STD of Test Distance Errors: 299.3782991400237\n",
      "Epoch 29, Training Loss: 0.05001949295401573, Validation Loss: 0.019309494644403458, Average Test Distance Error: 735.0324709805316, STD of Test Distance Errors: 282.3937552961569\n",
      "Epoch 30, Training Loss: 0.05220910683274269, Validation Loss: 0.01925012096762657, Average Test Distance Error: 739.8890598572558, STD of Test Distance Errors: 272.6447816450997\n",
      "Epoch 31, Training Loss: 0.050628583133220675, Validation Loss: 0.020045889541506767, Average Test Distance Error: 723.7197752535454, STD of Test Distance Errors: 320.1553005855437\n",
      "Epoch 32, Training Loss: 0.05236508548259735, Validation Loss: 0.0197267085313797, Average Test Distance Error: 720.9199745618034, STD of Test Distance Errors: 316.5294256039983\n",
      "Epoch 33, Training Loss: 0.051218729466199875, Validation Loss: 0.01894102804362774, Average Test Distance Error: 732.2332856800779, STD of Test Distance Errors: 279.5911579660476\n",
      "Epoch 34, Training Loss: 0.05229486376047134, Validation Loss: 0.018932418897747993, Average Test Distance Error: 733.5862888860804, STD of Test Distance Errors: 277.02015951633376\n",
      "Epoch 35, Training Loss: 0.051233533024787906, Validation Loss: 0.019562648609280586, Average Test Distance Error: 720.925397969859, STD of Test Distance Errors: 312.8233779534777\n",
      "Epoch 36, Training Loss: 0.05326203852891922, Validation Loss: 0.019909050315618515, Average Test Distance Error: 722.464174365706, STD of Test Distance Errors: 318.5626894224255\n",
      "Epoch 37, Training Loss: 0.050729139149188994, Validation Loss: 0.019881699234247208, Average Test Distance Error: 728.4399083081634, STD of Test Distance Errors: 308.17580152267556\n",
      "Epoch 38, Training Loss: 0.05073820650577545, Validation Loss: 0.019387444481253624, Average Test Distance Error: 733.513079275779, STD of Test Distance Errors: 286.8843609533248\n",
      "Epoch 39, Training Loss: 0.05125642791390419, Validation Loss: 0.019256677478551865, Average Test Distance Error: 731.7213738154169, STD of Test Distance Errors: 286.96498349230075\n",
      "Epoch 40, Training Loss: 0.050807425379753114, Validation Loss: 0.019399790093302727, Average Test Distance Error: 724.8579798070493, STD of Test Distance Errors: 302.26056534157266\n",
      "Epoch 41, Training Loss: 0.051090190559625624, Validation Loss: 0.01966392621397972, Average Test Distance Error: 721.0721993806654, STD of Test Distance Errors: 314.8188832950196\n",
      "Epoch 42, Training Loss: 0.051752614229917525, Validation Loss: 0.019541079178452492, Average Test Distance Error: 722.5088591059937, STD of Test Distance Errors: 309.55578924484973\n",
      "Epoch 43, Training Loss: 0.04910515211522579, Validation Loss: 0.01946978084743023, Average Test Distance Error: 726.2688765637766, STD of Test Distance Errors: 301.4403884185255\n",
      "Epoch 44, Training Loss: 0.04995333328843117, Validation Loss: 0.01967746391892433, Average Test Distance Error: 726.1174858456537, STD of Test Distance Errors: 306.796754077072\n",
      "Epoch 45, Training Loss: 0.04965573847293854, Validation Loss: 0.02032136358320713, Average Test Distance Error: 721.0651544833778, STD of Test Distance Errors: 331.0283825000545\n",
      "Epoch 46, Training Loss: 0.05108332633972168, Validation Loss: 0.020273787900805473, Average Test Distance Error: 721.5758640803058, STD of Test Distance Errors: 329.15809497098445\n",
      "Epoch 47, Training Loss: 0.05079618319869041, Validation Loss: 0.019478224217891693, Average Test Distance Error: 728.9891798764304, STD of Test Distance Errors: 296.9539157934773\n",
      "Epoch 48, Training Loss: 0.0522111713886261, Validation Loss: 0.019145241007208824, Average Test Distance Error: 736.0892180466442, STD of Test Distance Errors: 276.8796015235757\n",
      "Epoch 49, Training Loss: 0.05115007385611534, Validation Loss: 0.019397497177124023, Average Test Distance Error: 728.0341630739911, STD of Test Distance Errors: 296.6734725435814\n",
      "Epoch 50, Training Loss: 0.04928763210773468, Validation Loss: 0.01975598745048046, Average Test Distance Error: 721.4638953445444, STD of Test Distance Errors: 316.3441927449105\n",
      "Epoch 51, Training Loss: 0.050855730473995206, Validation Loss: 0.02037603035569191, Average Test Distance Error: 719.5037799951043, STD of Test Distance Errors: 334.33002263547996\n",
      "Epoch 52, Training Loss: 0.05087185353040695, Validation Loss: 0.020326796919107437, Average Test Distance Error: 720.2705334854825, STD of Test Distance Errors: 332.17425782813007\n",
      "Epoch 53, Training Loss: 0.05074865147471428, Validation Loss: 0.01952248625457287, Average Test Distance Error: 724.8496591807078, STD of Test Distance Errors: 305.12531232732164\n",
      "Epoch 54, Training Loss: 0.0506755143404007, Validation Loss: 0.01913314126431942, Average Test Distance Error: 732.8064832468083, STD of Test Distance Errors: 282.34438663903484\n",
      "Epoch 55, Training Loss: 0.050679606199264524, Validation Loss: 0.01920482888817787, Average Test Distance Error: 731.2594250021231, STD of Test Distance Errors: 286.6177613460246\n",
      "Epoch 56, Training Loss: 0.05207330510020256, Validation Loss: 0.019399423152208328, Average Test Distance Error: 725.2561439228512, STD of Test Distance Errors: 301.55467364540124\n",
      "Epoch 57, Training Loss: 0.051066641509532926, Validation Loss: 0.019710520282387733, Average Test Distance Error: 720.4558556425533, STD of Test Distance Errors: 316.92396960472513\n",
      "Epoch 58, Training Loss: 0.04939053952693939, Validation Loss: 0.019659066572785378, Average Test Distance Error: 722.553938238994, STD of Test Distance Errors: 312.243424078365\n",
      "Epoch 59, Training Loss: 0.05004563853144646, Validation Loss: 0.019813213497400284, Average Test Distance Error: 723.3769727936982, STD of Test Distance Errors: 314.71070918190793\n",
      "Epoch 60, Training Loss: 0.05026151761412621, Validation Loss: 0.01942426711320877, Average Test Distance Error: 726.7123569733983, STD of Test Distance Errors: 299.59786688231793\n",
      "Epoch 61, Training Loss: 0.05054057613015175, Validation Loss: 0.019343316555023193, Average Test Distance Error: 727.7137279619992, STD of Test Distance Errors: 295.97214900027865\n",
      "Epoch 62, Training Loss: 0.05008963569998741, Validation Loss: 0.01972716674208641, Average Test Distance Error: 721.8408959011347, STD of Test Distance Errors: 315.04372524598904\n",
      "Epoch 63, Training Loss: 0.05125339031219482, Validation Loss: 0.019497940316796303, Average Test Distance Error: 724.9359727134354, STD of Test Distance Errors: 304.39545298232974\n",
      "Epoch 64, Training Loss: 0.05063858702778816, Validation Loss: 0.019646966829895973, Average Test Distance Error: 724.0183922818944, STD of Test Distance Errors: 309.53172585750104\n",
      "Epoch 65, Training Loss: 0.05114603936672211, Validation Loss: 0.019400065764784813, Average Test Distance Error: 726.5246563066491, STD of Test Distance Errors: 299.3582541951816\n",
      "Epoch 66, Training Loss: 0.050729211419820786, Validation Loss: 0.019515398889780045, Average Test Distance Error: 723.9247017383934, STD of Test Distance Errors: 306.535472936868\n",
      "Epoch 67, Training Loss: 0.05279598832130432, Validation Loss: 0.019527623429894447, Average Test Distance Error: 724.7526405632221, STD of Test Distance Errors: 305.41296216078433\n",
      "Epoch 68, Training Loss: 0.05082891508936882, Validation Loss: 0.019303107634186745, Average Test Distance Error: 729.1733556178867, STD of Test Distance Errors: 292.49220848970157\n",
      "Epoch 69, Training Loss: 0.050273431837558745, Validation Loss: 0.01943327486515045, Average Test Distance Error: 725.6446333611789, STD of Test Distance Errors: 301.65810499145596\n",
      "Epoch 70, Training Loss: 0.0522256962954998, Validation Loss: 0.019568532705307007, Average Test Distance Error: 722.5838774212966, STD of Test Distance Errors: 310.05858476781106\n",
      "Epoch 71, Training Loss: 0.049715287238359454, Validation Loss: 0.019323671236634254, Average Test Distance Error: 727.1069532994924, STD of Test Distance Errors: 296.5897746840122\n",
      "Epoch 72, Training Loss: 0.05092041790485382, Validation Loss: 0.019540803506970406, Average Test Distance Error: 725.29233443582, STD of Test Distance Errors: 304.8121148089974\n",
      "Epoch 73, Training Loss: 0.050278181582689284, Validation Loss: 0.019680917263031006, Average Test Distance Error: 724.6681343686384, STD of Test Distance Errors: 309.2951030824021\n",
      "Epoch 74, Training Loss: 0.048613736778497695, Validation Loss: 0.019616708159446716, Average Test Distance Error: 725.5103250082136, STD of Test Distance Errors: 306.2979455462141\n",
      "Epoch 75, Training Loss: 0.05070568174123764, Validation Loss: 0.019521284848451614, Average Test Distance Error: 725.411518707254, STD of Test Distance Errors: 304.13954361873016\n",
      "Epoch 76, Training Loss: 0.05132477730512619, Validation Loss: 0.01970810629427433, Average Test Distance Error: 721.423239680742, STD of Test Distance Errors: 315.2674645881154\n",
      "Epoch 77, Training Loss: 0.0509892426431179, Validation Loss: 0.019312353804707527, Average Test Distance Error: 726.9083846039, STD of Test Distance Errors: 296.685413634868\n",
      "Epoch 78, Training Loss: 0.05034104138612747, Validation Loss: 0.019324319437146187, Average Test Distance Error: 727.8091960925553, STD of Test Distance Errors: 295.37020844509675\n",
      "Epoch 79, Training Loss: 0.05082998275756836, Validation Loss: 0.019664674997329712, Average Test Distance Error: 723.7540299611419, STD of Test Distance Errors: 310.4023487964809\n",
      "Epoch 80, Training Loss: 0.050125423818826675, Validation Loss: 0.019756870344281197, Average Test Distance Error: 722.2068841506634, STD of Test Distance Errors: 315.17581727377797\n",
      "Epoch 81, Training Loss: 0.051885975152254106, Validation Loss: 0.0193486250936985, Average Test Distance Error: 728.1065543540302, STD of Test Distance Errors: 295.4066384979909\n",
      "Epoch 82, Training Loss: 0.05145831182599068, Validation Loss: 0.019606467336416245, Average Test Distance Error: 724.2312961639336, STD of Test Distance Errors: 308.18932619617266\n",
      "Epoch 83, Training Loss: 0.050135520100593564, Validation Loss: 0.019517196342349052, Average Test Distance Error: 727.6486374139465, STD of Test Distance Errors: 300.2153065191475\n",
      "Epoch 84, Training Loss: 0.050495270639657974, Validation Loss: 0.01983650214970112, Average Test Distance Error: 723.8191335545196, STD of Test Distance Errors: 314.59502418550255\n",
      "Epoch 85, Training Loss: 0.05108770504593849, Validation Loss: 0.019842535257339478, Average Test Distance Error: 722.9822962443222, STD of Test Distance Errors: 316.0750244301593\n",
      "Epoch 86, Training Loss: 0.050820595026016234, Validation Loss: 0.01948488876223564, Average Test Distance Error: 726.8735779775101, STD of Test Distance Errors: 300.7621334961572\n",
      "Epoch 87, Training Loss: 0.05099650621414185, Validation Loss: 0.019437555223703384, Average Test Distance Error: 728.3133447526948, STD of Test Distance Errors: 297.1401954323973\n",
      "Epoch 88, Training Loss: 0.05223783254623413, Validation Loss: 0.019206685945391655, Average Test Distance Error: 733.1157716008272, STD of Test Distance Errors: 283.39994467152536\n",
      "Epoch 89, Training Loss: 0.051760581135749814, Validation Loss: 0.01937243342399597, Average Test Distance Error: 727.849729512922, STD of Test Distance Errors: 296.40696332050703\n",
      "Epoch 90, Training Loss: 0.05153328031301498, Validation Loss: 0.019794629886746407, Average Test Distance Error: 722.6809998985686, STD of Test Distance Errors: 315.3515458373381\n",
      "Epoch 91, Training Loss: 0.04803904183208942, Validation Loss: 0.02001159079372883, Average Test Distance Error: 720.5941025380768, STD of Test Distance Errors: 323.927203257577\n",
      "Epoch 92, Training Loss: 0.0510899506509304, Validation Loss: 0.01979375258088112, Average Test Distance Error: 722.7230716998451, STD of Test Distance Errors: 315.262530840356\n",
      "Epoch 93, Training Loss: 0.05076894313097, Validation Loss: 0.020015409216284752, Average Test Distance Error: 721.5360910767586, STD of Test Distance Errors: 322.6468945860809\n",
      "Epoch 94, Training Loss: 0.05181330963969231, Validation Loss: 0.01929522678256035, Average Test Distance Error: 729.4441999312448, STD of Test Distance Errors: 291.8362621288263\n",
      "Epoch 95, Training Loss: 0.05075322315096855, Validation Loss: 0.01908591017127037, Average Test Distance Error: 733.3532571534756, STD of Test Distance Errors: 280.3941638935996\n",
      "Epoch 96, Training Loss: 0.05020509958267212, Validation Loss: 0.01917942240834236, Average Test Distance Error: 729.0873043418472, STD of Test Distance Errors: 289.9123762142666\n",
      "Epoch 97, Training Loss: 0.049691662192344666, Validation Loss: 0.019510624930262566, Average Test Distance Error: 724.0027284406576, STD of Test Distance Errors: 306.2894981970175\n",
      "Epoch 98, Training Loss: 0.05051135495305061, Validation Loss: 0.019696179777383804, Average Test Distance Error: 722.0782746204904, STD of Test Distance Errors: 313.9123396318992\n",
      "Epoch 99, Training Loss: 0.050269870460033415, Validation Loss: 0.019532477483153343, Average Test Distance Error: 723.6350645269056, STD of Test Distance Errors: 307.4283441968651\n",
      "Epoch 100, Training Loss: 0.05091245621442795, Validation Loss: 0.019384153187274933, Average Test Distance Error: 727.0323383170221, STD of Test Distance Errors: 298.10366423587783\n"
     ]
    }
   ],
   "source": [
    "device = torch.device(\"cuda\" if torch.cuda.is_available() else \"cpu\")\n",
    "model = VGGishModel().to(device)\n",
    "criterion = nn.MSELoss()\n",
    "optimizer = torch.optim.Adam(model.parameters(), lr=1e-4)\n",
    "\n",
    "for epoch in range(100):\n",
    "    model.train()\n",
    "    running_loss = 0.0\n",
    "    for spectrograms, coordinates in train_loader:\n",
    "        spectrograms = spectrograms.to(device)\n",
    "        coordinates = coordinates.to(device)\n",
    "\n",
    "        optimizer.zero_grad()\n",
    "        outputs = model(spectrograms)\n",
    "        loss = criterion(outputs, coordinates)\n",
    "        loss.backward()\n",
    "        optimizer.step()\n",
    "        running_loss += loss.item()\n",
    "\n",
    "    model.eval()\n",
    "    validation_loss = 0.0\n",
    "    with torch.no_grad():\n",
    "        for spectrograms, coordinates in valid_loader:\n",
    "            spectrograms = spectrograms.to(device)\n",
    "            coordinates = coordinates.to(device)\n",
    "\n",
    "            outputs = model(spectrograms)\n",
    "            loss = criterion(outputs, coordinates)\n",
    "            validation_loss += loss.item()\n",
    "\n",
    "        test_distances = []\n",
    "        for spectrograms, coordinates in test_loader:\n",
    "            spectrograms = spectrograms.to(device)\n",
    "            coordinates = coordinates.to(device)\n",
    "\n",
    "            outputs = model(spectrograms)\n",
    "            outputs = outputs.cpu().numpy()\n",
    "            coordinates = coordinates.cpu().numpy()\n",
    "\n",
    "            for pred, actual in zip(outputs, coordinates):\n",
    "                pred_unnorm = unnormalize(pred)\n",
    "                actual_unnorm = unnormalize(actual)\n",
    "                distance = np.linalg.norm(pred_unnorm - actual_unnorm)\n",
    "                test_distances.append(distance)\n",
    "\n",
    "    average_distance_error = np.mean(test_distances)\n",
    "    std_distance_error = np.std(test_distances)\n",
    "\n",
    "    print(f\"Epoch {epoch+1}, Training Loss: {running_loss / len(train_loader)}, \"\n",
    "          f\"Validation Loss: {validation_loss / len(test_loader)}, \"\n",
    "          f\"Average Test Distance Error: {average_distance_error}, \"\n",
    "          f\"STD of Test Distance Errors: {std_distance_error}\")"
   ]
  },
  {
   "cell_type": "markdown",
   "metadata": {},
   "source": [
    "## Evaluating on the Human 2 dataset"
   ]
  },
  {
   "cell_type": "code",
   "execution_count": 25,
   "metadata": {},
   "outputs": [
    {
     "name": "stdout",
     "output_type": "stream",
     "text": [
      "Average Distance Error: 727.0323383170221\n"
     ]
    },
    {
     "name": "stderr",
     "output_type": "stream",
     "text": [
      "/tmp/ipykernel_16333/3315628308.py:22: UserWarning: To copy construct from a tensor, it is recommended to use sourceTensor.clone().detach() or sourceTensor.clone().detach().requires_grad_(True), rather than torch.tensor(sourceTensor).\n",
      "  spectrogram = audio_to_spectrogram(torch.tensor(audio_signal, dtype=torch.float32))\n",
      "/tmp/ipykernel_16333/2110885916.py:5: UserWarning: To copy construct from a tensor, it is recommended to use sourceTensor.clone().detach() or sourceTensor.clone().detach().requires_grad_(True), rather than torch.tensor(sourceTensor).\n",
      "  audio = torch.tensor(audio, dtype=torch.float32)\n"
     ]
    }
   ],
   "source": [
    "model.eval()\n",
    "\n",
    "_max = np.array([500, 2000])\n",
    "_min = np.array([-4000, -4000])\n",
    "\n",
    "def unnormalize(x):\n",
    "    return (x + 1) / 2 * (_max - _min) + _min\n",
    "\n",
    "distance_errors = []\n",
    "\n",
    "for spectrograms, actual_coordinates in test_loader:\n",
    "    spectrograms = spectrograms.to(device)\n",
    "    actual_coordinates = actual_coordinates.to(device)\n",
    "    \n",
    "    with torch.no_grad():\n",
    "        predicted_coordinates = model(spectrograms)\n",
    "        predicted_coordinates = predicted_coordinates.cpu().numpy()\n",
    "        actual_coordinates = actual_coordinates.cpu().numpy()\n",
    "    \n",
    "    for pred, actual in zip(predicted_coordinates, actual_coordinates):\n",
    "        pred_unnorm = unnormalize(pred)\n",
    "        actual_unnorm = unnormalize(actual)\n",
    "        \n",
    "        distance = np.linalg.norm(pred_unnorm - actual_unnorm)\n",
    "        distance_errors.append(distance)\n",
    "\n",
    "average_distance_error = np.mean(distance_errors)\n",
    "\n",
    "print(\"Average Distance Error:\", average_distance_error)\n"
   ]
  },
  {
   "cell_type": "code",
   "execution_count": 26,
   "metadata": {},
   "outputs": [
    {
     "name": "stdout",
     "output_type": "stream",
     "text": [
      "Average Distance Error: 727.0323383170221\n",
      "Standard Deviation of Distance Errors: 298.10366423587783\n"
     ]
    },
    {
     "name": "stderr",
     "output_type": "stream",
     "text": [
      "/tmp/ipykernel_16333/3315628308.py:22: UserWarning: To copy construct from a tensor, it is recommended to use sourceTensor.clone().detach() or sourceTensor.clone().detach().requires_grad_(True), rather than torch.tensor(sourceTensor).\n",
      "  spectrogram = audio_to_spectrogram(torch.tensor(audio_signal, dtype=torch.float32))\n",
      "/tmp/ipykernel_16333/2110885916.py:5: UserWarning: To copy construct from a tensor, it is recommended to use sourceTensor.clone().detach() or sourceTensor.clone().detach().requires_grad_(True), rather than torch.tensor(sourceTensor).\n",
      "  audio = torch.tensor(audio, dtype=torch.float32)\n"
     ]
    }
   ],
   "source": [
    "model.eval()\n",
    "\n",
    "distance_errors = []\n",
    "\n",
    "for spectrograms, actual_coordinates in test_loader:\n",
    "    spectrograms = spectrograms.to(device)\n",
    "    actual_coordinates = actual_coordinates.to(device)\n",
    "    \n",
    "    with torch.no_grad():\n",
    "        predicted_coordinates = model(spectrograms)\n",
    "        predicted_coordinates = predicted_coordinates.cpu().numpy()\n",
    "        actual_coordinates = actual_coordinates.cpu().numpy()\n",
    "    \n",
    "    for pred, actual in zip(predicted_coordinates, actual_coordinates):\n",
    "        pred_unnorm = unnormalize(pred)\n",
    "        actual_unnorm = unnormalize(actual)\n",
    "        \n",
    "        distance = np.linalg.norm(pred_unnorm - actual_unnorm)\n",
    "        distance_errors.append(distance)\n",
    "\n",
    "average_distance_error = np.mean(distance_errors)\n",
    "\n",
    "print(\"Average Distance Error:\", average_distance_error)\n",
    "\n",
    "standard_deviation = np.std(distance_errors)\n",
    "\n",
    "print(\"Standard Deviation of Distance Errors:\", standard_deviation)"
   ]
  }
 ],
 "metadata": {
  "kernelspec": {
   "display_name": "base",
   "language": "python",
   "name": "python3"
  },
  "language_info": {
   "codemirror_mode": {
    "name": "ipython",
    "version": 3
   },
   "file_extension": ".py",
   "mimetype": "text/x-python",
   "name": "python",
   "nbconvert_exporter": "python",
   "pygments_lexer": "ipython3",
   "version": "3.11.6"
  }
 },
 "nbformat": 4,
 "nbformat_minor": 2
}
